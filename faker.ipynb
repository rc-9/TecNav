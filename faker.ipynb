{
 "cells": [
  {
   "cell_type": "markdown",
   "metadata": {},
   "source": [
    "# PART 1: DATA GENERATOR\n",
    "\n",
    "**Objective:** This notebook executes the necessary steps to strategically generate a set of fabricated data to be used down the project pipeline.\n",
    "\n",
    "---"
   ]
  },
  {
   "cell_type": "code",
   "execution_count": 431,
   "metadata": {},
   "outputs": [],
   "source": [
    "# Data Management\n",
    "import pandas as pd\n",
    "\n",
    "# Data Manipulation\n",
    "import numpy as np\n",
    "import datetime\n",
    "from faker import Faker\n",
    "from random import shuffle\n",
    "from scipy.stats import truncnorm\n",
    "from datetime import timedelta\n",
    "\n",
    "# Visualization\n",
    "import matplotlib.pyplot as plt\n",
    "import seaborn as sns\n",
    "import plotly.express as px\n",
    "\n",
    "# Utils\n",
    "%matplotlib inline\n"
   ]
  },
  {
   "cell_type": "code",
   "execution_count": 432,
   "metadata": {},
   "outputs": [],
   "source": [
    "fake = Faker()"
   ]
  },
  {
   "cell_type": "markdown",
   "metadata": {},
   "source": [
    "## 1A: Clinic Information\n",
    "\n",
    "Objective: Generate a dataset consisting of clinic names, locations, and distances.\n",
    "\n",
    "---"
   ]
  },
  {
   "cell_type": "code",
   "execution_count": 433,
   "metadata": {},
   "outputs": [],
   "source": [
    "# Latitude / Longitude / Shortest-Distance information was retrieved from Google Maps \n",
    "\n",
    "cities = ['denver', 'edgewater', 'wheatridge', 'rino', 'lakewood']\n",
    "clinics_df = pd.DataFrame({\n",
    "    'to_denver': [0, 5, 6.3, 1.9, 7.5],\n",
    "    'to_edgewater': [5.1, 0, 2, 7.8, 4.3],\n",
    "    'to_wheatridge': [6.3, 2, 0, 7.5, 12],\n",
    "    'to_rino':[2, 7.7, 7.8, 0, 11],\n",
    "    'to_lakewood':[8, 4.4, 4.8, 10.7, 0]},\n",
    "    index=cities) \n",
    "\n",
    "clinics_df['lat'] = [39.73906432357836, 39.753954449845445, 39.76685732722651, 39.767327859566265, 39.70455155721396]\n",
    "clinics_df['lon'] = [-104.98969659655802, -105.06778796142915, -105.08198265044479, -104.98113186098168, -105.0798829449297]"
   ]
  },
  {
   "cell_type": "code",
   "execution_count": 434,
   "metadata": {},
   "outputs": [
    {
     "data": {
      "text/html": [
       "<div>\n",
       "<style scoped>\n",
       "    .dataframe tbody tr th:only-of-type {\n",
       "        vertical-align: middle;\n",
       "    }\n",
       "\n",
       "    .dataframe tbody tr th {\n",
       "        vertical-align: top;\n",
       "    }\n",
       "\n",
       "    .dataframe thead th {\n",
       "        text-align: right;\n",
       "    }\n",
       "</style>\n",
       "<table border=\"1\" class=\"dataframe\">\n",
       "  <thead>\n",
       "    <tr style=\"text-align: right;\">\n",
       "      <th></th>\n",
       "      <th>to_denver</th>\n",
       "      <th>to_edgewater</th>\n",
       "      <th>to_wheatridge</th>\n",
       "      <th>to_rino</th>\n",
       "      <th>to_lakewood</th>\n",
       "      <th>lat</th>\n",
       "      <th>lon</th>\n",
       "    </tr>\n",
       "  </thead>\n",
       "  <tbody>\n",
       "    <tr>\n",
       "      <th>denver</th>\n",
       "      <td>0.0</td>\n",
       "      <td>5.1</td>\n",
       "      <td>6.3</td>\n",
       "      <td>2.0</td>\n",
       "      <td>8.0</td>\n",
       "      <td>39.739064</td>\n",
       "      <td>-104.989697</td>\n",
       "    </tr>\n",
       "    <tr>\n",
       "      <th>edgewater</th>\n",
       "      <td>5.0</td>\n",
       "      <td>0.0</td>\n",
       "      <td>2.0</td>\n",
       "      <td>7.7</td>\n",
       "      <td>4.4</td>\n",
       "      <td>39.753954</td>\n",
       "      <td>-105.067788</td>\n",
       "    </tr>\n",
       "    <tr>\n",
       "      <th>wheatridge</th>\n",
       "      <td>6.3</td>\n",
       "      <td>2.0</td>\n",
       "      <td>0.0</td>\n",
       "      <td>7.8</td>\n",
       "      <td>4.8</td>\n",
       "      <td>39.766857</td>\n",
       "      <td>-105.081983</td>\n",
       "    </tr>\n",
       "    <tr>\n",
       "      <th>rino</th>\n",
       "      <td>1.9</td>\n",
       "      <td>7.8</td>\n",
       "      <td>7.5</td>\n",
       "      <td>0.0</td>\n",
       "      <td>10.7</td>\n",
       "      <td>39.767328</td>\n",
       "      <td>-104.981132</td>\n",
       "    </tr>\n",
       "    <tr>\n",
       "      <th>lakewood</th>\n",
       "      <td>7.5</td>\n",
       "      <td>4.3</td>\n",
       "      <td>12.0</td>\n",
       "      <td>11.0</td>\n",
       "      <td>0.0</td>\n",
       "      <td>39.704552</td>\n",
       "      <td>-105.079883</td>\n",
       "    </tr>\n",
       "  </tbody>\n",
       "</table>\n",
       "</div>"
      ],
      "text/plain": [
       "            to_denver  to_edgewater  to_wheatridge  to_rino  to_lakewood  \\\n",
       "denver            0.0           5.1            6.3      2.0          8.0   \n",
       "edgewater         5.0           0.0            2.0      7.7          4.4   \n",
       "wheatridge        6.3           2.0            0.0      7.8          4.8   \n",
       "rino              1.9           7.8            7.5      0.0         10.7   \n",
       "lakewood          7.5           4.3           12.0     11.0          0.0   \n",
       "\n",
       "                  lat         lon  \n",
       "denver      39.739064 -104.989697  \n",
       "edgewater   39.753954 -105.067788  \n",
       "wheatridge  39.766857 -105.081983  \n",
       "rino        39.767328 -104.981132  \n",
       "lakewood    39.704552 -105.079883  "
      ]
     },
     "execution_count": 434,
     "metadata": {},
     "output_type": "execute_result"
    }
   ],
   "source": [
    "clinics_df"
   ]
  },
  {
   "cell_type": "markdown",
   "metadata": {},
   "source": [
    "## 1B: Patient Records (past)\n",
    "\n",
    "Objective: Generate a dataset consisting of past patient records including the location & date/time of visit.\n",
    "\n",
    "---"
   ]
  },
  {
   "cell_type": "code",
   "execution_count": null,
   "metadata": {},
   "outputs": [],
   "source": [
    "# Set seed\n"
   ]
  },
  {
   "cell_type": "code",
   "execution_count": 448,
   "metadata": {},
   "outputs": [
    {
     "name": "stdout",
     "output_type": "stream",
     "text": [
      "[63 57 63 58 62 71 65 60 59 57 57 59 59 59 67 62 60 63 50 59 63 57 53 60\n",
      " 53 53 62 58 63 59 63 64 62 64 53 58 61 59 52 60 63 56 60 65 57 58 49 63\n",
      " 67 55 63 62 65 62 59 64 53 55 59 58 66 54 56 64 57 57 55 62 55 58 54 50\n",
      " 62 60 60 60 59 64 62 62 60 55 58 64 62 57 59 65 61 64 57 60 61 60 56 62\n",
      " 60 60 55 59]\n",
      "[31 33 22 35 29 28 33 33 37 30 35 24 35 27 29 29 26 33 30 30 28 29 34 30\n",
      " 34 25 33 33 29 23 26 25 27 30 23 32 35 28 29 31 27 30 29 29 30 33 27 30\n",
      " 28 31 27 32 26 25 22 30 28 29 31 32 31 29 30 26 34 31 29 31 30 33 29 26\n",
      " 32 30 29 32 30 31 28 28 31 30 29 24 28 30 27 33 31 26 31 31 29 28 27 31\n",
      " 36 35 30 30]\n",
      "[27 29 28 27 32 29 31 27 34 31 27 32 28 36 33 28 30 33 30 27 27 28 27 25\n",
      " 29 31 31 24 38 27 28 24 28 31 30 27 27 30 34 28 26 34 34 28 23 33 26 28\n",
      " 34 30 29 30 35 31 26 29 30 31 31 31 30 22 29 26 27 32 27 36 29 29 34 27\n",
      " 27 30 27 28 26 27 28 29 27 32 31 27 29 32 32 32 26 30 32 27 27 33 34 28\n",
      " 33 29 32 34]\n",
      "[25 32 27 32 31 32 31 32 32 27 36 30 33 31 31 29 31 27 30 28 32 27 33 29\n",
      " 23 32 31 23 28 31 29 30 30 34 35 31 23 30 29 28 34 31 30 23 29 27 29 36\n",
      " 31 32 30 30 32 28 31 32 29 31 22 31 32 30 30 24 30 30 28 29 31 28 30 32\n",
      " 28 27 24 26 34 29 33 34 29 32 28 29 32 24 27 24 33 30 32 28 33 29 31 27\n",
      " 31 30 27 29]\n",
      "[44 54 45 49 53 46 45 48 52 43 55 49 52 57 51 47 52 50 43 54 52 44 48 52\n",
      " 48 55 43 46 46 46 52 47 51 48 48 54 50 48 49 54 49 47 43 50 51 46 48 58\n",
      " 47 52 50 55 52 51 50 49 54 45 55 49 47 47 45 53 48 45 43 53 51 47 58 52\n",
      " 54 51 49 43 49 48 47 50 48 48 46 55 53 48 48 48 48 51 50 46 45 53 53 51\n",
      " 55 45 49 51]\n"
     ]
    }
   ],
   "source": [
    "ppd_denver = np.random.normal(0, 4, 100)\n",
    "ppd_denver = ppd_denver + 60\n",
    "ppd_denver = ppd_denver.astype(int)\n",
    "\n",
    "ppd_edgewater = np.random.normal(0, 3, 100)\n",
    "ppd_edgewater = ppd_edgewater + 30\n",
    "ppd_edgewater = ppd_edgewater.astype(int)\n",
    "\n",
    "ppd_wheatridge = np.random.normal(0, 3, 100)\n",
    "ppd_wheatridge = ppd_wheatridge + 30\n",
    "ppd_wheatridge = ppd_wheatridge.astype(int)\n",
    "\n",
    "ppd_rino = np.random.normal(0, 3, 100)\n",
    "ppd_rino = ppd_rino + 30\n",
    "ppd_rino = ppd_rino.astype(int)\n",
    "\n",
    "ppd_lakewood = np.random.normal(0, 3.5, 100)\n",
    "ppd_lakewood = ppd_lakewood + 50\n",
    "ppd_lakewood = ppd_lakewood.astype(int)\n",
    "\n",
    "print(ppd_denver)\n",
    "print(ppd_edgewater)\n",
    "print(ppd_wheatridge)\n",
    "print(ppd_rino)\n",
    "print(ppd_lakewood)"
   ]
  },
  {
   "cell_type": "code",
   "execution_count": null,
   "metadata": {},
   "outputs": [],
   "source": [
    "for i in ppd_denver:\n",
    "    dates = pd.date_range(datetime.date(2022,1,1), periods=100).tolist()\n",
    "    dates = [i.date() for i in dates]\n",
    "    dates = dates*N\n",
    "    dates.sort()\n",
    "    dates_all.extend(dates)\n"
   ]
  },
  {
   "cell_type": "markdown",
   "metadata": {},
   "source": [
    "#### Date of Visit"
   ]
  },
  {
   "cell_type": "code",
   "execution_count": 441,
   "metadata": {},
   "outputs": [
    {
     "data": {
      "text/plain": [
       "20000"
      ]
     },
     "execution_count": 441,
     "metadata": {},
     "output_type": "execute_result"
    }
   ],
   "source": [
    "dates_all = []\n",
    "for N in [60, 30, 30, 30, 50]:\n",
    "    dates = pd.date_range(datetime.date(2022,1,1), periods=100).tolist()\n",
    "    dates = [i.date() for i in dates]\n",
    "    dates = dates*N\n",
    "    dates.sort()\n",
    "    dates_all.extend(dates)\n",
    "    \n",
    "len(dates_all)"
   ]
  },
  {
   "cell_type": "markdown",
   "metadata": {},
   "source": [
    "#### Time of Visit"
   ]
  },
  {
   "cell_type": "code",
   "execution_count": 444,
   "metadata": {},
   "outputs": [
    {
     "name": "stdout",
     "output_type": "stream",
     "text": [
      "19634\n"
     ]
    }
   ],
   "source": [
    "### WEEKDAY GENERATOR\n",
    "def weekday(mu1, sigma1, mu2, sigma2, N):\n",
    "    X1 = np.random.normal(mu1, sigma1, int(N/2))\n",
    "    X2 = np.random.normal(mu2, sigma2, int(N/2))\n",
    "    X = np.concatenate([X1,X2])\n",
    "    return X\n",
    "\n",
    "### WEEKEND TIMES GENERATOR\n",
    "def weekend(mu, sigma, N):\n",
    "    \n",
    "    # Limit normal distribution to operating times (when clinic is open)\n",
    "    mean, sd, low, upp = 13, 3, 8, 20\n",
    "    X = truncnorm((low - mean) / sd, (upp - mean) / sd, loc=mean, scale=sd)\n",
    "    X = X.rvs(N)\n",
    "    \n",
    "    return X\n",
    "\n",
    "### TIME GENERATOR\n",
    "def generate_times(noise):\n",
    "    # noise = np.random.normal(0, .1, 100)\n",
    "    for i in range(100):\n",
    "        # N = random.choice(noise)\n",
    "        # Weekend\n",
    "        if (i % 7 == 6) or (i % 7 == 0):    \n",
    "            X_all.extend(weekend(13, 3, noise[i]))\n",
    "        # Weekday\n",
    "        else:                               \n",
    "            X_all.extend(weekday(11, 1, 17, 1, noise[i]))\n",
    "            \n",
    "X_all = []\n",
    "generate_times(noise_denver)   # DENVER\n",
    "generate_times(noise_edgewater)  # EDGEWATER\n",
    "generate_times(noise_wheatridge)  # WHEATRIDGE\n",
    "generate_times(noise_rino)          # RINO\n",
    "generate_times(noise_lakewood)  # LAKEWOOD\n",
    "\n",
    "print(len(X_all))\n",
    "# X_all"
   ]
  },
  {
   "cell_type": "code",
   "execution_count": 445,
   "metadata": {},
   "outputs": [],
   "source": [
    "def make_time(x):\n",
    "    dec = x - int(x)\n",
    "    hour = int(x)\n",
    "    min = int(dec*60)\n",
    "    sec = int(dec*60*60 % 60)\n",
    "    return datetime.time(hour, min, sec).strftime('%X')"
   ]
  },
  {
   "cell_type": "markdown",
   "metadata": {},
   "source": [
    "#### Patient IDs"
   ]
  },
  {
   "cell_type": "code",
   "execution_count": 435,
   "metadata": {},
   "outputs": [],
   "source": [
    "pids = []\n",
    "for pid in range(10000, 30000):\n",
    "    pids.append(pid)"
   ]
  },
  {
   "cell_type": "markdown",
   "metadata": {},
   "source": [
    "#### Patient Names"
   ]
  },
  {
   "cell_type": "code",
   "execution_count": 436,
   "metadata": {},
   "outputs": [],
   "source": [
    "first_names = []\n",
    "last_names = []\n",
    "\n",
    "for i in range(10000, 30000):\n",
    "    first = \"first_\"+str(i)\n",
    "    last = \"last_\"+str(i)\n",
    "    first_names.append(first)\n",
    "    last_names.append(last)"
   ]
  },
  {
   "cell_type": "markdown",
   "metadata": {},
   "source": [
    "#### Date of Births"
   ]
  },
  {
   "cell_type": "code",
   "execution_count": 437,
   "metadata": {},
   "outputs": [],
   "source": [
    "dobs = []\n",
    "\n",
    "# Ages < 18 - 10% - 2000\n",
    "for _ in range(2000):\n",
    "    dobs.append(fake.date_of_birth(minimum_age=0, maximum_age=17))\n",
    "\n",
    "# Ages 18-30 - 20% - 4000\n",
    "for _ in range(4000):\n",
    "    dobs.append(fake.date_of_birth(minimum_age=18, maximum_age=30))\n",
    "\n",
    "# Ages 31-40 - 20% - 4000\n",
    "for _ in range(4000):\n",
    "    dobs.append(fake.date_of_birth(minimum_age=31, maximum_age=40))\n",
    "\n",
    "# Ages 41-50 - 15% - 3000\n",
    "for _ in range(3000):\n",
    "    dobs.append(fake.date_of_birth(minimum_age=41, maximum_age=50))\n",
    "\n",
    "# Ages 51-60 - 15% - 3000\n",
    "for _ in range(3000):\n",
    "    dobs.append(fake.date_of_birth(minimum_age=51, maximum_age=60))\n",
    "\n",
    "# Ages >60 - 20% - 4000\n",
    "for _ in range(4000):\n",
    "    dobs.append(fake.date_of_birth(minimum_age=61, maximum_age=85))\n"
   ]
  },
  {
   "cell_type": "markdown",
   "metadata": {},
   "source": [
    "#### Reason for Visit"
   ]
  },
  {
   "cell_type": "code",
   "execution_count": 438,
   "metadata": {},
   "outputs": [
    {
     "data": {
      "text/plain": [
       "20000"
      ]
     },
     "execution_count": 438,
     "metadata": {},
     "output_type": "execute_result"
    }
   ],
   "source": [
    "reasons = {\n",
    "    'cold/flu':3000,\n",
    "    'covid':3000,\n",
    "    'stomach':3000,\n",
    "    'cough/chest':3000,\n",
    "    'injury':1000,\n",
    "    'throat':1000,\n",
    "    'back_pain':3000,\n",
    "    'blood':1000,\n",
    "    'eyes':1000,\n",
    "    'ears':1000,\n",
    "}\n",
    "\n",
    "r = []\n",
    "for k, v in reasons.items():\n",
    "    for i in range(v):\n",
    "        r.append(k)\n",
    "\n",
    "shuffle(r)\n",
    "len(r)\n",
    "# r"
   ]
  },
  {
   "cell_type": "code",
   "execution_count": 439,
   "metadata": {},
   "outputs": [],
   "source": [
    "reason_times = {\n",
    "    'cold/flu': 45,\n",
    "    'covid': 30,\n",
    "    'stomach': 60,\n",
    "    'cough/chest': 60,\n",
    "    'injury': 60,\n",
    "    'throat': 30,\n",
    "    'back_pain': 60,\n",
    "    'blood': 45,\n",
    "    'eyes': 30,\n",
    "    'ears': 30,\n",
    "}\n",
    "\n",
    "def checkout(x):\n",
    "    ckeckin = datetime.datetime.strptime(x[1], '%H:%M:%S')\n",
    "    checkout = ckeckin + timedelta(minutes=reason_times[x[0]])\n",
    "    return checkout.time()\n",
    "\n"
   ]
  },
  {
   "cell_type": "markdown",
   "metadata": {},
   "source": [
    "#### Location of Visit"
   ]
  },
  {
   "cell_type": "code",
   "execution_count": 440,
   "metadata": {},
   "outputs": [
    {
     "name": "stdout",
     "output_type": "stream",
     "text": [
      "20000\n"
     ]
    }
   ],
   "source": [
    "loc = {\n",
    "    'denver': 6000,\n",
    "    'edgewater': 3000,\n",
    "    'wheatridge': 3000,\n",
    "    'rino':3000,\n",
    "    'lakewood': 5000}\n",
    "\n",
    "l = []\n",
    "for k, v in loc.items():\n",
    "    for i in range(v):\n",
    "        l.append(k)\n",
    "print(len(l))"
   ]
  },
  {
   "cell_type": "code",
   "execution_count": 446,
   "metadata": {},
   "outputs": [],
   "source": [
    "# weekday mornings before 10am\n",
    "# weekday lunch 12-2pm\n",
    "# weekday evening 4pm-8pm\n",
    "\n",
    "# weekends 11am-8pm, peak at 3pm\n",
    "\n",
    "# For 20k patients, we have 100 days (~3months of data) - 1st 100 days of 2022\n",
    "# 28 days are weekends (sat/sun)\n",
    "# 72 days are weekdays"
   ]
  },
  {
   "cell_type": "markdown",
   "metadata": {},
   "source": [
    "#### Compile patient information to create patient dataset:"
   ]
  },
  {
   "cell_type": "code",
   "execution_count": 447,
   "metadata": {},
   "outputs": [
    {
     "ename": "ValueError",
     "evalue": "Length of values (19634) does not match length of index (20000)",
     "output_type": "error",
     "traceback": [
      "\u001b[1;31m---------------------------------------------------------------------------\u001b[0m",
      "\u001b[1;31mValueError\u001b[0m                                Traceback (most recent call last)",
      "\u001b[1;32mc:\\Users\\danon\\Documents\\MS Data Science\\COMP4449 Data Science Capstone\\Final\\4449_final\\faker.ipynb Cell 28'\u001b[0m in \u001b[0;36m<cell line: 11>\u001b[1;34m()\u001b[0m\n\u001b[0;32m      <a href='vscode-notebook-cell:/c%3A/Users/danon/Documents/MS%20Data%20Science/COMP4449%20Data%20Science%20Capstone/Final/4449_final/faker.ipynb#ch0000024?line=8'>9</a>\u001b[0m patients[\u001b[39m'\u001b[39m\u001b[39mlocation\u001b[39m\u001b[39m'\u001b[39m] \u001b[39m=\u001b[39m l\n\u001b[0;32m     <a href='vscode-notebook-cell:/c%3A/Users/danon/Documents/MS%20Data%20Science/COMP4449%20Data%20Science%20Capstone/Final/4449_final/faker.ipynb#ch0000024?line=9'>10</a>\u001b[0m patients[\u001b[39m'\u001b[39m\u001b[39mvisit_date\u001b[39m\u001b[39m'\u001b[39m] \u001b[39m=\u001b[39m dates_all\n\u001b[1;32m---> <a href='vscode-notebook-cell:/c%3A/Users/danon/Documents/MS%20Data%20Science/COMP4449%20Data%20Science%20Capstone/Final/4449_final/faker.ipynb#ch0000024?line=10'>11</a>\u001b[0m patients[\u001b[39m'\u001b[39m\u001b[39mcheckin_time\u001b[39m\u001b[39m'\u001b[39m] \u001b[39m=\u001b[39m X_all\n\u001b[0;32m     <a href='vscode-notebook-cell:/c%3A/Users/danon/Documents/MS%20Data%20Science/COMP4449%20Data%20Science%20Capstone/Final/4449_final/faker.ipynb#ch0000024?line=11'>12</a>\u001b[0m patients[\u001b[39m'\u001b[39m\u001b[39mcheckin_time\u001b[39m\u001b[39m'\u001b[39m] \u001b[39m=\u001b[39m patients[\u001b[39m'\u001b[39m\u001b[39mcheckin_time\u001b[39m\u001b[39m'\u001b[39m]\u001b[39m.\u001b[39mmap(make_time)\n\u001b[0;32m     <a href='vscode-notebook-cell:/c%3A/Users/danon/Documents/MS%20Data%20Science/COMP4449%20Data%20Science%20Capstone/Final/4449_final/faker.ipynb#ch0000024?line=12'>13</a>\u001b[0m patients \u001b[39m=\u001b[39m patients\u001b[39m.\u001b[39msort_values([\u001b[39m'\u001b[39m\u001b[39mlocation\u001b[39m\u001b[39m'\u001b[39m, \u001b[39m'\u001b[39m\u001b[39mvisit_date\u001b[39m\u001b[39m'\u001b[39m, \u001b[39m'\u001b[39m\u001b[39mcheckin_time\u001b[39m\u001b[39m'\u001b[39m])\n",
      "File \u001b[1;32m~\\anaconda3\\lib\\site-packages\\pandas\\core\\frame.py:3655\u001b[0m, in \u001b[0;36mDataFrame.__setitem__\u001b[1;34m(self, key, value)\u001b[0m\n\u001b[0;32m   <a href='file:///c%3A/Users/danon/anaconda3/lib/site-packages/pandas/core/frame.py?line=3651'>3652</a>\u001b[0m     \u001b[39mself\u001b[39m\u001b[39m.\u001b[39m_setitem_array([key], value)\n\u001b[0;32m   <a href='file:///c%3A/Users/danon/anaconda3/lib/site-packages/pandas/core/frame.py?line=3652'>3653</a>\u001b[0m \u001b[39melse\u001b[39;00m:\n\u001b[0;32m   <a href='file:///c%3A/Users/danon/anaconda3/lib/site-packages/pandas/core/frame.py?line=3653'>3654</a>\u001b[0m     \u001b[39m# set column\u001b[39;00m\n\u001b[1;32m-> <a href='file:///c%3A/Users/danon/anaconda3/lib/site-packages/pandas/core/frame.py?line=3654'>3655</a>\u001b[0m     \u001b[39mself\u001b[39;49m\u001b[39m.\u001b[39;49m_set_item(key, value)\n",
      "File \u001b[1;32m~\\anaconda3\\lib\\site-packages\\pandas\\core\\frame.py:3832\u001b[0m, in \u001b[0;36mDataFrame._set_item\u001b[1;34m(self, key, value)\u001b[0m\n\u001b[0;32m   <a href='file:///c%3A/Users/danon/anaconda3/lib/site-packages/pandas/core/frame.py?line=3821'>3822</a>\u001b[0m \u001b[39mdef\u001b[39;00m \u001b[39m_set_item\u001b[39m(\u001b[39mself\u001b[39m, key, value) \u001b[39m-\u001b[39m\u001b[39m>\u001b[39m \u001b[39mNone\u001b[39;00m:\n\u001b[0;32m   <a href='file:///c%3A/Users/danon/anaconda3/lib/site-packages/pandas/core/frame.py?line=3822'>3823</a>\u001b[0m     \u001b[39m\"\"\"\u001b[39;00m\n\u001b[0;32m   <a href='file:///c%3A/Users/danon/anaconda3/lib/site-packages/pandas/core/frame.py?line=3823'>3824</a>\u001b[0m \u001b[39m    Add series to DataFrame in specified column.\u001b[39;00m\n\u001b[0;32m   <a href='file:///c%3A/Users/danon/anaconda3/lib/site-packages/pandas/core/frame.py?line=3824'>3825</a>\u001b[0m \n\u001b[1;32m   (...)\u001b[0m\n\u001b[0;32m   <a href='file:///c%3A/Users/danon/anaconda3/lib/site-packages/pandas/core/frame.py?line=3829'>3830</a>\u001b[0m \u001b[39m    ensure homogeneity.\u001b[39;00m\n\u001b[0;32m   <a href='file:///c%3A/Users/danon/anaconda3/lib/site-packages/pandas/core/frame.py?line=3830'>3831</a>\u001b[0m \u001b[39m    \"\"\"\u001b[39;00m\n\u001b[1;32m-> <a href='file:///c%3A/Users/danon/anaconda3/lib/site-packages/pandas/core/frame.py?line=3831'>3832</a>\u001b[0m     value \u001b[39m=\u001b[39m \u001b[39mself\u001b[39;49m\u001b[39m.\u001b[39;49m_sanitize_column(value)\n\u001b[0;32m   <a href='file:///c%3A/Users/danon/anaconda3/lib/site-packages/pandas/core/frame.py?line=3833'>3834</a>\u001b[0m     \u001b[39mif\u001b[39;00m (\n\u001b[0;32m   <a href='file:///c%3A/Users/danon/anaconda3/lib/site-packages/pandas/core/frame.py?line=3834'>3835</a>\u001b[0m         key \u001b[39min\u001b[39;00m \u001b[39mself\u001b[39m\u001b[39m.\u001b[39mcolumns\n\u001b[0;32m   <a href='file:///c%3A/Users/danon/anaconda3/lib/site-packages/pandas/core/frame.py?line=3835'>3836</a>\u001b[0m         \u001b[39mand\u001b[39;00m value\u001b[39m.\u001b[39mndim \u001b[39m==\u001b[39m \u001b[39m1\u001b[39m\n\u001b[0;32m   <a href='file:///c%3A/Users/danon/anaconda3/lib/site-packages/pandas/core/frame.py?line=3836'>3837</a>\u001b[0m         \u001b[39mand\u001b[39;00m \u001b[39mnot\u001b[39;00m is_extension_array_dtype(value)\n\u001b[0;32m   <a href='file:///c%3A/Users/danon/anaconda3/lib/site-packages/pandas/core/frame.py?line=3837'>3838</a>\u001b[0m     ):\n\u001b[0;32m   <a href='file:///c%3A/Users/danon/anaconda3/lib/site-packages/pandas/core/frame.py?line=3838'>3839</a>\u001b[0m         \u001b[39m# broadcast across multiple columns if necessary\u001b[39;00m\n\u001b[0;32m   <a href='file:///c%3A/Users/danon/anaconda3/lib/site-packages/pandas/core/frame.py?line=3839'>3840</a>\u001b[0m         \u001b[39mif\u001b[39;00m \u001b[39mnot\u001b[39;00m \u001b[39mself\u001b[39m\u001b[39m.\u001b[39mcolumns\u001b[39m.\u001b[39mis_unique \u001b[39mor\u001b[39;00m \u001b[39misinstance\u001b[39m(\u001b[39mself\u001b[39m\u001b[39m.\u001b[39mcolumns, MultiIndex):\n",
      "File \u001b[1;32m~\\anaconda3\\lib\\site-packages\\pandas\\core\\frame.py:4535\u001b[0m, in \u001b[0;36mDataFrame._sanitize_column\u001b[1;34m(self, value)\u001b[0m\n\u001b[0;32m   <a href='file:///c%3A/Users/danon/anaconda3/lib/site-packages/pandas/core/frame.py?line=4531'>4532</a>\u001b[0m     \u001b[39mreturn\u001b[39;00m _reindex_for_setitem(value, \u001b[39mself\u001b[39m\u001b[39m.\u001b[39mindex)\n\u001b[0;32m   <a href='file:///c%3A/Users/danon/anaconda3/lib/site-packages/pandas/core/frame.py?line=4533'>4534</a>\u001b[0m \u001b[39mif\u001b[39;00m is_list_like(value):\n\u001b[1;32m-> <a href='file:///c%3A/Users/danon/anaconda3/lib/site-packages/pandas/core/frame.py?line=4534'>4535</a>\u001b[0m     com\u001b[39m.\u001b[39;49mrequire_length_match(value, \u001b[39mself\u001b[39;49m\u001b[39m.\u001b[39;49mindex)\n\u001b[0;32m   <a href='file:///c%3A/Users/danon/anaconda3/lib/site-packages/pandas/core/frame.py?line=4535'>4536</a>\u001b[0m \u001b[39mreturn\u001b[39;00m sanitize_array(value, \u001b[39mself\u001b[39m\u001b[39m.\u001b[39mindex, copy\u001b[39m=\u001b[39m\u001b[39mTrue\u001b[39;00m, allow_2d\u001b[39m=\u001b[39m\u001b[39mTrue\u001b[39;00m)\n",
      "File \u001b[1;32m~\\anaconda3\\lib\\site-packages\\pandas\\core\\common.py:557\u001b[0m, in \u001b[0;36mrequire_length_match\u001b[1;34m(data, index)\u001b[0m\n\u001b[0;32m    <a href='file:///c%3A/Users/danon/anaconda3/lib/site-packages/pandas/core/common.py?line=552'>553</a>\u001b[0m \u001b[39m\"\"\"\u001b[39;00m\n\u001b[0;32m    <a href='file:///c%3A/Users/danon/anaconda3/lib/site-packages/pandas/core/common.py?line=553'>554</a>\u001b[0m \u001b[39mCheck the length of data matches the length of the index.\u001b[39;00m\n\u001b[0;32m    <a href='file:///c%3A/Users/danon/anaconda3/lib/site-packages/pandas/core/common.py?line=554'>555</a>\u001b[0m \u001b[39m\"\"\"\u001b[39;00m\n\u001b[0;32m    <a href='file:///c%3A/Users/danon/anaconda3/lib/site-packages/pandas/core/common.py?line=555'>556</a>\u001b[0m \u001b[39mif\u001b[39;00m \u001b[39mlen\u001b[39m(data) \u001b[39m!=\u001b[39m \u001b[39mlen\u001b[39m(index):\n\u001b[1;32m--> <a href='file:///c%3A/Users/danon/anaconda3/lib/site-packages/pandas/core/common.py?line=556'>557</a>\u001b[0m     \u001b[39mraise\u001b[39;00m \u001b[39mValueError\u001b[39;00m(\n\u001b[0;32m    <a href='file:///c%3A/Users/danon/anaconda3/lib/site-packages/pandas/core/common.py?line=557'>558</a>\u001b[0m         \u001b[39m\"\u001b[39m\u001b[39mLength of values \u001b[39m\u001b[39m\"\u001b[39m\n\u001b[0;32m    <a href='file:///c%3A/Users/danon/anaconda3/lib/site-packages/pandas/core/common.py?line=558'>559</a>\u001b[0m         \u001b[39mf\u001b[39m\u001b[39m\"\u001b[39m\u001b[39m(\u001b[39m\u001b[39m{\u001b[39;00m\u001b[39mlen\u001b[39m(data)\u001b[39m}\u001b[39;00m\u001b[39m) \u001b[39m\u001b[39m\"\u001b[39m\n\u001b[0;32m    <a href='file:///c%3A/Users/danon/anaconda3/lib/site-packages/pandas/core/common.py?line=559'>560</a>\u001b[0m         \u001b[39m\"\u001b[39m\u001b[39mdoes not match length of index \u001b[39m\u001b[39m\"\u001b[39m\n\u001b[0;32m    <a href='file:///c%3A/Users/danon/anaconda3/lib/site-packages/pandas/core/common.py?line=560'>561</a>\u001b[0m         \u001b[39mf\u001b[39m\u001b[39m\"\u001b[39m\u001b[39m(\u001b[39m\u001b[39m{\u001b[39;00m\u001b[39mlen\u001b[39m(index)\u001b[39m}\u001b[39;00m\u001b[39m)\u001b[39m\u001b[39m\"\u001b[39m\n\u001b[0;32m    <a href='file:///c%3A/Users/danon/anaconda3/lib/site-packages/pandas/core/common.py?line=561'>562</a>\u001b[0m     )\n",
      "\u001b[1;31mValueError\u001b[0m: Length of values (19634) does not match length of index (20000)"
     ]
    }
   ],
   "source": [
    "patients = pd.DataFrame()\n",
    "\n",
    "patients['pid'] = pids\n",
    "patients.set_index('pid', inplace=True)\n",
    "patients['first_name'] = first_names\n",
    "patients['last_names'] = last_names\n",
    "patients['birth_date'] = dobs\n",
    "patients['reason'] = r\n",
    "patients['location'] = l\n",
    "patients['visit_date'] = dates_all\n",
    "patients['checkin_time'] = X_all\n",
    "patients['checkin_time'] = patients['checkin_time'].map(make_time)\n",
    "patients = patients.sort_values(['location', 'visit_date', 'checkin_time'])\n",
    "patients['checkout_time'] = patients[['reason', 'checkin_time']].apply(checkout, axis=1)\n",
    "patients['checkin_time'] = patients['checkin_time'].apply(lambda x: datetime.datetime.strptime(x, '%H:%M:%S').time())\n",
    "patients"
   ]
  },
  {
   "cell_type": "code",
   "execution_count": null,
   "metadata": {},
   "outputs": [],
   "source": [
    "def tracker(loc, date):\n",
    "\n",
    "    chin = patients[(patients.location==loc) & (patients.visit_date==date)].checkin_time.tolist()\n",
    "    chout = patients[(patients.location==loc) & (patients.visit_date==date)].checkout_time.tolist()\n",
    "\n",
    "    rolling_ct = []\n",
    "\n",
    "    for i in range(len(chin)):\n",
    "        tracker = 1\n",
    "        current_chin = chin[i]\n",
    "\n",
    "        for e in range(i):\n",
    "            if chout[e] > current_chin:\n",
    "                tracker += 1\n",
    "\n",
    "        rolling_ct.append(tracker)\n",
    "\n",
    "    return rolling_ct\n",
    "\n",
    "total_rolling_ct = []\n",
    "for loc in patients.location.unique():\n",
    "    for date in patients.visit_date.unique():\n",
    "        total_rolling_ct.extend(tracker(loc, date))\n",
    "\n",
    "patients['current_num_patients'] = total_rolling_ct\n",
    "patients"
   ]
  },
  {
   "cell_type": "code",
   "execution_count": null,
   "metadata": {},
   "outputs": [],
   "source": [
    "patients['day'] = patients['visit_date'].copy().apply(lambda x: x.weekday())\n",
    "patients['weekend'] = patients['day'].copy().replace({0:0, 1:0, 2:0, 3:0, 4:0, 5:1, 6:1})\n",
    "patients.to_pickle('./patient_records.pickle')"
   ]
  },
  {
   "cell_type": "code",
   "execution_count": null,
   "metadata": {},
   "outputs": [],
   "source": [
    "# Old school way\n",
    "# There should be 1 tech per 3 patients based on the peak number of patients that day\n",
    "old_school = pd.DataFrame(patients.groupby(['location', 'visit_date']).max()['current_num_patients'])\n",
    "old_school['num_techs'] = old_school['current_num_patients'].copy().apply(lambda x : round(x/3))\n",
    "old_school['num_techs2'] = old_school['current_num_patients'].copy().apply(lambda x : round(x/4))\n",
    "old_school"
   ]
  },
  {
   "cell_type": "markdown",
   "metadata": {},
   "source": [
    "## 1C: Employee Records\n",
    "\n",
    "Objective: Generate a dataset consisting employee names and IDs.\n",
    "\n",
    "---"
   ]
  },
  {
   "cell_type": "code",
   "execution_count": null,
   "metadata": {},
   "outputs": [],
   "source": [
    "employees = pd.DataFrame(index=[i for i in range(10, 50)])\n",
    "e_first_names = []\n",
    "e_last_names = []\n",
    "for i in range(10, 50):\n",
    "    e_first_names.append('e_first_name_' + str(i))\n",
    "    e_last_names.append('e_last_names' + str(i))\n",
    "employees['e_first_names'] = e_first_names\n",
    "employees['e_last_names'] = e_last_names\n",
    "\n",
    "employees"
   ]
  },
  {
   "cell_type": "markdown",
   "metadata": {},
   "source": [
    "## TEST VISUALS (FOR DEBUG PURPOSES)"
   ]
  },
  {
   "cell_type": "code",
   "execution_count": null,
   "metadata": {},
   "outputs": [],
   "source": [
    "fig = px.histogram(patients.birth_date)\n",
    "fig.show()"
   ]
  },
  {
   "cell_type": "code",
   "execution_count": null,
   "metadata": {},
   "outputs": [],
   "source": [
    "fig = px.histogram(patients.reason)\n",
    "fig.show()"
   ]
  },
  {
   "cell_type": "code",
   "execution_count": null,
   "metadata": {},
   "outputs": [],
   "source": [
    "fig = px.pie(patients, names='reason')\n",
    "fig.show()"
   ]
  },
  {
   "cell_type": "code",
   "execution_count": null,
   "metadata": {},
   "outputs": [],
   "source": []
  }
 ],
 "metadata": {
  "interpreter": {
   "hash": "6349d5530933d93cf3e21968e03519169ffb36bc867125237af3019451770c1e"
  },
  "kernelspec": {
   "display_name": "Python 3 (ipykernel)",
   "language": "python",
   "name": "python3"
  },
  "language_info": {
   "codemirror_mode": {
    "name": "ipython",
    "version": 3
   },
   "file_extension": ".py",
   "mimetype": "text/x-python",
   "name": "python",
   "nbconvert_exporter": "python",
   "pygments_lexer": "ipython3",
   "version": "3.8.13"
  }
 },
 "nbformat": 4,
 "nbformat_minor": 4
}
