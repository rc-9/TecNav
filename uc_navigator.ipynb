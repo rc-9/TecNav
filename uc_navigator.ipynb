{
 "cells": [
  {
   "cell_type": "markdown",
   "metadata": {},
   "source": [
    "# PART 3: NAVIGATOR APPLICATION\n",
    "\n",
    "**Objective:** This notebook will implement technician-navigation to study the potential benefits in productivity and operational costs.\n",
    "\n",
    "---"
   ]
  },
  {
   "cell_type": "code",
   "execution_count": 123,
   "metadata": {},
   "outputs": [],
   "source": [
    "# Data Management\n",
    "import numpy as np\n",
    "import pandas as pd\n",
    "\n",
    "# Modeling\n",
    "from sklearn.metrics import mean_squared_error\n",
    "from sklearn.model_selection import train_test_split\n",
    "from sklearn.preprocessing import MinMaxScaler\n",
    "from sklearn.linear_model import LinearRegression\n",
    "from sklearn.ensemble import RandomForestRegressor\n",
    "from sklearn.model_selection import GridSearchCV\n",
    "\n",
    "# Data Visualization\n",
    "import geopandas as gpd\n",
    "import folium\n",
    "import folium.plugins as plugins\n",
    "import matplotlib.pyplot as plt\n",
    "import seaborn as sns\n",
    "import plotly.express as px\n",
    "import plotly.graph_objects as go\n",
    "from plotly.subplots import make_subplots\n",
    "\n",
    "# Utils\n",
    "import ast\n",
    "import datetime\n",
    "import ipywidgets as widgets\n",
    "import random\n",
    "import warnings\n",
    "from datetime import datetime, timedelta\n",
    "from IPython.display import display, HTML\n",
    "from ipywidgets import interact, interact_manual\n",
    "import pprint\n",
    "from random import choice, choices, shuffle, randrange\n",
    "from time import sleep\n",
    "%matplotlib inline\n",
    "sns.set_style('white')\n",
    "sns.set_color_codes()\n",
    "plt.style.use('default')\n",
    "warnings.filterwarnings(\"ignore\")\n",
    "pp = pprint.PrettyPrinter(indent=0)"
   ]
  },
  {
   "cell_type": "markdown",
   "metadata": {},
   "source": [
    "---\n",
    "---\n",
    "\n",
    "## 3A: Setup\n",
    "\n",
    "**Objective**: Read in the clinic data & necessary patient records files.\n",
    "\n",
    "---"
   ]
  },
  {
   "cell_type": "code",
   "execution_count": 124,
   "metadata": {},
   "outputs": [
    {
     "data": {
      "text/html": [
       "<div>\n",
       "<style scoped>\n",
       "    .dataframe tbody tr th:only-of-type {\n",
       "        vertical-align: middle;\n",
       "    }\n",
       "\n",
       "    .dataframe tbody tr th {\n",
       "        vertical-align: top;\n",
       "    }\n",
       "\n",
       "    .dataframe thead th {\n",
       "        text-align: right;\n",
       "    }\n",
       "</style>\n",
       "<table border=\"1\" class=\"dataframe\">\n",
       "  <thead>\n",
       "    <tr style=\"text-align: right;\">\n",
       "      <th></th>\n",
       "      <th>pt_name</th>\n",
       "      <th>pt_dob</th>\n",
       "      <th>pt_age</th>\n",
       "      <th>visit_location</th>\n",
       "      <th>visit_reason</th>\n",
       "      <th>visit_code</th>\n",
       "      <th>visit_date</th>\n",
       "      <th>visit_day</th>\n",
       "      <th>checkin_time</th>\n",
       "      <th>checkout_time</th>\n",
       "      <th>rolling_ct</th>\n",
       "      <th>rolling_code</th>\n",
       "      <th>assigned_num_techs</th>\n",
       "      <th>needed_num_techs</th>\n",
       "    </tr>\n",
       "    <tr>\n",
       "      <th>pt_id</th>\n",
       "      <th></th>\n",
       "      <th></th>\n",
       "      <th></th>\n",
       "      <th></th>\n",
       "      <th></th>\n",
       "      <th></th>\n",
       "      <th></th>\n",
       "      <th></th>\n",
       "      <th></th>\n",
       "      <th></th>\n",
       "      <th></th>\n",
       "      <th></th>\n",
       "      <th></th>\n",
       "      <th></th>\n",
       "    </tr>\n",
       "  </thead>\n",
       "  <tbody>\n",
       "    <tr>\n",
       "      <th>1000010</th>\n",
       "      <td>Paul Hammond</td>\n",
       "      <td>1958-02-20</td>\n",
       "      <td>64</td>\n",
       "      <td>denver</td>\n",
       "      <td>weakness/dizziness</td>\n",
       "      <td>5</td>\n",
       "      <td>2021-05-01</td>\n",
       "      <td>Saturday</td>\n",
       "      <td>10:57:51</td>\n",
       "      <td>12:05:51</td>\n",
       "      <td>1</td>\n",
       "      <td>0.0</td>\n",
       "      <td>6</td>\n",
       "      <td>1</td>\n",
       "    </tr>\n",
       "    <tr>\n",
       "      <th>1000012</th>\n",
       "      <td>Jennifer Smith</td>\n",
       "      <td>2016-02-08</td>\n",
       "      <td>6</td>\n",
       "      <td>denver</td>\n",
       "      <td>covid-test</td>\n",
       "      <td>4</td>\n",
       "      <td>2021-05-01</td>\n",
       "      <td>Saturday</td>\n",
       "      <td>11:11:23</td>\n",
       "      <td>11:44:23</td>\n",
       "      <td>2</td>\n",
       "      <td>5.0</td>\n",
       "      <td>6</td>\n",
       "      <td>1</td>\n",
       "    </tr>\n",
       "    <tr>\n",
       "      <th>1000001</th>\n",
       "      <td>Kevin Howe</td>\n",
       "      <td>1994-02-17</td>\n",
       "      <td>28</td>\n",
       "      <td>denver</td>\n",
       "      <td>drug-test</td>\n",
       "      <td>3</td>\n",
       "      <td>2021-05-01</td>\n",
       "      <td>Saturday</td>\n",
       "      <td>11:31:16</td>\n",
       "      <td>12:08:16</td>\n",
       "      <td>3</td>\n",
       "      <td>4.5</td>\n",
       "      <td>6</td>\n",
       "      <td>1</td>\n",
       "    </tr>\n",
       "    <tr>\n",
       "      <th>1000017</th>\n",
       "      <td>Laura Wright</td>\n",
       "      <td>1947-08-08</td>\n",
       "      <td>74</td>\n",
       "      <td>denver</td>\n",
       "      <td>weakness/dizziness</td>\n",
       "      <td>5</td>\n",
       "      <td>2021-05-01</td>\n",
       "      <td>Saturday</td>\n",
       "      <td>11:38:16</td>\n",
       "      <td>13:00:16</td>\n",
       "      <td>3</td>\n",
       "      <td>4.0</td>\n",
       "      <td>6</td>\n",
       "      <td>1</td>\n",
       "    </tr>\n",
       "    <tr>\n",
       "      <th>1000007</th>\n",
       "      <td>Debra Huerta</td>\n",
       "      <td>1992-06-29</td>\n",
       "      <td>29</td>\n",
       "      <td>denver</td>\n",
       "      <td>pink-eye</td>\n",
       "      <td>4</td>\n",
       "      <td>2021-05-01</td>\n",
       "      <td>Saturday</td>\n",
       "      <td>11:38:24</td>\n",
       "      <td>12:16:00</td>\n",
       "      <td>4</td>\n",
       "      <td>4.3</td>\n",
       "      <td>6</td>\n",
       "      <td>2</td>\n",
       "    </tr>\n",
       "  </tbody>\n",
       "</table>\n",
       "</div>"
      ],
      "text/plain": [
       "                pt_name      pt_dob  pt_age visit_location  \\\n",
       "pt_id                                                        \n",
       "1000010    Paul Hammond  1958-02-20      64         denver   \n",
       "1000012  Jennifer Smith  2016-02-08       6         denver   \n",
       "1000001      Kevin Howe  1994-02-17      28         denver   \n",
       "1000017    Laura Wright  1947-08-08      74         denver   \n",
       "1000007    Debra Huerta  1992-06-29      29         denver   \n",
       "\n",
       "               visit_reason  visit_code  visit_date visit_day checkin_time  \\\n",
       "pt_id                                                                        \n",
       "1000010  weakness/dizziness           5  2021-05-01  Saturday     10:57:51   \n",
       "1000012          covid-test           4  2021-05-01  Saturday     11:11:23   \n",
       "1000001           drug-test           3  2021-05-01  Saturday     11:31:16   \n",
       "1000017  weakness/dizziness           5  2021-05-01  Saturday     11:38:16   \n",
       "1000007            pink-eye           4  2021-05-01  Saturday     11:38:24   \n",
       "\n",
       "        checkout_time  rolling_ct  rolling_code  assigned_num_techs  \\\n",
       "pt_id                                                                 \n",
       "1000010      12:05:51           1           0.0                   6   \n",
       "1000012      11:44:23           2           5.0                   6   \n",
       "1000001      12:08:16           3           4.5                   6   \n",
       "1000017      13:00:16           3           4.0                   6   \n",
       "1000007      12:16:00           4           4.3                   6   \n",
       "\n",
       "         needed_num_techs  \n",
       "pt_id                      \n",
       "1000010                 1  \n",
       "1000012                 1  \n",
       "1000001                 1  \n",
       "1000017                 1  \n",
       "1000007                 2  "
      ]
     },
     "execution_count": 124,
     "metadata": {},
     "output_type": "execute_result"
    }
   ],
   "source": [
    "past_patients_df = pd.read_csv('./uc_past_patients.csv', index_col='pt_id')\n",
    "past_patients_df.head()"
   ]
  },
  {
   "cell_type": "code",
   "execution_count": 125,
   "metadata": {},
   "outputs": [
    {
     "data": {
      "text/html": [
       "<div>\n",
       "<style scoped>\n",
       "    .dataframe tbody tr th:only-of-type {\n",
       "        vertical-align: middle;\n",
       "    }\n",
       "\n",
       "    .dataframe tbody tr th {\n",
       "        vertical-align: top;\n",
       "    }\n",
       "\n",
       "    .dataframe thead th {\n",
       "        text-align: right;\n",
       "    }\n",
       "</style>\n",
       "<table border=\"1\" class=\"dataframe\">\n",
       "  <thead>\n",
       "    <tr style=\"text-align: right;\">\n",
       "      <th></th>\n",
       "      <th>pt_name</th>\n",
       "      <th>pt_dob</th>\n",
       "      <th>pt_age</th>\n",
       "      <th>visit_location</th>\n",
       "      <th>visit_reason</th>\n",
       "      <th>visit_code</th>\n",
       "      <th>visit_date</th>\n",
       "      <th>visit_day</th>\n",
       "      <th>checkin_time</th>\n",
       "      <th>checkout_time</th>\n",
       "      <th>rolling_ct</th>\n",
       "      <th>rolling_code</th>\n",
       "      <th>assigned_num_techs</th>\n",
       "      <th>needed_num_techs</th>\n",
       "    </tr>\n",
       "    <tr>\n",
       "      <th>pt_id</th>\n",
       "      <th></th>\n",
       "      <th></th>\n",
       "      <th></th>\n",
       "      <th></th>\n",
       "      <th></th>\n",
       "      <th></th>\n",
       "      <th></th>\n",
       "      <th></th>\n",
       "      <th></th>\n",
       "      <th></th>\n",
       "      <th></th>\n",
       "      <th></th>\n",
       "      <th></th>\n",
       "      <th></th>\n",
       "    </tr>\n",
       "  </thead>\n",
       "  <tbody>\n",
       "    <tr>\n",
       "      <th>1026609</th>\n",
       "      <td>James Casey</td>\n",
       "      <td>2017-06-12</td>\n",
       "      <td>4</td>\n",
       "      <td>denver</td>\n",
       "      <td>ache/pain</td>\n",
       "      <td>4</td>\n",
       "      <td>2022-05-01</td>\n",
       "      <td>Sunday</td>\n",
       "      <td>08:18:49</td>\n",
       "      <td>08:57:49</td>\n",
       "      <td>1</td>\n",
       "      <td>0.0</td>\n",
       "      <td>5</td>\n",
       "      <td>1</td>\n",
       "    </tr>\n",
       "    <tr>\n",
       "      <th>1026602</th>\n",
       "      <td>Ashley Mccarthy</td>\n",
       "      <td>1976-06-27</td>\n",
       "      <td>45</td>\n",
       "      <td>denver</td>\n",
       "      <td>ear-pain</td>\n",
       "      <td>4</td>\n",
       "      <td>2022-05-01</td>\n",
       "      <td>Sunday</td>\n",
       "      <td>08:26:46</td>\n",
       "      <td>09:04:46</td>\n",
       "      <td>2</td>\n",
       "      <td>4.0</td>\n",
       "      <td>5</td>\n",
       "      <td>1</td>\n",
       "    </tr>\n",
       "    <tr>\n",
       "      <th>1026611</th>\n",
       "      <td>Ana Benitez</td>\n",
       "      <td>2017-01-17</td>\n",
       "      <td>5</td>\n",
       "      <td>denver</td>\n",
       "      <td>lab-work</td>\n",
       "      <td>3</td>\n",
       "      <td>2022-05-01</td>\n",
       "      <td>Sunday</td>\n",
       "      <td>08:45:45</td>\n",
       "      <td>09:31:45</td>\n",
       "      <td>3</td>\n",
       "      <td>4.0</td>\n",
       "      <td>5</td>\n",
       "      <td>1</td>\n",
       "    </tr>\n",
       "    <tr>\n",
       "      <th>1026595</th>\n",
       "      <td>Miguel Peterson</td>\n",
       "      <td>1995-08-23</td>\n",
       "      <td>26</td>\n",
       "      <td>denver</td>\n",
       "      <td>cough</td>\n",
       "      <td>4</td>\n",
       "      <td>2022-05-01</td>\n",
       "      <td>Sunday</td>\n",
       "      <td>08:50:33</td>\n",
       "      <td>09:46:57</td>\n",
       "      <td>4</td>\n",
       "      <td>3.7</td>\n",
       "      <td>5</td>\n",
       "      <td>2</td>\n",
       "    </tr>\n",
       "    <tr>\n",
       "      <th>1026592</th>\n",
       "      <td>Margaret Horton</td>\n",
       "      <td>1984-03-02</td>\n",
       "      <td>38</td>\n",
       "      <td>denver</td>\n",
       "      <td>lab-work</td>\n",
       "      <td>3</td>\n",
       "      <td>2022-05-01</td>\n",
       "      <td>Sunday</td>\n",
       "      <td>09:00:58</td>\n",
       "      <td>09:39:58</td>\n",
       "      <td>3</td>\n",
       "      <td>3.5</td>\n",
       "      <td>5</td>\n",
       "      <td>1</td>\n",
       "    </tr>\n",
       "  </tbody>\n",
       "</table>\n",
       "</div>"
      ],
      "text/plain": [
       "                 pt_name      pt_dob  pt_age visit_location visit_reason  \\\n",
       "pt_id                                                                      \n",
       "1026609      James Casey  2017-06-12       4         denver    ache/pain   \n",
       "1026602  Ashley Mccarthy  1976-06-27      45         denver     ear-pain   \n",
       "1026611      Ana Benitez  2017-01-17       5         denver     lab-work   \n",
       "1026595  Miguel Peterson  1995-08-23      26         denver        cough   \n",
       "1026592  Margaret Horton  1984-03-02      38         denver     lab-work   \n",
       "\n",
       "         visit_code  visit_date visit_day checkin_time checkout_time  \\\n",
       "pt_id                                                                  \n",
       "1026609           4  2022-05-01    Sunday     08:18:49      08:57:49   \n",
       "1026602           4  2022-05-01    Sunday     08:26:46      09:04:46   \n",
       "1026611           3  2022-05-01    Sunday     08:45:45      09:31:45   \n",
       "1026595           4  2022-05-01    Sunday     08:50:33      09:46:57   \n",
       "1026592           3  2022-05-01    Sunday     09:00:58      09:39:58   \n",
       "\n",
       "         rolling_ct  rolling_code  assigned_num_techs  needed_num_techs  \n",
       "pt_id                                                                    \n",
       "1026609           1           0.0                   5                 1  \n",
       "1026602           2           4.0                   5                 1  \n",
       "1026611           3           4.0                   5                 1  \n",
       "1026595           4           3.7                   5                 2  \n",
       "1026592           3           3.5                   5                 1  "
      ]
     },
     "execution_count": 125,
     "metadata": {},
     "output_type": "execute_result"
    }
   ],
   "source": [
    "new_patients_df = pd.read_csv('./uc_new_patients.csv', index_col='pt_id')\n",
    "new_patients_df.head()"
   ]
  },
  {
   "cell_type": "code",
   "execution_count": 126,
   "metadata": {},
   "outputs": [],
   "source": [
    "clinics_df = pd.read_csv('./uc_clinics.csv', index_col='branch_name')\n",
    "# clinics_df"
   ]
  },
  {
   "cell_type": "markdown",
   "metadata": {},
   "source": [
    "---\n",
    "---\n",
    "\n",
    "## 3B: Data Processing\n",
    "\n",
    "**Objective**: Execute minor cleaning implementations due to lost data characteristics from CSV read-in.\n",
    "\n",
    "---"
   ]
  },
  {
   "cell_type": "markdown",
   "metadata": {},
   "source": [
    "#### Convert nearby_clinics info from str to original list format:"
   ]
  },
  {
   "cell_type": "code",
   "execution_count": 127,
   "metadata": {},
   "outputs": [],
   "source": [
    "clinics_df['nearby_clinics'] = clinics_df.nearby_clinics.apply(lambda x: ast.literal_eval(x))  "
   ]
  },
  {
   "cell_type": "code",
   "execution_count": 128,
   "metadata": {},
   "outputs": [
    {
     "data": {
      "text/html": [
       "<div>\n",
       "<style scoped>\n",
       "    .dataframe tbody tr th:only-of-type {\n",
       "        vertical-align: middle;\n",
       "    }\n",
       "\n",
       "    .dataframe tbody tr th {\n",
       "        vertical-align: top;\n",
       "    }\n",
       "\n",
       "    .dataframe thead th {\n",
       "        text-align: right;\n",
       "    }\n",
       "</style>\n",
       "<table border=\"1\" class=\"dataframe\">\n",
       "  <thead>\n",
       "    <tr style=\"text-align: right;\">\n",
       "      <th></th>\n",
       "      <th>lat</th>\n",
       "      <th>lon</th>\n",
       "      <th>to_denver</th>\n",
       "      <th>to_edgewater</th>\n",
       "      <th>to_wheatridge</th>\n",
       "      <th>to_rino</th>\n",
       "      <th>to_lakewood</th>\n",
       "      <th>nearby_clinics</th>\n",
       "    </tr>\n",
       "    <tr>\n",
       "      <th>branch_name</th>\n",
       "      <th></th>\n",
       "      <th></th>\n",
       "      <th></th>\n",
       "      <th></th>\n",
       "      <th></th>\n",
       "      <th></th>\n",
       "      <th></th>\n",
       "      <th></th>\n",
       "    </tr>\n",
       "  </thead>\n",
       "  <tbody>\n",
       "    <tr>\n",
       "      <th>denver</th>\n",
       "      <td>39.739064</td>\n",
       "      <td>-104.989697</td>\n",
       "      <td>0</td>\n",
       "      <td>12</td>\n",
       "      <td>14</td>\n",
       "      <td>7</td>\n",
       "      <td>14</td>\n",
       "      <td>[(rino, 7.0), (edgewater, 12.0), (wheatridge, ...</td>\n",
       "    </tr>\n",
       "    <tr>\n",
       "      <th>edgewater</th>\n",
       "      <td>39.753954</td>\n",
       "      <td>-105.067788</td>\n",
       "      <td>14</td>\n",
       "      <td>0</td>\n",
       "      <td>5</td>\n",
       "      <td>12</td>\n",
       "      <td>9</td>\n",
       "      <td>[(wheatridge, 5.0), (lakewood, 9.0), (rino, 12...</td>\n",
       "    </tr>\n",
       "    <tr>\n",
       "      <th>wheatridge</th>\n",
       "      <td>39.766857</td>\n",
       "      <td>-105.081983</td>\n",
       "      <td>14</td>\n",
       "      <td>5</td>\n",
       "      <td>0</td>\n",
       "      <td>10</td>\n",
       "      <td>9</td>\n",
       "      <td>[(edgewater, 5.0), (lakewood, 9.0), (rino, 10....</td>\n",
       "    </tr>\n",
       "    <tr>\n",
       "      <th>rino</th>\n",
       "      <td>39.767328</td>\n",
       "      <td>-104.981132</td>\n",
       "      <td>6</td>\n",
       "      <td>14</td>\n",
       "      <td>14</td>\n",
       "      <td>0</td>\n",
       "      <td>14</td>\n",
       "      <td>[(denver, 6.0), (edgewater, 14.0), (wheatridge...</td>\n",
       "    </tr>\n",
       "    <tr>\n",
       "      <th>lakewood</th>\n",
       "      <td>39.704552</td>\n",
       "      <td>-105.079883</td>\n",
       "      <td>12</td>\n",
       "      <td>8</td>\n",
       "      <td>8</td>\n",
       "      <td>12</td>\n",
       "      <td>0</td>\n",
       "      <td>[(edgewater, 8.0), (wheatridge, 8.0), (denver,...</td>\n",
       "    </tr>\n",
       "  </tbody>\n",
       "</table>\n",
       "</div>"
      ],
      "text/plain": [
       "                   lat         lon  to_denver  to_edgewater  to_wheatridge  \\\n",
       "branch_name                                                                  \n",
       "denver       39.739064 -104.989697          0            12             14   \n",
       "edgewater    39.753954 -105.067788         14             0              5   \n",
       "wheatridge   39.766857 -105.081983         14             5              0   \n",
       "rino         39.767328 -104.981132          6            14             14   \n",
       "lakewood     39.704552 -105.079883         12             8              8   \n",
       "\n",
       "             to_rino  to_lakewood  \\\n",
       "branch_name                         \n",
       "denver             7           14   \n",
       "edgewater         12            9   \n",
       "wheatridge        10            9   \n",
       "rino               0           14   \n",
       "lakewood          12            0   \n",
       "\n",
       "                                                nearby_clinics  \n",
       "branch_name                                                     \n",
       "denver       [(rino, 7.0), (edgewater, 12.0), (wheatridge, ...  \n",
       "edgewater    [(wheatridge, 5.0), (lakewood, 9.0), (rino, 12...  \n",
       "wheatridge   [(edgewater, 5.0), (lakewood, 9.0), (rino, 10....  \n",
       "rino         [(denver, 6.0), (edgewater, 14.0), (wheatridge...  \n",
       "lakewood     [(edgewater, 8.0), (wheatridge, 8.0), (denver,...  "
      ]
     },
     "execution_count": 128,
     "metadata": {},
     "output_type": "execute_result"
    }
   ],
   "source": [
    "clinics_df"
   ]
  },
  {
   "cell_type": "markdown",
   "metadata": {},
   "source": [
    "#### Create appropriate datetime objects for visit date & check-in/out times:"
   ]
  },
  {
   "cell_type": "code",
   "execution_count": 129,
   "metadata": {},
   "outputs": [],
   "source": [
    "def clean_pt_records(df):\n",
    "    \"\"\"Convers datetime info to appropriate formats from csv read-in data.\"\"\"\n",
    "    \n",
    "    # Create unified date/time attribute for sorting purposes\n",
    "    datetime_str = []\n",
    "    for i in zip(df.visit_date, df.checkin_time):\n",
    "        datetime_str.append(i[0] + ' ' + i[1])\n",
    "    df['datetime'] = datetime_str\n",
    "\n",
    "    # Sort based on datetime strings\n",
    "    df = df.sort_values('datetime') #[50:200]\n",
    "\n",
    "    # Rearrange column order\n",
    "    df = df[['datetime'] + df.columns.tolist()[:-1]]\n",
    "    \n",
    "    # Convert visit date & check-in/out columns to datetime objects (csv converts them into strings)\n",
    "    df['visit_date'] = df.visit_date.apply(lambda x: datetime.strptime(x, '%Y-%m-%d')).apply(lambda x: x.date())\n",
    "    df['checkin_time'] = df.checkin_time.apply(lambda x: datetime.strptime(x, '%H:%M:%S')).apply(lambda x: x.time())\n",
    "    df['checkout_time'] = df.checkout_time.apply(lambda x: datetime.strptime(x, '%H:%M:%S')).apply(lambda x: x.time())\n",
    "    \n",
    "    return df"
   ]
  },
  {
   "cell_type": "code",
   "execution_count": 130,
   "metadata": {},
   "outputs": [],
   "source": [
    "past_patients_df = clean_pt_records(past_patients_df)\n",
    "new_patients_df = clean_pt_records(new_patients_df)\n"
   ]
  },
  {
   "cell_type": "markdown",
   "metadata": {},
   "source": [
    "#### Feature engineer new columns"
   ]
  },
  {
   "cell_type": "code",
   "execution_count": 131,
   "metadata": {},
   "outputs": [],
   "source": [
    "# Weekend column - 1 for weekend, 0 for weekenday\n",
    "def feature_engineer(df):\n",
    "    df['weekend'] = df['visit_day'].copy().apply(lambda x: 1 if x in ['Saturday', 'Sunday'] else 0)\n",
    "    df['hour'] = df['checkin_time'].copy().apply(lambda x: x.hour)\n",
    "    df = pd.concat([df, pd.get_dummies(df['visit_location'])], axis=1)\n",
    "    df['hour'] = df.hour.astype('category')\n",
    "    # print(df.dtypes)\n",
    "    return df"
   ]
  },
  {
   "cell_type": "code",
   "execution_count": 132,
   "metadata": {},
   "outputs": [],
   "source": [
    "new_patients_df = feature_engineer(new_patients_df)\n",
    "past_patients_df = feature_engineer(past_patients_df)"
   ]
  },
  {
   "cell_type": "code",
   "execution_count": 133,
   "metadata": {},
   "outputs": [
    {
     "data": {
      "text/html": [
       "<div>\n",
       "<style scoped>\n",
       "    .dataframe tbody tr th:only-of-type {\n",
       "        vertical-align: middle;\n",
       "    }\n",
       "\n",
       "    .dataframe tbody tr th {\n",
       "        vertical-align: top;\n",
       "    }\n",
       "\n",
       "    .dataframe thead th {\n",
       "        text-align: right;\n",
       "    }\n",
       "</style>\n",
       "<table border=\"1\" class=\"dataframe\">\n",
       "  <thead>\n",
       "    <tr style=\"text-align: right;\">\n",
       "      <th></th>\n",
       "      <th>datetime</th>\n",
       "      <th>pt_name</th>\n",
       "      <th>pt_dob</th>\n",
       "      <th>pt_age</th>\n",
       "      <th>visit_location</th>\n",
       "      <th>visit_reason</th>\n",
       "      <th>visit_code</th>\n",
       "      <th>visit_date</th>\n",
       "      <th>visit_day</th>\n",
       "      <th>checkin_time</th>\n",
       "      <th>...</th>\n",
       "      <th>rolling_code</th>\n",
       "      <th>assigned_num_techs</th>\n",
       "      <th>needed_num_techs</th>\n",
       "      <th>weekend</th>\n",
       "      <th>hour</th>\n",
       "      <th>denver</th>\n",
       "      <th>edgewater</th>\n",
       "      <th>lakewood</th>\n",
       "      <th>rino</th>\n",
       "      <th>wheatridge</th>\n",
       "    </tr>\n",
       "    <tr>\n",
       "      <th>pt_id</th>\n",
       "      <th></th>\n",
       "      <th></th>\n",
       "      <th></th>\n",
       "      <th></th>\n",
       "      <th></th>\n",
       "      <th></th>\n",
       "      <th></th>\n",
       "      <th></th>\n",
       "      <th></th>\n",
       "      <th></th>\n",
       "      <th></th>\n",
       "      <th></th>\n",
       "      <th></th>\n",
       "      <th></th>\n",
       "      <th></th>\n",
       "      <th></th>\n",
       "      <th></th>\n",
       "      <th></th>\n",
       "      <th></th>\n",
       "      <th></th>\n",
       "      <th></th>\n",
       "    </tr>\n",
       "  </thead>\n",
       "  <tbody>\n",
       "    <tr>\n",
       "      <th>4000011</th>\n",
       "      <td>2021-05-01 08:05:11</td>\n",
       "      <td>Linda Wong</td>\n",
       "      <td>2010-10-29</td>\n",
       "      <td>11</td>\n",
       "      <td>rino</td>\n",
       "      <td>stomach-pain</td>\n",
       "      <td>5</td>\n",
       "      <td>2021-05-01</td>\n",
       "      <td>Saturday</td>\n",
       "      <td>08:05:11</td>\n",
       "      <td>...</td>\n",
       "      <td>0.0</td>\n",
       "      <td>4</td>\n",
       "      <td>1</td>\n",
       "      <td>1</td>\n",
       "      <td>8</td>\n",
       "      <td>0</td>\n",
       "      <td>0</td>\n",
       "      <td>0</td>\n",
       "      <td>1</td>\n",
       "      <td>0</td>\n",
       "    </tr>\n",
       "    <tr>\n",
       "      <th>2000004</th>\n",
       "      <td>2021-05-01 08:09:09</td>\n",
       "      <td>Larry Hamilton</td>\n",
       "      <td>1956-08-24</td>\n",
       "      <td>65</td>\n",
       "      <td>edgewater</td>\n",
       "      <td>vaccination</td>\n",
       "      <td>3</td>\n",
       "      <td>2021-05-01</td>\n",
       "      <td>Saturday</td>\n",
       "      <td>08:09:09</td>\n",
       "      <td>...</td>\n",
       "      <td>0.0</td>\n",
       "      <td>4</td>\n",
       "      <td>1</td>\n",
       "      <td>1</td>\n",
       "      <td>8</td>\n",
       "      <td>0</td>\n",
       "      <td>1</td>\n",
       "      <td>0</td>\n",
       "      <td>0</td>\n",
       "      <td>0</td>\n",
       "    </tr>\n",
       "    <tr>\n",
       "      <th>2000015</th>\n",
       "      <td>2021-05-01 08:10:05</td>\n",
       "      <td>Leah Wright</td>\n",
       "      <td>1946-07-29</td>\n",
       "      <td>75</td>\n",
       "      <td>edgewater</td>\n",
       "      <td>vaccination</td>\n",
       "      <td>3</td>\n",
       "      <td>2021-05-01</td>\n",
       "      <td>Saturday</td>\n",
       "      <td>08:10:05</td>\n",
       "      <td>...</td>\n",
       "      <td>3.0</td>\n",
       "      <td>4</td>\n",
       "      <td>1</td>\n",
       "      <td>1</td>\n",
       "      <td>8</td>\n",
       "      <td>0</td>\n",
       "      <td>1</td>\n",
       "      <td>0</td>\n",
       "      <td>0</td>\n",
       "      <td>0</td>\n",
       "    </tr>\n",
       "    <tr>\n",
       "      <th>2000008</th>\n",
       "      <td>2021-05-01 08:10:36</td>\n",
       "      <td>Jasmine James</td>\n",
       "      <td>1979-03-06</td>\n",
       "      <td>43</td>\n",
       "      <td>edgewater</td>\n",
       "      <td>injury/accident</td>\n",
       "      <td>5</td>\n",
       "      <td>2021-05-01</td>\n",
       "      <td>Saturday</td>\n",
       "      <td>08:10:36</td>\n",
       "      <td>...</td>\n",
       "      <td>3.0</td>\n",
       "      <td>4</td>\n",
       "      <td>1</td>\n",
       "      <td>1</td>\n",
       "      <td>8</td>\n",
       "      <td>0</td>\n",
       "      <td>1</td>\n",
       "      <td>0</td>\n",
       "      <td>0</td>\n",
       "      <td>0</td>\n",
       "    </tr>\n",
       "    <tr>\n",
       "      <th>4000007</th>\n",
       "      <td>2021-05-01 08:17:26</td>\n",
       "      <td>Drew Bush</td>\n",
       "      <td>1983-04-17</td>\n",
       "      <td>39</td>\n",
       "      <td>rino</td>\n",
       "      <td>cold/flu/fever</td>\n",
       "      <td>4</td>\n",
       "      <td>2021-05-01</td>\n",
       "      <td>Saturday</td>\n",
       "      <td>08:17:26</td>\n",
       "      <td>...</td>\n",
       "      <td>5.0</td>\n",
       "      <td>4</td>\n",
       "      <td>1</td>\n",
       "      <td>1</td>\n",
       "      <td>8</td>\n",
       "      <td>0</td>\n",
       "      <td>0</td>\n",
       "      <td>0</td>\n",
       "      <td>1</td>\n",
       "      <td>0</td>\n",
       "    </tr>\n",
       "    <tr>\n",
       "      <th>...</th>\n",
       "      <td>...</td>\n",
       "      <td>...</td>\n",
       "      <td>...</td>\n",
       "      <td>...</td>\n",
       "      <td>...</td>\n",
       "      <td>...</td>\n",
       "      <td>...</td>\n",
       "      <td>...</td>\n",
       "      <td>...</td>\n",
       "      <td>...</td>\n",
       "      <td>...</td>\n",
       "      <td>...</td>\n",
       "      <td>...</td>\n",
       "      <td>...</td>\n",
       "      <td>...</td>\n",
       "      <td>...</td>\n",
       "      <td>...</td>\n",
       "      <td>...</td>\n",
       "      <td>...</td>\n",
       "      <td>...</td>\n",
       "      <td>...</td>\n",
       "    </tr>\n",
       "    <tr>\n",
       "      <th>5023118</th>\n",
       "      <td>2022-04-30 19:41:51</td>\n",
       "      <td>Mariah White</td>\n",
       "      <td>1986-05-09</td>\n",
       "      <td>36</td>\n",
       "      <td>lakewood</td>\n",
       "      <td>covid-test</td>\n",
       "      <td>4</td>\n",
       "      <td>2022-04-30</td>\n",
       "      <td>Saturday</td>\n",
       "      <td>19:41:51</td>\n",
       "      <td>...</td>\n",
       "      <td>4.6</td>\n",
       "      <td>4</td>\n",
       "      <td>3</td>\n",
       "      <td>1</td>\n",
       "      <td>19</td>\n",
       "      <td>0</td>\n",
       "      <td>0</td>\n",
       "      <td>1</td>\n",
       "      <td>0</td>\n",
       "      <td>0</td>\n",
       "    </tr>\n",
       "    <tr>\n",
       "      <th>1026583</th>\n",
       "      <td>2022-04-30 19:45:58</td>\n",
       "      <td>Matthew Mccullough</td>\n",
       "      <td>1976-08-02</td>\n",
       "      <td>45</td>\n",
       "      <td>denver</td>\n",
       "      <td>cold/flu/fever</td>\n",
       "      <td>4</td>\n",
       "      <td>2022-04-30</td>\n",
       "      <td>Saturday</td>\n",
       "      <td>19:45:58</td>\n",
       "      <td>...</td>\n",
       "      <td>4.0</td>\n",
       "      <td>4</td>\n",
       "      <td>2</td>\n",
       "      <td>1</td>\n",
       "      <td>19</td>\n",
       "      <td>1</td>\n",
       "      <td>0</td>\n",
       "      <td>0</td>\n",
       "      <td>0</td>\n",
       "      <td>0</td>\n",
       "    </tr>\n",
       "    <tr>\n",
       "      <th>5023117</th>\n",
       "      <td>2022-04-30 19:50:39</td>\n",
       "      <td>Dennis Wade</td>\n",
       "      <td>1990-12-08</td>\n",
       "      <td>31</td>\n",
       "      <td>lakewood</td>\n",
       "      <td>sore-throat</td>\n",
       "      <td>4</td>\n",
       "      <td>2022-04-30</td>\n",
       "      <td>Saturday</td>\n",
       "      <td>19:50:39</td>\n",
       "      <td>...</td>\n",
       "      <td>4.6</td>\n",
       "      <td>4</td>\n",
       "      <td>4</td>\n",
       "      <td>1</td>\n",
       "      <td>19</td>\n",
       "      <td>0</td>\n",
       "      <td>0</td>\n",
       "      <td>1</td>\n",
       "      <td>0</td>\n",
       "      <td>0</td>\n",
       "    </tr>\n",
       "    <tr>\n",
       "      <th>5023120</th>\n",
       "      <td>2022-04-30 19:52:24</td>\n",
       "      <td>John Mccormick</td>\n",
       "      <td>2016-09-05</td>\n",
       "      <td>5</td>\n",
       "      <td>lakewood</td>\n",
       "      <td>covid-test</td>\n",
       "      <td>4</td>\n",
       "      <td>2022-04-30</td>\n",
       "      <td>Saturday</td>\n",
       "      <td>19:52:24</td>\n",
       "      <td>...</td>\n",
       "      <td>4.5</td>\n",
       "      <td>4</td>\n",
       "      <td>4</td>\n",
       "      <td>1</td>\n",
       "      <td>19</td>\n",
       "      <td>0</td>\n",
       "      <td>0</td>\n",
       "      <td>1</td>\n",
       "      <td>0</td>\n",
       "      <td>0</td>\n",
       "    </tr>\n",
       "    <tr>\n",
       "      <th>5023122</th>\n",
       "      <td>2022-04-30 19:55:15</td>\n",
       "      <td>Michaela Davidson</td>\n",
       "      <td>1994-10-31</td>\n",
       "      <td>27</td>\n",
       "      <td>lakewood</td>\n",
       "      <td>cold/flu/fever</td>\n",
       "      <td>4</td>\n",
       "      <td>2022-04-30</td>\n",
       "      <td>Saturday</td>\n",
       "      <td>19:55:15</td>\n",
       "      <td>...</td>\n",
       "      <td>4.5</td>\n",
       "      <td>4</td>\n",
       "      <td>4</td>\n",
       "      <td>1</td>\n",
       "      <td>19</td>\n",
       "      <td>0</td>\n",
       "      <td>0</td>\n",
       "      <td>1</td>\n",
       "      <td>0</td>\n",
       "      <td>0</td>\n",
       "    </tr>\n",
       "  </tbody>\n",
       "</table>\n",
       "<p>109305 rows × 22 columns</p>\n",
       "</div>"
      ],
      "text/plain": [
       "                    datetime             pt_name      pt_dob  pt_age  \\\n",
       "pt_id                                                                  \n",
       "4000011  2021-05-01 08:05:11          Linda Wong  2010-10-29      11   \n",
       "2000004  2021-05-01 08:09:09      Larry Hamilton  1956-08-24      65   \n",
       "2000015  2021-05-01 08:10:05         Leah Wright  1946-07-29      75   \n",
       "2000008  2021-05-01 08:10:36       Jasmine James  1979-03-06      43   \n",
       "4000007  2021-05-01 08:17:26           Drew Bush  1983-04-17      39   \n",
       "...                      ...                 ...         ...     ...   \n",
       "5023118  2022-04-30 19:41:51        Mariah White  1986-05-09      36   \n",
       "1026583  2022-04-30 19:45:58  Matthew Mccullough  1976-08-02      45   \n",
       "5023117  2022-04-30 19:50:39         Dennis Wade  1990-12-08      31   \n",
       "5023120  2022-04-30 19:52:24      John Mccormick  2016-09-05       5   \n",
       "5023122  2022-04-30 19:55:15   Michaela Davidson  1994-10-31      27   \n",
       "\n",
       "        visit_location     visit_reason  visit_code  visit_date visit_day  \\\n",
       "pt_id                                                                       \n",
       "4000011           rino     stomach-pain           5  2021-05-01  Saturday   \n",
       "2000004      edgewater      vaccination           3  2021-05-01  Saturday   \n",
       "2000015      edgewater      vaccination           3  2021-05-01  Saturday   \n",
       "2000008      edgewater  injury/accident           5  2021-05-01  Saturday   \n",
       "4000007           rino   cold/flu/fever           4  2021-05-01  Saturday   \n",
       "...                ...              ...         ...         ...       ...   \n",
       "5023118       lakewood       covid-test           4  2022-04-30  Saturday   \n",
       "1026583         denver   cold/flu/fever           4  2022-04-30  Saturday   \n",
       "5023117       lakewood      sore-throat           4  2022-04-30  Saturday   \n",
       "5023120       lakewood       covid-test           4  2022-04-30  Saturday   \n",
       "5023122       lakewood   cold/flu/fever           4  2022-04-30  Saturday   \n",
       "\n",
       "        checkin_time  ... rolling_code  assigned_num_techs  needed_num_techs  \\\n",
       "pt_id                 ...                                                      \n",
       "4000011     08:05:11  ...          0.0                   4                 1   \n",
       "2000004     08:09:09  ...          0.0                   4                 1   \n",
       "2000015     08:10:05  ...          3.0                   4                 1   \n",
       "2000008     08:10:36  ...          3.0                   4                 1   \n",
       "4000007     08:17:26  ...          5.0                   4                 1   \n",
       "...              ...  ...          ...                 ...               ...   \n",
       "5023118     19:41:51  ...          4.6                   4                 3   \n",
       "1026583     19:45:58  ...          4.0                   4                 2   \n",
       "5023117     19:50:39  ...          4.6                   4                 4   \n",
       "5023120     19:52:24  ...          4.5                   4                 4   \n",
       "5023122     19:55:15  ...          4.5                   4                 4   \n",
       "\n",
       "         weekend  hour  denver edgewater  lakewood  rino  wheatridge  \n",
       "pt_id                                                                 \n",
       "4000011        1     8       0         0         0     1           0  \n",
       "2000004        1     8       0         1         0     0           0  \n",
       "2000015        1     8       0         1         0     0           0  \n",
       "2000008        1     8       0         1         0     0           0  \n",
       "4000007        1     8       0         0         0     1           0  \n",
       "...          ...   ...     ...       ...       ...   ...         ...  \n",
       "5023118        1    19       0         0         1     0           0  \n",
       "1026583        1    19       1         0         0     0           0  \n",
       "5023117        1    19       0         0         1     0           0  \n",
       "5023120        1    19       0         0         1     0           0  \n",
       "5023122        1    19       0         0         1     0           0  \n",
       "\n",
       "[109305 rows x 22 columns]"
      ]
     },
     "execution_count": 133,
     "metadata": {},
     "output_type": "execute_result"
    }
   ],
   "source": [
    "past_patients_df"
   ]
  },
  {
   "cell_type": "markdown",
   "metadata": {},
   "source": [
    "---\n",
    "---\n",
    "\n",
    "## 3C: Modeling\n",
    "\n",
    "**Objective**: Construct, validate, and evaluate model to predict rolling count based on past patient records.\n",
    "\n",
    "---"
   ]
  },
  {
   "cell_type": "code",
   "execution_count": 134,
   "metadata": {},
   "outputs": [],
   "source": [
    "X = past_patients_df[['denver', 'edgewater', 'wheatridge', 'rino', 'lakewood', 'weekend', 'hour']].copy()\n",
    "y = past_patients_df['needed_num_techs'].copy()"
   ]
  },
  {
   "cell_type": "code",
   "execution_count": 135,
   "metadata": {},
   "outputs": [
    {
     "data": {
      "text/html": [
       "<div>\n",
       "<style scoped>\n",
       "    .dataframe tbody tr th:only-of-type {\n",
       "        vertical-align: middle;\n",
       "    }\n",
       "\n",
       "    .dataframe tbody tr th {\n",
       "        vertical-align: top;\n",
       "    }\n",
       "\n",
       "    .dataframe thead th {\n",
       "        text-align: right;\n",
       "    }\n",
       "</style>\n",
       "<table border=\"1\" class=\"dataframe\">\n",
       "  <thead>\n",
       "    <tr style=\"text-align: right;\">\n",
       "      <th></th>\n",
       "      <th>denver</th>\n",
       "      <th>edgewater</th>\n",
       "      <th>wheatridge</th>\n",
       "      <th>rino</th>\n",
       "      <th>lakewood</th>\n",
       "      <th>weekend</th>\n",
       "      <th>hour</th>\n",
       "    </tr>\n",
       "    <tr>\n",
       "      <th>pt_id</th>\n",
       "      <th></th>\n",
       "      <th></th>\n",
       "      <th></th>\n",
       "      <th></th>\n",
       "      <th></th>\n",
       "      <th></th>\n",
       "      <th></th>\n",
       "    </tr>\n",
       "  </thead>\n",
       "  <tbody>\n",
       "    <tr>\n",
       "      <th>4000011</th>\n",
       "      <td>0</td>\n",
       "      <td>0</td>\n",
       "      <td>0</td>\n",
       "      <td>1</td>\n",
       "      <td>0</td>\n",
       "      <td>1</td>\n",
       "      <td>8</td>\n",
       "    </tr>\n",
       "    <tr>\n",
       "      <th>2000004</th>\n",
       "      <td>0</td>\n",
       "      <td>1</td>\n",
       "      <td>0</td>\n",
       "      <td>0</td>\n",
       "      <td>0</td>\n",
       "      <td>1</td>\n",
       "      <td>8</td>\n",
       "    </tr>\n",
       "    <tr>\n",
       "      <th>2000015</th>\n",
       "      <td>0</td>\n",
       "      <td>1</td>\n",
       "      <td>0</td>\n",
       "      <td>0</td>\n",
       "      <td>0</td>\n",
       "      <td>1</td>\n",
       "      <td>8</td>\n",
       "    </tr>\n",
       "    <tr>\n",
       "      <th>2000008</th>\n",
       "      <td>0</td>\n",
       "      <td>1</td>\n",
       "      <td>0</td>\n",
       "      <td>0</td>\n",
       "      <td>0</td>\n",
       "      <td>1</td>\n",
       "      <td>8</td>\n",
       "    </tr>\n",
       "    <tr>\n",
       "      <th>4000007</th>\n",
       "      <td>0</td>\n",
       "      <td>0</td>\n",
       "      <td>0</td>\n",
       "      <td>1</td>\n",
       "      <td>0</td>\n",
       "      <td>1</td>\n",
       "      <td>8</td>\n",
       "    </tr>\n",
       "    <tr>\n",
       "      <th>...</th>\n",
       "      <td>...</td>\n",
       "      <td>...</td>\n",
       "      <td>...</td>\n",
       "      <td>...</td>\n",
       "      <td>...</td>\n",
       "      <td>...</td>\n",
       "      <td>...</td>\n",
       "    </tr>\n",
       "    <tr>\n",
       "      <th>5023118</th>\n",
       "      <td>0</td>\n",
       "      <td>0</td>\n",
       "      <td>0</td>\n",
       "      <td>0</td>\n",
       "      <td>1</td>\n",
       "      <td>1</td>\n",
       "      <td>19</td>\n",
       "    </tr>\n",
       "    <tr>\n",
       "      <th>1026583</th>\n",
       "      <td>1</td>\n",
       "      <td>0</td>\n",
       "      <td>0</td>\n",
       "      <td>0</td>\n",
       "      <td>0</td>\n",
       "      <td>1</td>\n",
       "      <td>19</td>\n",
       "    </tr>\n",
       "    <tr>\n",
       "      <th>5023117</th>\n",
       "      <td>0</td>\n",
       "      <td>0</td>\n",
       "      <td>0</td>\n",
       "      <td>0</td>\n",
       "      <td>1</td>\n",
       "      <td>1</td>\n",
       "      <td>19</td>\n",
       "    </tr>\n",
       "    <tr>\n",
       "      <th>5023120</th>\n",
       "      <td>0</td>\n",
       "      <td>0</td>\n",
       "      <td>0</td>\n",
       "      <td>0</td>\n",
       "      <td>1</td>\n",
       "      <td>1</td>\n",
       "      <td>19</td>\n",
       "    </tr>\n",
       "    <tr>\n",
       "      <th>5023122</th>\n",
       "      <td>0</td>\n",
       "      <td>0</td>\n",
       "      <td>0</td>\n",
       "      <td>0</td>\n",
       "      <td>1</td>\n",
       "      <td>1</td>\n",
       "      <td>19</td>\n",
       "    </tr>\n",
       "  </tbody>\n",
       "</table>\n",
       "<p>109305 rows × 7 columns</p>\n",
       "</div>"
      ],
      "text/plain": [
       "         denver  edgewater  wheatridge  rino  lakewood  weekend hour\n",
       "pt_id                                                               \n",
       "4000011       0          0           0     1         0        1    8\n",
       "2000004       0          1           0     0         0        1    8\n",
       "2000015       0          1           0     0         0        1    8\n",
       "2000008       0          1           0     0         0        1    8\n",
       "4000007       0          0           0     1         0        1    8\n",
       "...         ...        ...         ...   ...       ...      ...  ...\n",
       "5023118       0          0           0     0         1        1   19\n",
       "1026583       1          0           0     0         0        1   19\n",
       "5023117       0          0           0     0         1        1   19\n",
       "5023120       0          0           0     0         1        1   19\n",
       "5023122       0          0           0     0         1        1   19\n",
       "\n",
       "[109305 rows x 7 columns]"
      ]
     },
     "execution_count": 135,
     "metadata": {},
     "output_type": "execute_result"
    }
   ],
   "source": [
    "X"
   ]
  },
  {
   "cell_type": "code",
   "execution_count": 136,
   "metadata": {},
   "outputs": [
    {
     "data": {
      "text/plain": [
       "pt_id\n",
       "4000011    1\n",
       "2000004    1\n",
       "2000015    1\n",
       "2000008    1\n",
       "4000007    1\n",
       "          ..\n",
       "5023118    3\n",
       "1026583    2\n",
       "5023117    4\n",
       "5023120    4\n",
       "5023122    4\n",
       "Name: needed_num_techs, Length: 109305, dtype: int64"
      ]
     },
     "execution_count": 136,
     "metadata": {},
     "output_type": "execute_result"
    }
   ],
   "source": [
    "y"
   ]
  },
  {
   "cell_type": "code",
   "execution_count": 137,
   "metadata": {},
   "outputs": [],
   "source": [
    "X_train, X_test, y_train, y_test = train_test_split(X, y, test_size=.3, random_state=42)"
   ]
  },
  {
   "cell_type": "code",
   "execution_count": 138,
   "metadata": {},
   "outputs": [],
   "source": [
    "# lr = LinearRegression()\n",
    "# lr.fit(X_train,y_train)\n",
    "# y_train_pred = lr.predict(X_train)\n",
    "# y_test_pred = lr.predict(X_test)\n",
    "# np.sqrt(mean_squared_error(y_train, y_train_pred)), np.sqrt(mean_squared_error(y_test, y_test_pred))"
   ]
  },
  {
   "cell_type": "code",
   "execution_count": 139,
   "metadata": {},
   "outputs": [
    {
     "name": "stdout",
     "output_type": "stream",
     "text": [
      "Train RMSE: 0.9534201713201367\n",
      "Test RMSE: 0.9551850760745493\n"
     ]
    }
   ],
   "source": [
    "rf = RandomForestRegressor()\n",
    "rf.fit(X_train, y_train)\n",
    "y_train_pred = rf.predict(X_train)\n",
    "y_test_pred = rf.predict(X_test)\n",
    "print(\"Train RMSE:\", np.sqrt(mean_squared_error(y_train, y_train_pred)))\n",
    "print(\"Test RMSE:\", np.sqrt(mean_squared_error(y_test, y_test_pred)))\n"
   ]
  },
  {
   "cell_type": "code",
   "execution_count": 140,
   "metadata": {},
   "outputs": [
    {
     "data": {
      "text/plain": [
       "denver         1\n",
       "edgewater      0\n",
       "wheatridge     0\n",
       "rino           0\n",
       "lakewood       0\n",
       "weekend        0\n",
       "hour          11\n",
       "Name: 1006918, dtype: int64"
      ]
     },
     "execution_count": 140,
     "metadata": {},
     "output_type": "execute_result"
    }
   ],
   "source": [
    "X_train.loc[1006918]"
   ]
  },
  {
   "cell_type": "code",
   "execution_count": 141,
   "metadata": {},
   "outputs": [
    {
     "data": {
      "text/html": [
       "<div>\n",
       "<style scoped>\n",
       "    .dataframe tbody tr th:only-of-type {\n",
       "        vertical-align: middle;\n",
       "    }\n",
       "\n",
       "    .dataframe tbody tr th {\n",
       "        vertical-align: top;\n",
       "    }\n",
       "\n",
       "    .dataframe thead th {\n",
       "        text-align: right;\n",
       "    }\n",
       "</style>\n",
       "<table border=\"1\" class=\"dataframe\">\n",
       "  <thead>\n",
       "    <tr style=\"text-align: right;\">\n",
       "      <th></th>\n",
       "      <th>denver</th>\n",
       "      <th>edgewater</th>\n",
       "      <th>wheatridge</th>\n",
       "      <th>rino</th>\n",
       "      <th>lakewood</th>\n",
       "      <th>weekend</th>\n",
       "      <th>hour</th>\n",
       "    </tr>\n",
       "    <tr>\n",
       "      <th>pt_id</th>\n",
       "      <th></th>\n",
       "      <th></th>\n",
       "      <th></th>\n",
       "      <th></th>\n",
       "      <th></th>\n",
       "      <th></th>\n",
       "      <th></th>\n",
       "    </tr>\n",
       "  </thead>\n",
       "  <tbody>\n",
       "    <tr>\n",
       "      <th>1006918</th>\n",
       "      <td>1</td>\n",
       "      <td>0</td>\n",
       "      <td>0</td>\n",
       "      <td>0</td>\n",
       "      <td>0</td>\n",
       "      <td>0</td>\n",
       "      <td>11</td>\n",
       "    </tr>\n",
       "  </tbody>\n",
       "</table>\n",
       "</div>"
      ],
      "text/plain": [
       "         denver  edgewater  wheatridge  rino  lakewood  weekend hour\n",
       "pt_id                                                               \n",
       "1006918       1          0           0     0         0        0   11"
      ]
     },
     "execution_count": 141,
     "metadata": {},
     "output_type": "execute_result"
    }
   ],
   "source": [
    "X_train[X_train.index == 1006918]"
   ]
  },
  {
   "cell_type": "code",
   "execution_count": 142,
   "metadata": {},
   "outputs": [
    {
     "data": {
      "text/plain": [
       "2.9093333396049013"
      ]
     },
     "execution_count": 142,
     "metadata": {},
     "output_type": "execute_result"
    }
   ],
   "source": [
    "rf.predict(X_train[X_train.index == 1006918])[0]"
   ]
  },
  {
   "cell_type": "markdown",
   "metadata": {},
   "source": [
    "---\n",
    "---\n",
    "\n",
    "## 3D: Technician Navigation\n",
    "\n",
    "**Objective**: Implement technician navigation strategies based on past patient records.\n",
    "\n",
    "---"
   ]
  },
  {
   "cell_type": "markdown",
   "metadata": {},
   "source": [
    "Use past patients for ML part, feed new patients to model."
   ]
  },
  {
   "cell_type": "markdown",
   "metadata": {},
   "source": [
    "### Re-calibrate scheduling to a lower number of assigned techs per clinic:"
   ]
  },
  {
   "cell_type": "code",
   "execution_count": 143,
   "metadata": {},
   "outputs": [
    {
     "data": {
      "text/html": [
       "<div>\n",
       "<style scoped>\n",
       "    .dataframe tbody tr th:only-of-type {\n",
       "        vertical-align: middle;\n",
       "    }\n",
       "\n",
       "    .dataframe tbody tr th {\n",
       "        vertical-align: top;\n",
       "    }\n",
       "\n",
       "    .dataframe thead th {\n",
       "        text-align: right;\n",
       "    }\n",
       "</style>\n",
       "<table border=\"1\" class=\"dataframe\">\n",
       "  <thead>\n",
       "    <tr style=\"text-align: right;\">\n",
       "      <th></th>\n",
       "      <th>visit_location</th>\n",
       "      <th>visit_date</th>\n",
       "      <th>assigned_num_techs</th>\n",
       "      <th>new_num_techs</th>\n",
       "    </tr>\n",
       "    <tr>\n",
       "      <th>pt_id</th>\n",
       "      <th></th>\n",
       "      <th></th>\n",
       "      <th></th>\n",
       "      <th></th>\n",
       "    </tr>\n",
       "  </thead>\n",
       "  <tbody>\n",
       "    <tr>\n",
       "      <th>4020227</th>\n",
       "      <td>rino</td>\n",
       "      <td>2022-05-01</td>\n",
       "      <td>4</td>\n",
       "      <td>3</td>\n",
       "    </tr>\n",
       "    <tr>\n",
       "      <th>4020228</th>\n",
       "      <td>rino</td>\n",
       "      <td>2022-05-01</td>\n",
       "      <td>4</td>\n",
       "      <td>3</td>\n",
       "    </tr>\n",
       "    <tr>\n",
       "      <th>4020229</th>\n",
       "      <td>rino</td>\n",
       "      <td>2022-05-01</td>\n",
       "      <td>4</td>\n",
       "      <td>3</td>\n",
       "    </tr>\n",
       "    <tr>\n",
       "      <th>4020232</th>\n",
       "      <td>rino</td>\n",
       "      <td>2022-05-01</td>\n",
       "      <td>4</td>\n",
       "      <td>3</td>\n",
       "    </tr>\n",
       "    <tr>\n",
       "      <th>4020230</th>\n",
       "      <td>rino</td>\n",
       "      <td>2022-05-01</td>\n",
       "      <td>4</td>\n",
       "      <td>3</td>\n",
       "    </tr>\n",
       "    <tr>\n",
       "      <th>...</th>\n",
       "      <td>...</td>\n",
       "      <td>...</td>\n",
       "      <td>...</td>\n",
       "      <td>...</td>\n",
       "    </tr>\n",
       "    <tr>\n",
       "      <th>3023134</th>\n",
       "      <td>wheatridge</td>\n",
       "      <td>2022-05-31</td>\n",
       "      <td>4</td>\n",
       "      <td>3</td>\n",
       "    </tr>\n",
       "    <tr>\n",
       "      <th>2019594</th>\n",
       "      <td>edgewater</td>\n",
       "      <td>2022-05-31</td>\n",
       "      <td>3</td>\n",
       "      <td>2</td>\n",
       "    </tr>\n",
       "    <tr>\n",
       "      <th>5025139</th>\n",
       "      <td>lakewood</td>\n",
       "      <td>2022-05-31</td>\n",
       "      <td>5</td>\n",
       "      <td>4</td>\n",
       "    </tr>\n",
       "    <tr>\n",
       "      <th>4021961</th>\n",
       "      <td>rino</td>\n",
       "      <td>2022-05-31</td>\n",
       "      <td>4</td>\n",
       "      <td>3</td>\n",
       "    </tr>\n",
       "    <tr>\n",
       "      <th>2019597</th>\n",
       "      <td>edgewater</td>\n",
       "      <td>2022-05-31</td>\n",
       "      <td>3</td>\n",
       "      <td>2</td>\n",
       "    </tr>\n",
       "  </tbody>\n",
       "</table>\n",
       "<p>9287 rows × 4 columns</p>\n",
       "</div>"
      ],
      "text/plain": [
       "        visit_location  visit_date  assigned_num_techs  new_num_techs\n",
       "pt_id                                                                \n",
       "4020227           rino  2022-05-01                   4              3\n",
       "4020228           rino  2022-05-01                   4              3\n",
       "4020229           rino  2022-05-01                   4              3\n",
       "4020232           rino  2022-05-01                   4              3\n",
       "4020230           rino  2022-05-01                   4              3\n",
       "...                ...         ...                 ...            ...\n",
       "3023134     wheatridge  2022-05-31                   4              3\n",
       "2019594      edgewater  2022-05-31                   3              2\n",
       "5025139       lakewood  2022-05-31                   5              4\n",
       "4021961           rino  2022-05-31                   4              3\n",
       "2019597      edgewater  2022-05-31                   3              2\n",
       "\n",
       "[9287 rows x 4 columns]"
      ]
     },
     "execution_count": 143,
     "metadata": {},
     "output_type": "execute_result"
    }
   ],
   "source": [
    "### APPROACH 1: REDUCE NUMBER OF CLIENT-BASED SCHEDULED TECHNICIANS (\"old way\") BY SPECIFIED AMOUNT \n",
    "\n",
    "# Define variables based on desired specs\n",
    "reduce_by = 1\n",
    "\n",
    "# Reduce tech assignments by specified amount\n",
    "past_patients_df['new_num_techs'] = past_patients_df.assigned_num_techs.apply(lambda x: x-1)\n",
    "new_patients_df['new_num_techs'] = new_patients_df.assigned_num_techs.apply(lambda x: x-1)\n",
    "new_patients_df[['visit_location', 'visit_date', 'assigned_num_techs', 'new_num_techs']]"
   ]
  },
  {
   "cell_type": "code",
   "execution_count": null,
   "metadata": {},
   "outputs": [],
   "source": []
  },
  {
   "cell_type": "code",
   "execution_count": 144,
   "metadata": {},
   "outputs": [],
   "source": [
    "# ### APPROACH 2: REDUCE NUMBER OF CLIENT-BASED SCHEDULED TECHNICIANS (\"old way\") BY DESIRED QUANTILE \n",
    "\n",
    "# # Define variables based on desired specs\n",
    "# q = 0.75\n",
    "\n",
    "# # Retrieve specified quantile rolling count based on each day/location's aggregated data\n",
    "# schedule_df = df.groupby(['visit_location', 'visit_date', 'visit_day']) \\\n",
    "#     .quantile(q=q).reset_index(drop=False)[['visit_location', 'visit_date', 'rolling_ct']]\n",
    "\n",
    "# # Compute new tech assignments based on desired quantile of rolling patient count\n",
    "# schedule_df['new_num_techs'] = schedule_df.rolling_ct.apply(lambda x: int(x/3)+1 if x%3 != 0 else int(x/3))\n",
    "\n",
    "# # Create dictionary object consisting of assigned number of techs per date&location\n",
    "# schedule_zipper = zip(schedule_df.visit_date, schedule_df.visit_location, schedule_df.new_num_techs)\n",
    "# schedule_dict = {}\n",
    "# for i in schedule_zipper:\n",
    "#     schedule_dict[(i[0], i[1])] = i[2]\n",
    "\n",
    "# # Assign techs in patient logs based on created dictionary\n",
    "# df['new_num_techs'] = df[['visit_date', 'visit_location']] \\\n",
    "#     .apply(lambda x: (x[0], x[1]), axis=1) \\\n",
    "#     .map(schedule_dict)"
   ]
  },
  {
   "cell_type": "code",
   "execution_count": 145,
   "metadata": {},
   "outputs": [],
   "source": [
    "cols = new_patients_df.columns.tolist()"
   ]
  },
  {
   "cell_type": "markdown",
   "metadata": {},
   "source": [
    "### Simulate tech-navigation for past patient records:"
   ]
  },
  {
   "cell_type": "markdown",
   "metadata": {
    "jp-MarkdownHeadingCollapsed": true,
    "tags": []
   },
   "source": [
    "Thoughts, Ideas, Areas for Improvement:\n",
    "\n",
    "- Right now, tech count is being updated instantaenously, rather than realistic 10-15 min interval after (to account for drive time, etc.)\n",
    "\n",
    "- Implement time-series ML?? If nearest clinic has only 1 available tech to send, then conduct time series to predict if patient count for that clinic will increase or decrease. If increase, then use next location to pull tech from, otherwise, use the current (nearest) location. ML not needed if available count is >1 because that clinic still has extra hands available and it would be a waste of computational power to conduct ML at that point"
   ]
  },
  {
   "cell_type": "code",
   "execution_count": 172,
   "metadata": {
    "scrolled": true,
    "tags": []
   },
   "outputs": [
    {
     "name": "stdout",
     "output_type": "stream",
     "text": [
      "08:58:16 - Rino Clinic needs a technician\n",
      "- Availability:  ['Denver']\n",
      "\n",
      "12:38:58 - Edgewater Clinic needs a technician\n",
      "- Availability:  ['Wheatridge', 'Rino', 'Denver']\n",
      "- Assess if pulling from wheatridge is feasible:\n",
      "    - Predicted amount of techs needed at wheatridge:  2\n",
      "    - Current amount of techs needed at wheatridge:  2\n",
      "        - ML model recommends no transfer from wheatridge\n",
      "- Assess if pulling from rino is feasible:\n",
      "\n",
      "12:50:08 - Rino Clinic needs a technician\n",
      "- Availability:  ['Denver', 'Wheatridge']\n",
      "\n",
      "13:34:09 - Edgewater Clinic needs a technician\n",
      "- Availability:  ['Wheatridge', 'Denver']\n",
      "\n",
      "15:53:59 - Denver Clinic needs a technician\n",
      "- Availability:  ['Rino', 'Edgewater', 'Wheatridge', 'Lakewood']\n",
      "\n",
      "16:13:43 - Denver Clinic needs a technician\n",
      "- Availability:  ['Rino', 'Edgewater', 'Wheatridge', 'Lakewood']\n",
      "\n",
      "16:31:33 - Denver Clinic needs a technician\n",
      "- Availability:  ['Rino', 'Edgewater', 'Wheatridge']\n",
      "\n",
      "18:04:34 - Wheatridge Clinic needs a technician\n",
      "- Availability:  ['Edgewater', 'Lakewood', 'Rino', 'Denver']\n",
      "- Assess if pulling from edgewater is feasible:\n",
      "    - Predicted amount of techs needed at edgewater:  2\n",
      "    - Current amount of techs needed at edgewater:  2\n",
      "        - ML model recommends no transfer from edgewater\n",
      "- Assess if pulling from lakewood is feasible:\n",
      "\n",
      "19:53:22 - Lakewood Clinic needs a technician\n",
      "- Availability:  ['Edgewater', 'Wheatridge', 'Denver', 'Rino']\n",
      "- Assess if pulling from edgewater is feasible:\n",
      "    - Predicted amount of techs needed at edgewater:  3\n",
      "    - Current amount of techs needed at edgewater:  2\n",
      "        - ML model recommends no transfer from edgewater\n",
      "- Assess if pulling from wheatridge is feasible:\n",
      "\n",
      "09:09:57 - Denver Clinic needs a technician\n",
      "- Availability:  ['Rino', 'Edgewater']\n",
      "\n",
      "09:14:31 - Wheatridge Clinic needs a technician\n",
      "- Availability:  ['Edgewater', 'Rino']\n",
      "- Assess if pulling from edgewater is feasible:\n",
      "    - Predicted amount of techs needed at edgewater:  2\n",
      "    - Current amount of techs needed at edgewater:  3\n",
      "- Model anticipates Edgewater clinic to become less busy; Able to pull from this location.\n",
      "- Pull technician from nearest clinic: Edgewater, 1 available\n",
      "- Technician from Edgewater left at 09:16:32\n",
      "- Technician from Edgewater arrived at Wheatridge at 09:25:17\n",
      "- Wheatridge: before count = 2 | after count = 3\n",
      "- Edgewater: before count = 4 | after count = 3\n",
      "\n",
      "09:20:25 - Denver Clinic needs a technician\n",
      "- Availability:  ['Rino', 'Edgewater']\n",
      "\n",
      "09:27:39 - Lakewood Clinic needs a technician\n",
      "- Availability:  ['Edgewater', 'Rino']\n",
      "- Assess if pulling from edgewater is feasible:\n",
      "    - Predicted amount of techs needed at edgewater:  2\n",
      "    - Current amount of techs needed at edgewater:  1\n",
      "        - ML model recommends no transfer from edgewater\n",
      "- Assess if pulling from rino is feasible:\n",
      "\n",
      "10:02:05 - Wheatridge Clinic needs a technician\n",
      "- Availability:  ['Rino', 'Denver']\n",
      "- Assess if pulling from rino is feasible:\n",
      "    - Predicted amount of techs needed at rino:  2\n",
      "    - Current amount of techs needed at rino:  2\n",
      "        - ML model recommends no transfer from rino\n",
      "- Assess if pulling from denver is feasible:\n",
      "\n",
      "12:02:55 - Wheatridge Clinic needs a technician\n",
      "- Availability:  ['Edgewater', 'Lakewood', 'Rino', 'Denver']\n",
      "- Assess if pulling from edgewater is feasible:\n",
      "    - Predicted amount of techs needed at edgewater:  2\n",
      "    - Current amount of techs needed at edgewater:  1\n",
      "        - ML model recommends no transfer from edgewater\n",
      "- Assess if pulling from lakewood is feasible:\n",
      "\n",
      "12:57:08 - Wheatridge Clinic needs a technician\n",
      "- Availability:  ['Rino']\n",
      "\n",
      "13:16:42 - Wheatridge Clinic needs a technician\n",
      "- Availability:  ['Rino']\n",
      "\n",
      "13:21:15 - Edgewater Clinic needs a technician\n",
      "- Availability:  ['Rino']\n",
      "\n",
      "15:45:37 - Lakewood Clinic needs a technician\n",
      "- Availability:  ['Edgewater']\n",
      "\n",
      "16:14:19 - Lakewood Clinic needs a technician\n",
      "- Availability:  ['Edgewater']\n",
      "\n",
      "16:23:23 - Lakewood Clinic needs a technician\n",
      "- Availability:  ['Edgewater']\n",
      "\n",
      "17:28:09 - Wheatridge Clinic needs a technician\n",
      "- Availability:  ['Edgewater', 'Lakewood', 'Denver']\n",
      "\n",
      "18:06:45 - Wheatridge Clinic needs a technician\n",
      "- Availability:  ['Edgewater', 'Lakewood', 'Rino']\n",
      "\n",
      "19:52:31 - Rino Clinic needs a technician\n",
      "- Availability:  ['Denver', 'Edgewater', 'Lakewood']\n",
      "- Assess if pulling from denver is feasible:\n",
      "    - Predicted amount of techs needed at denver:  2\n",
      "    - Current amount of techs needed at denver:  2\n",
      "        - ML model recommends no transfer from denver\n",
      "- Assess if pulling from edgewater is feasible:\n",
      "\n",
      "09:01:49 - Wheatridge Clinic needs a technician\n",
      "- Availability:  ['Edgewater', 'Rino']\n",
      "- Assess if pulling from edgewater is feasible:\n",
      "    - Predicted amount of techs needed at edgewater:  2\n",
      "    - Current amount of techs needed at edgewater:  0\n",
      "        - ML model recommends no transfer from edgewater\n",
      "- Assess if pulling from rino is feasible:\n",
      "\n",
      "09:16:43 - Wheatridge Clinic needs a technician\n",
      "- Availability:  ['Edgewater', 'Rino']\n",
      "- Assess if pulling from edgewater is feasible:\n",
      "    - Predicted amount of techs needed at edgewater:  2\n",
      "    - Current amount of techs needed at edgewater:  0\n",
      "        - ML model recommends no transfer from edgewater\n",
      "- Assess if pulling from rino is feasible:\n",
      "\n",
      "09:31:24 - Denver Clinic needs a technician\n",
      "- Availability:  ['Rino']\n",
      "- Assess if pulling from rino is feasible:\n",
      "    - Predicted amount of techs needed at rino:  3\n",
      "    - Current amount of techs needed at rino:  2\n",
      "        - ML model recommends no transfer from rino\n",
      "09:34:11 - Wheatridge Clinic needs a technician\n",
      "- Availability:  ['Rino']\n",
      "- Assess if pulling from rino is feasible:\n",
      "    - Predicted amount of techs needed at rino:  2\n",
      "    - Current amount of techs needed at rino:  2\n",
      "        - ML model recommends no transfer from rino\n",
      "09:34:55 - Denver Clinic needs a technician\n",
      "- Availability:  ['Rino']\n",
      "- Assess if pulling from rino is feasible:\n",
      "    - Predicted amount of techs needed at rino:  3\n",
      "    - Current amount of techs needed at rino:  2\n",
      "        - ML model recommends no transfer from rino\n",
      "09:38:14 - Lakewood Clinic needs a technician\n",
      "- Availability:  ['Rino']\n",
      "- Assess if pulling from rino is feasible:\n",
      "    - Predicted amount of techs needed at rino:  2\n",
      "    - Current amount of techs needed at rino:  2\n",
      "        - ML model recommends no transfer from rino\n",
      "09:39:19 - Denver Clinic needs a technician\n",
      "- Availability:  ['Rino']\n",
      "- Assess if pulling from rino is feasible:\n",
      "    - Predicted amount of techs needed at rino:  3\n",
      "    - Current amount of techs needed at rino:  2\n",
      "        - ML model recommends no transfer from rino\n",
      "09:41:58 - Denver Clinic needs a technician\n",
      "- Availability:  []\n",
      "No movement at this time; all clinics are busy.\n",
      "09:47:21 - Denver Clinic needs a technician\n",
      "- Availability:  []\n",
      "No movement at this time; all clinics are busy.\n",
      "09:51:53 - Denver Clinic needs a technician\n",
      "- Availability:  []\n",
      "No movement at this time; all clinics are busy.\n",
      "10:38:33 - Edgewater Clinic needs a technician\n",
      "- Availability:  ['Wheatridge', 'Lakewood', 'Denver']\n",
      "- Assess if pulling from wheatridge is feasible:\n",
      "    - Predicted amount of techs needed at wheatridge:  2\n",
      "    - Current amount of techs needed at wheatridge:  3\n",
      "- Model anticipates Wheatridge clinic to become less busy; Able to pull from this location.\n",
      "- Pull technician from nearest clinic: Wheatridge, 1 available\n",
      "- Technician from Wheatridge left at 10:41:05\n",
      "- Technician from Wheatridge arrived at Edgewater at 10:48:40\n",
      "- Edgewater: before count = 2 | after count = 3\n",
      "- Wheatridge: before count = 4 | after count = 3\n",
      "\n",
      "12:09:03 - Denver Clinic needs a technician\n",
      "- Availability:  ['Wheatridge', 'Lakewood']\n",
      "\n",
      "14:50:58 - Edgewater Clinic needs a technician\n",
      "- Availability:  ['Wheatridge', 'Lakewood', 'Rino']\n",
      "\n",
      "17:46:16 - Edgewater Clinic needs a technician\n",
      "- Availability:  ['Wheatridge', 'Lakewood', 'Rino', 'Denver']\n",
      "- Assess if pulling from wheatridge is feasible:\n",
      "    - Predicted amount of techs needed at wheatridge:  1\n",
      "    - Current amount of techs needed at wheatridge:  1\n",
      "        - ML model recommends no transfer from wheatridge\n",
      "- Assess if pulling from lakewood is feasible:\n",
      "\n",
      "18:15:22 - Rino Clinic needs a technician\n",
      "- Availability:  ['Wheatridge', 'Lakewood']\n",
      "\n",
      "19:44:37 - Lakewood Clinic needs a technician\n",
      "- Availability:  ['Wheatridge', 'Rino']\n",
      "\n",
      "19:58:22 - Lakewood Clinic needs a technician\n",
      "- Availability:  ['Edgewater', 'Wheatridge', 'Rino']\n",
      "- Assess if pulling from edgewater is feasible:\n",
      "    - Predicted amount of techs needed at edgewater:  3\n",
      "    - Current amount of techs needed at edgewater:  2\n",
      "        - ML model recommends no transfer from edgewater\n",
      "- Assess if pulling from wheatridge is feasible:\n",
      "\n",
      "08:46:11 - Wheatridge Clinic needs a technician\n",
      "- Availability:  ['Edgewater', 'Lakewood', 'Rino', 'Denver']\n",
      "- Assess if pulling from edgewater is feasible:\n",
      "    - Predicted amount of techs needed at edgewater:  2\n",
      "    - Current amount of techs needed at edgewater:  3\n",
      "- Model anticipates Edgewater clinic to become less busy; Able to pull from this location.\n",
      "- Pull technician from nearest clinic: Edgewater, 1 available\n",
      "- Technician from Edgewater left at 08:48:56\n",
      "- Technician from Edgewater arrived at Wheatridge at 08:59:00\n",
      "- Wheatridge: before count = 2 | after count = 3\n",
      "- Edgewater: before count = 4 | after count = 3\n",
      "\n",
      "09:11:12 - Edgewater Clinic needs a technician\n",
      "- Availability:  ['Rino', 'Denver']\n",
      "\n",
      "09:19:42 - Denver Clinic needs a technician\n",
      "- Availability:  ['Rino']\n",
      "\n",
      "09:58:39 - Rino Clinic needs a technician\n",
      "- Availability:  []\n",
      "No movement at this time; all clinics are busy.\n",
      "11:24:01 - Wheatridge Clinic needs a technician\n",
      "- Availability:  ['Edgewater', 'Lakewood', 'Rino', 'Denver']\n",
      "\n",
      "12:21:55 - Wheatridge Clinic needs a technician\n",
      "- Availability:  ['Edgewater', 'Lakewood', 'Rino', 'Denver']\n",
      "\n",
      "16:17:27 - Lakewood Clinic needs a technician\n",
      "- Availability:  ['Edgewater', 'Wheatridge', 'Denver', 'Rino']\n",
      "- Assess if pulling from edgewater is feasible:\n",
      "    - Predicted amount of techs needed at edgewater:  2\n",
      "    - Current amount of techs needed at edgewater:  1\n",
      "        - ML model recommends no transfer from edgewater\n",
      "- Assess if pulling from wheatridge is feasible:\n",
      "\n",
      "17:48:10 - Wheatridge Clinic needs a technician\n",
      "- Availability:  ['Edgewater', 'Rino', 'Denver']\n",
      "- Assess if pulling from edgewater is feasible:\n",
      "    - Predicted amount of techs needed at edgewater:  2\n",
      "    - Current amount of techs needed at edgewater:  1\n",
      "        - ML model recommends no transfer from edgewater\n",
      "- Assess if pulling from rino is feasible:\n",
      "\n",
      "19:34:28 - Edgewater Clinic needs a technician\n",
      "- Availability:  ['Rino', 'Denver']\n",
      "- Assess if pulling from rino is feasible:\n",
      "    - Predicted amount of techs needed at rino:  2\n",
      "    - Current amount of techs needed at rino:  1\n",
      "        - ML model recommends no transfer from rino\n",
      "- Assess if pulling from denver is feasible:\n",
      "\n",
      "08:58:36 - Wheatridge Clinic needs a technician\n",
      "- Availability:  ['Edgewater', 'Lakewood', 'Rino']\n",
      "- Assess if pulling from edgewater is feasible:\n",
      "    - Predicted amount of techs needed at edgewater:  2\n",
      "    - Current amount of techs needed at edgewater:  2\n",
      "        - ML model recommends no transfer from edgewater\n",
      "- Assess if pulling from lakewood is feasible:\n",
      "\n",
      "09:20:09 - Denver Clinic needs a technician\n",
      "- Availability:  ['Rino', 'Lakewood']\n",
      "\n",
      "09:26:43 - Edgewater Clinic needs a technician\n",
      "- Availability:  ['Rino']\n",
      "\n",
      "11:12:45 - Denver Clinic needs a technician\n",
      "- Availability:  ['Edgewater', 'Wheatridge', 'Lakewood']\n",
      "- Assess if pulling from edgewater is feasible:\n",
      "    - Predicted amount of techs needed at edgewater:  2\n",
      "    - Current amount of techs needed at edgewater:  2\n",
      "        - ML model recommends no transfer from edgewater\n",
      "- Assess if pulling from wheatridge is feasible:\n",
      "\n",
      "11:31:38 - Denver Clinic needs a technician\n",
      "- Availability:  ['Rino', 'Edgewater', 'Wheatridge', 'Lakewood']\n",
      "- Assess if pulling from rino is feasible:\n",
      "    - Predicted amount of techs needed at rino:  2\n",
      "    - Current amount of techs needed at rino:  1\n",
      "        - ML model recommends no transfer from rino\n",
      "- Assess if pulling from edgewater is feasible:\n",
      "\n",
      "12:07:39 - Lakewood Clinic needs a technician\n",
      "- Availability:  ['Edgewater', 'Wheatridge', 'Rino']\n",
      "- Assess if pulling from edgewater is feasible:\n",
      "    - Predicted amount of techs needed at edgewater:  2\n",
      "    - Current amount of techs needed at edgewater:  0\n",
      "        - ML model recommends no transfer from edgewater\n",
      "- Assess if pulling from wheatridge is feasible:\n",
      "\n",
      "13:12:04 - Edgewater Clinic needs a technician\n",
      "- Availability:  ['Wheatridge', 'Denver']\n",
      "\n",
      "13:17:18 - Rino Clinic needs a technician\n",
      "- Availability:  ['Denver', 'Wheatridge']\n",
      "\n",
      "16:59:44 - Denver Clinic needs a technician\n",
      "- Availability:  ['Edgewater', 'Wheatridge', 'Lakewood']\n",
      "- Assess if pulling from edgewater is feasible:\n",
      "    - Predicted amount of techs needed at edgewater:  2\n",
      "    - Current amount of techs needed at edgewater:  2\n",
      "        - ML model recommends no transfer from edgewater\n",
      "- Assess if pulling from wheatridge is feasible:\n",
      "\n",
      "19:48:29 - Rino Clinic needs a technician\n",
      "- Availability:  ['Denver', 'Wheatridge', 'Lakewood']\n",
      "\n",
      "19:48:53 - Edgewater Clinic needs a technician\n",
      "- Availability:  ['Wheatridge', 'Lakewood', 'Denver']\n",
      "- Assess if pulling from wheatridge is feasible:\n",
      "    - Predicted amount of techs needed at wheatridge:  2\n",
      "    - Current amount of techs needed at wheatridge:  1\n",
      "        - ML model recommends no transfer from wheatridge\n",
      "- Assess if pulling from lakewood is feasible:\n",
      "\n",
      "19:59:28 - Rino Clinic needs a technician\n",
      "- Availability:  ['Denver', 'Wheatridge', 'Lakewood']\n",
      "\n",
      "08:32:58 - Wheatridge Clinic needs a technician\n",
      "- Availability:  ['Edgewater', 'Lakewood', 'Rino', 'Denver']\n",
      "- Assess if pulling from edgewater is feasible:\n",
      "    - Predicted amount of techs needed at edgewater:  2\n",
      "    - Current amount of techs needed at edgewater:  2\n",
      "        - ML model recommends no transfer from edgewater\n",
      "- Assess if pulling from lakewood is feasible:\n",
      "\n",
      "10:33:16 - Rino Clinic needs a technician\n",
      "- Availability:  ['Denver', 'Wheatridge', 'Lakewood']\n",
      "\n",
      "10:46:48 - Lakewood Clinic needs a technician\n",
      "- Availability:  ['Wheatridge', 'Denver']\n",
      "\n",
      "15:34:40 - Edgewater Clinic needs a technician\n",
      "- Availability:  ['Wheatridge', 'Lakewood', 'Rino', 'Denver']\n",
      "\n",
      "18:23:51 - Denver Clinic needs a technician\n",
      "- Availability:  ['Rino', 'Edgewater', 'Wheatridge', 'Lakewood']\n",
      "\n",
      "19:06:32 - Rino Clinic needs a technician\n",
      "- Availability:  ['Wheatridge', 'Lakewood']\n",
      "\n",
      "19:34:35 - Rino Clinic needs a technician\n",
      "- Availability:  ['Denver', 'Wheatridge', 'Lakewood']\n",
      "- Assess if pulling from denver is feasible:\n",
      "    - Predicted amount of techs needed at denver:  2\n",
      "    - Current amount of techs needed at denver:  4\n",
      "- Model anticipates Denver clinic to become less busy; Able to pull from this location.\n",
      "- Pull technician from nearest clinic: Denver, 1 available\n",
      "- Technician from Denver left at 19:37:15\n",
      "- Technician from Denver arrived at Rino at 19:51:00\n",
      "- Rino: before count = 3 | after count = 4\n",
      "- Denver: before count = 5 | after count = 4\n",
      "\n",
      "19:41:36 - Edgewater Clinic needs a technician\n",
      "- Availability:  ['Wheatridge', 'Lakewood', 'Denver']\n",
      "\n",
      "08:29:02 - Rino Clinic needs a technician\n",
      "- Availability:  ['Denver', 'Edgewater', 'Wheatridge', 'Lakewood']\n",
      "- Assess if pulling from denver is feasible:\n",
      "    - Predicted amount of techs needed at denver:  2\n",
      "    - Current amount of techs needed at denver:  4\n",
      "- Model anticipates Denver clinic to become less busy; Able to pull from this location.\n",
      "- Pull technician from nearest clinic: Denver, 1 available\n",
      "- Technician from Denver left at 08:31:11\n",
      "- Technician from Denver arrived at Rino at 08:41:57\n",
      "- Rino: before count = 3 | after count = 4\n",
      "- Denver: before count = 5 | after count = 4\n",
      "\n",
      "08:52:01 - Edgewater Clinic needs a technician\n",
      "- Availability:  ['Wheatridge', 'Lakewood', 'Denver']\n",
      "\n",
      "09:21:58 - Edgewater Clinic needs a technician\n",
      "- Availability:  ['Wheatridge', 'Lakewood', 'Denver']\n",
      "\n",
      "12:20:45 - Edgewater Clinic needs a technician\n",
      "- Availability:  ['Wheatridge', 'Lakewood', 'Rino']\n",
      "\n",
      "12:30:20 - Denver Clinic needs a technician\n",
      "- Availability:  ['Rino', 'Wheatridge', 'Lakewood']\n",
      "\n",
      "12:30:41 - Edgewater Clinic needs a technician\n",
      "- Availability:  ['Wheatridge', 'Lakewood', 'Rino']\n",
      "\n",
      "14:24:41 - Denver Clinic needs a technician\n",
      "- Availability:  ['Rino', 'Wheatridge', 'Lakewood']\n",
      "\n",
      "15:21:11 - Rino Clinic needs a technician\n",
      "- Availability:  ['Wheatridge', 'Lakewood']\n",
      "- Assess if pulling from wheatridge is feasible:\n",
      "    - Predicted amount of techs needed at wheatridge:  1\n",
      "    - Current amount of techs needed at wheatridge:  2\n",
      "- Model anticipates Wheatridge clinic to become less busy; Able to pull from this location.\n",
      "- Pull technician from nearest clinic: Wheatridge, 1 available\n",
      "- Technician from Wheatridge left at 15:23:42\n",
      "- Technician from Wheatridge arrived at Rino at 15:36:14\n",
      "- Rino: before count = 3 | after count = 4\n",
      "- Wheatridge: before count = 3 | after count = 2\n",
      "\n",
      "15:56:21 - Rino Clinic needs a technician\n",
      "- Availability:  ['Denver', 'Wheatridge', 'Lakewood']\n",
      "- Assess if pulling from denver is feasible:\n",
      "    - Predicted amount of techs needed at denver:  1\n",
      "    - Current amount of techs needed at denver:  3\n",
      "- Model anticipates Denver clinic to become less busy; Able to pull from this location.\n",
      "- Pull technician from nearest clinic: Denver, 1 available\n",
      "- Technician from Denver left at 15:58:28\n",
      "- Technician from Denver arrived at Rino at 16:11:53\n",
      "- Rino: before count = 3 | after count = 4\n",
      "- Denver: before count = 4 | after count = 3\n",
      "\n",
      "16:17:51 - Edgewater Clinic needs a technician\n",
      "- Availability:  ['Wheatridge', 'Lakewood', 'Denver']\n",
      "\n",
      "16:56:01 - Edgewater Clinic needs a technician\n",
      "- Availability:  ['Wheatridge', 'Lakewood', 'Rino', 'Denver']\n",
      "\n",
      "17:26:09 - Wheatridge Clinic needs a technician\n",
      "- Availability:  ['Lakewood', 'Rino', 'Denver']\n",
      "\n",
      "19:17:45 - Lakewood Clinic needs a technician\n",
      "- Availability:  ['Edgewater', 'Wheatridge', 'Denver']\n",
      "- Assess if pulling from edgewater is feasible:\n",
      "    - Predicted amount of techs needed at edgewater:  3\n",
      "    - Current amount of techs needed at edgewater:  2\n",
      "        - ML model recommends no transfer from edgewater\n",
      "- Assess if pulling from wheatridge is feasible:\n",
      "\n",
      "12:19:57 - Edgewater Clinic needs a technician\n",
      "- Availability:  ['Lakewood', 'Denver']\n",
      "- Assess if pulling from lakewood is feasible:\n",
      "    - Predicted amount of techs needed at lakewood:  2\n",
      "    - Current amount of techs needed at lakewood:  3\n",
      "- Model anticipates Lakewood clinic to become less busy; Able to pull from this location.\n",
      "- Pull technician from nearest clinic: Lakewood, 1 available\n",
      "- Technician from Lakewood left at 12:22:18\n",
      "- Technician from Lakewood arrived at Edgewater at 12:35:00\n",
      "- Edgewater: before count = 3 | after count = 4\n",
      "- Lakewood: before count = 4 | after count = 3\n",
      "\n",
      "13:20:30 - Rino Clinic needs a technician\n",
      "- Availability:  ['Denver', 'Edgewater', 'Wheatridge', 'Lakewood']\n",
      "- Assess if pulling from denver is feasible:\n",
      "    - Predicted amount of techs needed at denver:  2\n",
      "    - Current amount of techs needed at denver:  1\n",
      "        - ML model recommends no transfer from denver\n",
      "- Assess if pulling from edgewater is feasible:\n",
      "\n",
      "14:07:20 - Denver Clinic needs a technician\n",
      "- Availability:  ['Edgewater', 'Wheatridge', 'Lakewood']\n",
      "- Assess if pulling from edgewater is feasible:\n",
      "    - Predicted amount of techs needed at edgewater:  2\n",
      "    - Current amount of techs needed at edgewater:  1\n",
      "        - ML model recommends no transfer from edgewater\n",
      "- Assess if pulling from wheatridge is feasible:\n",
      "\n",
      "14:29:26 - Denver Clinic needs a technician\n",
      "- Availability:  ['Edgewater', 'Wheatridge', 'Lakewood']\n",
      "- Assess if pulling from edgewater is feasible:\n",
      "    - Predicted amount of techs needed at edgewater:  2\n",
      "    - Current amount of techs needed at edgewater:  1\n",
      "        - ML model recommends no transfer from edgewater\n",
      "- Assess if pulling from wheatridge is feasible:\n",
      "\n",
      "15:13:00 - Wheatridge Clinic needs a technician\n",
      "- Availability:  ['Edgewater']\n",
      "- Assess if pulling from edgewater is feasible:\n",
      "    - Predicted amount of techs needed at edgewater:  2\n",
      "    - Current amount of techs needed at edgewater:  1\n",
      "        - ML model recommends no transfer from edgewater\n",
      "15:18:50 - Wheatridge Clinic needs a technician\n",
      "- Availability:  ['Edgewater']\n",
      "- Assess if pulling from edgewater is feasible:\n",
      "    - Predicted amount of techs needed at edgewater:  2\n",
      "    - Current amount of techs needed at edgewater:  1\n",
      "        - ML model recommends no transfer from edgewater\n",
      "15:23:48 - Wheatridge Clinic needs a technician\n",
      "- Availability:  ['Edgewater']\n",
      "- Assess if pulling from edgewater is feasible:\n",
      "    - Predicted amount of techs needed at edgewater:  2\n",
      "    - Current amount of techs needed at edgewater:  1\n",
      "        - ML model recommends no transfer from edgewater\n",
      "15:29:19 - Wheatridge Clinic needs a technician\n",
      "- Availability:  ['Edgewater']\n",
      "\n",
      "16:24:18 - Wheatridge Clinic needs a technician\n",
      "- Availability:  ['Edgewater', 'Lakewood', 'Denver']\n",
      "\n",
      "16:30:01 - Rino Clinic needs a technician\n",
      "- Availability:  ['Denver', 'Edgewater', 'Lakewood']\n",
      "\n",
      "17:10:11 - Wheatridge Clinic needs a technician\n",
      "- Availability:  ['Edgewater', 'Lakewood', 'Rino']\n",
      "\n",
      "17:23:59 - Denver Clinic needs a technician\n",
      "- Availability:  ['Rino', 'Edgewater', 'Lakewood']\n",
      "- Assess if pulling from rino is feasible:\n",
      "    - Predicted amount of techs needed at rino:  2\n",
      "    - Current amount of techs needed at rino:  3\n",
      "- Model anticipates Rino clinic to become less busy; Able to pull from this location.\n",
      "- Pull technician from nearest clinic: Rino, 1 available\n",
      "- Technician from Rino left at 17:26:13\n",
      "- Technician from Rino arrived at Denver at 17:33:03\n",
      "- Denver: before count = 3 | after count = 4\n",
      "- Rino: before count = 4 | after count = 3\n",
      "\n",
      "17:54:39 - Denver Clinic needs a technician\n",
      "- Availability:  ['Rino', 'Edgewater', 'Wheatridge']\n",
      "- Assess if pulling from rino is feasible:\n",
      "    - Predicted amount of techs needed at rino:  2\n",
      "    - Current amount of techs needed at rino:  3\n",
      "- Model anticipates Rino clinic to become less busy; Able to pull from this location.\n",
      "- Pull technician from nearest clinic: Rino, 1 available\n",
      "- Technician from Rino left at 17:57:34\n",
      "- Technician from Rino arrived at Denver at 18:05:50\n",
      "- Denver: before count = 3 | after count = 4\n",
      "- Rino: before count = 4 | after count = 3\n",
      "\n",
      "18:44:23 - Lakewood Clinic needs a technician\n",
      "- Availability:  ['Edgewater', 'Rino']\n",
      "- Assess if pulling from edgewater is feasible:\n",
      "    - Predicted amount of techs needed at edgewater:  2\n",
      "    - Current amount of techs needed at edgewater:  1\n",
      "        - ML model recommends no transfer from edgewater\n",
      "- Assess if pulling from rino is feasible:\n",
      "\n",
      "10:26:05 - Edgewater Clinic needs a technician\n",
      "- Availability:  ['Wheatridge', 'Lakewood', 'Rino', 'Denver']\n",
      "- Assess if pulling from wheatridge is feasible:\n",
      "    - Predicted amount of techs needed at wheatridge:  2\n",
      "    - Current amount of techs needed at wheatridge:  4\n",
      "- Model anticipates Wheatridge clinic to become less busy; Able to pull from this location.\n",
      "- Pull technician from nearest clinic: Wheatridge, 1 available\n",
      "- Technician from Wheatridge left at 10:28:27\n",
      "- Technician from Wheatridge arrived at Edgewater at 10:34:15\n",
      "- Edgewater: before count = 2 | after count = 3\n",
      "- Wheatridge: before count = 5 | after count = 4\n",
      "\n",
      "11:24:51 - Wheatridge Clinic needs a technician\n",
      "- Availability:  ['Lakewood', 'Rino', 'Denver']\n",
      "- Assess if pulling from lakewood is feasible:\n",
      "    - Predicted amount of techs needed at lakewood:  2\n",
      "    - Current amount of techs needed at lakewood:  3\n",
      "- Model anticipates Lakewood clinic to become less busy; Able to pull from this location.\n",
      "- Pull technician from nearest clinic: Lakewood, 1 available\n",
      "- Technician from Lakewood left at 11:27:13\n",
      "- Technician from Lakewood arrived at Wheatridge at 11:37:38\n",
      "- Wheatridge: before count = 4 | after count = 5\n",
      "- Lakewood: before count = 4 | after count = 3\n",
      "\n",
      "13:05:02 - Edgewater Clinic needs a technician\n",
      "- Availability:  ['Rino', 'Denver']\n",
      "\n",
      "13:14:23 - Lakewood Clinic needs a technician\n",
      "- Availability:  ['Denver', 'Rino']\n",
      "- Assess if pulling from denver is feasible:\n",
      "    - Predicted amount of techs needed at denver:  2\n",
      "    - Current amount of techs needed at denver:  3\n",
      "- Model anticipates Denver clinic to become less busy; Able to pull from this location.\n",
      "- Pull technician from nearest clinic: Denver, 1 available\n",
      "- Technician from Denver left at 13:17:11\n",
      "- Technician from Denver arrived at Lakewood at 13:36:11\n",
      "- Lakewood: before count = 3 | after count = 4\n",
      "- Denver: before count = 4 | after count = 3\n",
      "\n",
      "16:35:41 - Denver Clinic needs a technician\n",
      "- Availability:  ['Rino', 'Edgewater']\n",
      "- Assess if pulling from rino is feasible:\n",
      "    - Predicted amount of techs needed at rino:  2\n",
      "    - Current amount of techs needed at rino:  1\n",
      "        - ML model recommends no transfer from rino\n",
      "- Assess if pulling from edgewater is feasible:\n",
      "\n",
      "18:42:15 - Edgewater Clinic needs a technician\n",
      "- Availability:  ['Lakewood', 'Rino', 'Denver']\n",
      "\n",
      "19:11:55 - Rino Clinic needs a technician\n",
      "- Availability:  ['Denver', 'Wheatridge', 'Lakewood']\n",
      "- Assess if pulling from denver is feasible:\n",
      "    - Predicted amount of techs needed at denver:  2\n",
      "    - Current amount of techs needed at denver:  3\n",
      "- Model anticipates Denver clinic to become less busy; Able to pull from this location.\n",
      "- Pull technician from nearest clinic: Denver, 1 available\n",
      "- Technician from Denver left at 19:13:56\n",
      "- Technician from Denver arrived at Rino at 19:26:41\n",
      "- Rino: before count = 3 | after count = 4\n",
      "- Denver: before count = 4 | after count = 3\n",
      "\n",
      "19:15:00 - Edgewater Clinic needs a technician\n",
      "- Availability:  ['Wheatridge', 'Lakewood', 'Denver']\n",
      "\n",
      "19:41:15 - Edgewater Clinic needs a technician\n",
      "- Availability:  ['Wheatridge', 'Lakewood', 'Denver']\n",
      "\n",
      "08:40:02 - Denver Clinic needs a technician\n",
      "- Availability:  ['Rino', 'Edgewater', 'Lakewood']\n",
      "\n",
      "08:47:31 - Wheatridge Clinic needs a technician\n",
      "- Availability:  ['Edgewater', 'Lakewood', 'Rino']\n",
      "- Assess if pulling from edgewater is feasible:\n",
      "    - Predicted amount of techs needed at edgewater:  2\n",
      "    - Current amount of techs needed at edgewater:  3\n",
      "- Model anticipates Edgewater clinic to become less busy; Able to pull from this location.\n",
      "- Pull technician from nearest clinic: Edgewater, 1 available\n",
      "- Technician from Edgewater left at 08:50:27\n",
      "- Technician from Edgewater arrived at Wheatridge at 09:02:15\n",
      "- Wheatridge: before count = 4 | after count = 5\n",
      "- Edgewater: before count = 4 | after count = 3\n",
      "\n",
      "08:55:08 - Wheatridge Clinic needs a technician\n",
      "- Availability:  ['Edgewater', 'Lakewood', 'Rino']\n",
      "- Assess if pulling from edgewater is feasible:\n",
      "    - Predicted amount of techs needed at edgewater:  2\n",
      "    - Current amount of techs needed at edgewater:  3\n",
      "- Model anticipates Edgewater clinic to become less busy; Able to pull from this location.\n",
      "- Pull technician from nearest clinic: Edgewater, 1 available\n",
      "- Technician from Edgewater left at 08:57:28\n",
      "- Technician from Edgewater arrived at Wheatridge at 09:04:58\n",
      "- Wheatridge: before count = 4 | after count = 5\n",
      "- Edgewater: before count = 4 | after count = 3\n",
      "\n",
      "09:28:19 - Rino Clinic needs a technician\n",
      "- Availability:  ['Denver', 'Lakewood']\n",
      "\n",
      "09:37:21 - Edgewater Clinic needs a technician\n",
      "- Availability:  ['Lakewood', 'Denver']\n",
      "\n",
      "11:07:07 - Lakewood Clinic needs a technician\n",
      "- Availability:  ['Wheatridge', 'Denver', 'Rino']\n",
      "\n",
      "11:40:58 - Wheatridge Clinic needs a technician\n",
      "- Availability:  ['Rino', 'Denver']\n",
      "- Assess if pulling from rino is feasible:\n",
      "    - Predicted amount of techs needed at rino:  2\n",
      "    - Current amount of techs needed at rino:  3\n",
      "- Model anticipates Rino clinic to become less busy; Able to pull from this location.\n",
      "- Pull technician from nearest clinic: Rino, 1 available\n",
      "- Technician from Rino left at 11:43:41\n",
      "- Technician from Rino arrived at Wheatridge at 12:04:28\n",
      "- Wheatridge: before count = 4 | after count = 5\n",
      "- Rino: before count = 4 | after count = 3\n",
      "\n",
      "14:39:38 - Rino Clinic needs a technician\n",
      "- Availability:  ['Denver', 'Edgewater', 'Lakewood']\n",
      "\n",
      "19:04:43 - Rino Clinic needs a technician\n",
      "- Availability:  ['Denver', 'Edgewater', 'Wheatridge', 'Lakewood']\n",
      "- Assess if pulling from denver is feasible:\n",
      "    - Predicted amount of techs needed at denver:  2\n",
      "    - Current amount of techs needed at denver:  3\n",
      "- Model anticipates Denver clinic to become less busy; Able to pull from this location.\n",
      "- Pull technician from nearest clinic: Denver, 1 available\n",
      "- Technician from Denver left at 19:07:36\n",
      "- Technician from Denver arrived at Rino at 19:18:37\n",
      "- Rino: before count = 3 | after count = 4\n",
      "- Denver: before count = 4 | after count = 3\n",
      "\n",
      "08:46:30 - Lakewood Clinic needs a technician\n",
      "- Availability:  ['Edgewater', 'Wheatridge', 'Denver', 'Rino']\n",
      "\n",
      "08:50:40 - Wheatridge Clinic needs a technician\n",
      "- Availability:  ['Edgewater', 'Rino', 'Denver']\n",
      "\n",
      "09:29:02 - Denver Clinic needs a technician\n",
      "- Availability:  ['Rino', 'Edgewater']\n",
      "- Assess if pulling from rino is feasible:\n",
      "    - Predicted amount of techs needed at rino:  3\n",
      "    - Current amount of techs needed at rino:  3\n",
      "        - ML model recommends no transfer from rino\n",
      "- Assess if pulling from edgewater is feasible:\n",
      "\n",
      "09:48:03 - Denver Clinic needs a technician\n",
      "- Availability:  ['Rino', 'Edgewater', 'Lakewood']\n",
      "- Assess if pulling from rino is feasible:\n",
      "    - Predicted amount of techs needed at rino:  3\n",
      "    - Current amount of techs needed at rino:  3\n",
      "        - ML model recommends no transfer from rino\n",
      "- Assess if pulling from edgewater is feasible:\n",
      "\n",
      "10:23:49 - Rino Clinic needs a technician\n",
      "- Availability:  ['Denver', 'Edgewater', 'Wheatridge', 'Lakewood']\n",
      "- Assess if pulling from denver is feasible:\n",
      "    - Predicted amount of techs needed at denver:  2\n",
      "    - Current amount of techs needed at denver:  4\n",
      "- Model anticipates Denver clinic to become less busy; Able to pull from this location.\n",
      "- Pull technician from nearest clinic: Denver, 1 available\n",
      "- Technician from Denver left at 10:26:35\n",
      "- Technician from Denver arrived at Rino at 10:37:13\n",
      "- Rino: before count = 3 | after count = 4\n",
      "- Denver: before count = 5 | after count = 4\n",
      "\n",
      "11:28:36 - Wheatridge Clinic needs a technician\n",
      "- Availability:  ['Edgewater', 'Lakewood', 'Rino']\n",
      "\n",
      "11:38:02 - Denver Clinic needs a technician\n",
      "- Availability:  ['Rino', 'Edgewater', 'Lakewood']\n",
      "- Assess if pulling from rino is feasible:\n",
      "    - Predicted amount of techs needed at rino:  2\n",
      "    - Current amount of techs needed at rino:  3\n",
      "- Model anticipates Rino clinic to become less busy; Able to pull from this location.\n",
      "- Pull technician from nearest clinic: Rino, 1 available\n",
      "- Technician from Rino left at 11:40:06\n",
      "- Technician from Rino arrived at Denver at 11:49:25\n",
      "- Denver: before count = 4 | after count = 5\n",
      "- Rino: before count = 4 | after count = 3\n",
      "\n",
      "13:58:01 - Rino Clinic needs a technician\n",
      "- Availability:  ['Denver', 'Edgewater', 'Lakewood']\n",
      "\n",
      "17:20:27 - Lakewood Clinic needs a technician\n",
      "- Availability:  ['Edgewater', 'Wheatridge', 'Denver', 'Rino']\n",
      "- Assess if pulling from edgewater is feasible:\n",
      "    - Predicted amount of techs needed at edgewater:  2\n",
      "    - Current amount of techs needed at edgewater:  1\n",
      "        - ML model recommends no transfer from edgewater\n",
      "- Assess if pulling from wheatridge is feasible:\n",
      "\n",
      "18:26:40 - Wheatridge Clinic needs a technician\n",
      "- Availability:  ['Edgewater', 'Lakewood', 'Rino', 'Denver']\n",
      "\n",
      "19:40:16 - Edgewater Clinic needs a technician\n",
      "- Availability:  ['Wheatridge', 'Lakewood', 'Denver']\n",
      "- Assess if pulling from wheatridge is feasible:\n",
      "    - Predicted amount of techs needed at wheatridge:  2\n",
      "    - Current amount of techs needed at wheatridge:  3\n",
      "- Model anticipates Wheatridge clinic to become less busy; Able to pull from this location.\n",
      "- Pull technician from nearest clinic: Wheatridge, 1 available\n",
      "- Technician from Wheatridge left at 19:42:40\n",
      "- Technician from Wheatridge arrived at Edgewater at 19:51:13\n",
      "- Edgewater: before count = 3 | after count = 4\n",
      "- Wheatridge: before count = 4 | after count = 3\n",
      "\n",
      "19:51:21 - Rino Clinic needs a technician\n",
      "- Availability:  ['Denver', 'Wheatridge', 'Lakewood']\n",
      "- Assess if pulling from denver is feasible:\n",
      "    - Predicted amount of techs needed at denver:  2\n",
      "    - Current amount of techs needed at denver:  2\n",
      "        - ML model recommends no transfer from denver\n",
      "- Assess if pulling from wheatridge is feasible:\n",
      "\n",
      "09:23:52 - Lakewood Clinic needs a technician\n",
      "- Availability:  ['Edgewater', 'Wheatridge', 'Denver', 'Rino']\n",
      "- Assess if pulling from edgewater is feasible:\n",
      "    - Predicted amount of techs needed at edgewater:  2\n",
      "    - Current amount of techs needed at edgewater:  2\n",
      "        - ML model recommends no transfer from edgewater\n",
      "- Assess if pulling from wheatridge is feasible:\n",
      "\n",
      "09:47:39 - Wheatridge Clinic needs a technician\n",
      "- Availability:  ['Edgewater', 'Rino', 'Denver']\n",
      "- Assess if pulling from edgewater is feasible:\n",
      "    - Predicted amount of techs needed at edgewater:  2\n",
      "    - Current amount of techs needed at edgewater:  2\n",
      "        - ML model recommends no transfer from edgewater\n",
      "- Assess if pulling from rino is feasible:\n",
      "\n",
      "10:31:55 - Edgewater Clinic needs a technician\n",
      "- Availability:  ['Wheatridge', 'Rino', 'Denver']\n",
      "\n",
      "11:29:37 - Lakewood Clinic needs a technician\n",
      "- Availability:  ['Wheatridge', 'Denver', 'Rino']\n",
      "\n",
      "18:43:31 - Rino Clinic needs a technician\n",
      "- Availability:  ['Wheatridge']\n",
      "\n",
      "18:49:04 - Denver Clinic needs a technician\n",
      "- Availability:  ['Wheatridge']\n",
      "\n",
      "19:30:23 - Edgewater Clinic needs a technician\n",
      "- Availability:  ['Wheatridge', 'Lakewood']\n",
      "\n",
      "19:33:43 - Lakewood Clinic needs a technician\n",
      "- Availability:  ['Wheatridge']\n",
      "\n",
      "08:40:41 - Wheatridge Clinic needs a technician\n",
      "- Availability:  ['Edgewater', 'Rino']\n",
      "- Assess if pulling from edgewater is feasible:\n",
      "    - Predicted amount of techs needed at edgewater:  2\n",
      "    - Current amount of techs needed at edgewater:  2\n",
      "        - ML model recommends no transfer from edgewater\n",
      "- Assess if pulling from rino is feasible:\n",
      "\n",
      "08:49:24 - Denver Clinic needs a technician\n",
      "- Availability:  ['Rino', 'Edgewater']\n",
      "- Assess if pulling from rino is feasible:\n",
      "    - Predicted amount of techs needed at rino:  2\n",
      "    - Current amount of techs needed at rino:  1\n",
      "        - ML model recommends no transfer from rino\n",
      "- Assess if pulling from edgewater is feasible:\n",
      "\n",
      "09:03:22 - Wheatridge Clinic needs a technician\n",
      "- Availability:  ['Edgewater', 'Rino']\n",
      "- Assess if pulling from edgewater is feasible:\n",
      "    - Predicted amount of techs needed at edgewater:  2\n",
      "    - Current amount of techs needed at edgewater:  0\n",
      "        - ML model recommends no transfer from edgewater\n",
      "- Assess if pulling from rino is feasible:\n",
      "\n",
      "09:22:39 - Denver Clinic needs a technician\n",
      "- Availability:  ['Rino', 'Lakewood']\n",
      "- Assess if pulling from rino is feasible:\n",
      "    - Predicted amount of techs needed at rino:  3\n",
      "    - Current amount of techs needed at rino:  1\n",
      "        - ML model recommends no transfer from rino\n",
      "- Assess if pulling from lakewood is feasible:\n",
      "\n",
      "11:24:45 - Lakewood Clinic needs a technician\n",
      "- Availability:  ['Edgewater', 'Wheatridge', 'Denver', 'Rino']\n",
      "- Assess if pulling from edgewater is feasible:\n",
      "    - Predicted amount of techs needed at edgewater:  2\n",
      "    - Current amount of techs needed at edgewater:  0\n",
      "        - ML model recommends no transfer from edgewater\n",
      "- Assess if pulling from wheatridge is feasible:\n",
      "\n",
      "12:01:11 - Wheatridge Clinic needs a technician\n",
      "- Availability:  ['Edgewater', 'Rino']\n",
      "- Assess if pulling from edgewater is feasible:\n",
      "    - Predicted amount of techs needed at edgewater:  2\n",
      "    - Current amount of techs needed at edgewater:  0\n",
      "        - ML model recommends no transfer from edgewater\n",
      "- Assess if pulling from rino is feasible:\n",
      "\n",
      "12:17:54 - Denver Clinic needs a technician\n",
      "- Availability:  ['Rino', 'Edgewater', 'Lakewood']\n",
      "\n",
      "12:39:55 - Lakewood Clinic needs a technician\n",
      "- Availability:  ['Edgewater', 'Rino']\n",
      "- Assess if pulling from edgewater is feasible:\n",
      "    - Predicted amount of techs needed at edgewater:  2\n",
      "    - Current amount of techs needed at edgewater:  0\n",
      "        - ML model recommends no transfer from edgewater\n",
      "- Assess if pulling from rino is feasible:\n",
      "\n",
      "19:30:27 - Rino Clinic needs a technician\n",
      "- Availability:  ['Denver', 'Wheatridge']\n",
      "\n",
      "19:42:18 - Edgewater Clinic needs a technician\n",
      "- Availability:  ['Denver']\n",
      "\n",
      "09:28:01 - Rino Clinic needs a technician\n",
      "- Availability:  ['Denver']\n",
      "\n",
      "10:53:53 - Edgewater Clinic needs a technician\n",
      "- Availability:  ['Wheatridge', 'Lakewood', 'Rino', 'Denver']\n",
      "- Assess if pulling from wheatridge is feasible:\n",
      "    - Predicted amount of techs needed at wheatridge:  1\n",
      "    - Current amount of techs needed at wheatridge:  3\n",
      "- Model anticipates Wheatridge clinic to become less busy; Able to pull from this location.\n",
      "- Pull technician from nearest clinic: Wheatridge, 1 available\n",
      "- Technician from Wheatridge left at 10:56:17\n",
      "- Technician from Wheatridge arrived at Edgewater at 11:06:42\n",
      "- Edgewater: before count = 2 | after count = 3\n",
      "- Wheatridge: before count = 4 | after count = 3\n",
      "\n",
      "11:20:23 - Wheatridge Clinic needs a technician\n",
      "- Availability:  ['Lakewood', 'Rino', 'Denver']\n",
      "\n",
      "12:45:18 - Edgewater Clinic needs a technician\n",
      "- Availability:  ['Wheatridge', 'Denver']\n",
      "- Assess if pulling from wheatridge is feasible:\n",
      "    - Predicted amount of techs needed at wheatridge:  2\n",
      "    - Current amount of techs needed at wheatridge:  3\n",
      "- Model anticipates Wheatridge clinic to become less busy; Able to pull from this location.\n",
      "- Pull technician from nearest clinic: Wheatridge, 1 available\n",
      "- Technician from Wheatridge left at 12:47:39\n",
      "- Technician from Wheatridge arrived at Edgewater at 12:55:27\n",
      "- Edgewater: before count = 2 | after count = 3\n",
      "- Wheatridge: before count = 4 | after count = 3\n",
      "\n",
      "14:11:49 - Denver Clinic needs a technician\n",
      "- Availability:  ['Rino', 'Wheatridge']\n",
      "- Assess if pulling from rino is feasible:\n",
      "    - Predicted amount of techs needed at rino:  2\n",
      "    - Current amount of techs needed at rino:  3\n",
      "- Model anticipates Rino clinic to become less busy; Able to pull from this location.\n",
      "- Pull technician from nearest clinic: Rino, 1 available\n",
      "- Technician from Rino left at 14:14:26\n",
      "- Technician from Rino arrived at Denver at 14:22:47\n",
      "- Denver: before count = 5 | after count = 6\n",
      "- Rino: before count = 4 | after count = 3\n",
      "\n",
      "16:30:41 - Edgewater Clinic needs a technician\n",
      "- Availability:  ['Wheatridge', 'Lakewood', 'Rino', 'Denver']\n",
      "\n",
      "19:10:48 - Lakewood Clinic needs a technician\n",
      "- Availability:  ['Wheatridge', 'Denver', 'Rino']\n",
      "- Assess if pulling from wheatridge is feasible:\n",
      "    - Predicted amount of techs needed at wheatridge:  3\n",
      "    - Current amount of techs needed at wheatridge:  1\n",
      "        - ML model recommends no transfer from wheatridge\n",
      "- Assess if pulling from denver is feasible:\n",
      "\n",
      "08:16:27 - Rino Clinic needs a technician\n",
      "- Availability:  ['Denver', 'Wheatridge', 'Lakewood']\n",
      "\n",
      "09:23:06 - Edgewater Clinic needs a technician\n",
      "- Availability:  ['Wheatridge', 'Lakewood', 'Denver']\n",
      "\n",
      "10:12:54 - Lakewood Clinic needs a technician\n",
      "- Availability:  ['Wheatridge']\n",
      "\n",
      "10:45:43 - Lakewood Clinic needs a technician\n",
      "- Availability:  ['Wheatridge', 'Rino']\n",
      "\n",
      "12:19:01 - Denver Clinic needs a technician\n",
      "- Availability:  ['Rino', 'Edgewater', 'Lakewood']\n",
      "\n",
      "13:15:16 - Denver Clinic needs a technician\n",
      "- Availability:  ['Rino', 'Wheatridge', 'Lakewood']\n",
      "- Assess if pulling from rino is feasible:\n",
      "    - Predicted amount of techs needed at rino:  2\n",
      "    - Current amount of techs needed at rino:  1\n",
      "        - ML model recommends no transfer from rino\n",
      "- Assess if pulling from wheatridge is feasible:\n",
      "\n",
      "14:08:34 - Denver Clinic needs a technician\n",
      "- Availability:  ['Rino', 'Edgewater', 'Wheatridge', 'Lakewood']\n",
      "- Assess if pulling from rino is feasible:\n",
      "    - Predicted amount of techs needed at rino:  2\n",
      "    - Current amount of techs needed at rino:  1\n",
      "        - ML model recommends no transfer from rino\n",
      "- Assess if pulling from edgewater is feasible:\n",
      "\n",
      "14:41:31 - Denver Clinic needs a technician\n",
      "- Availability:  ['Rino', 'Edgewater', 'Wheatridge']\n",
      "- Assess if pulling from rino is feasible:\n",
      "    - Predicted amount of techs needed at rino:  2\n",
      "    - Current amount of techs needed at rino:  1\n",
      "        - ML model recommends no transfer from rino\n",
      "- Assess if pulling from edgewater is feasible:\n",
      "\n",
      "15:07:29 - Denver Clinic needs a technician\n",
      "- Availability:  ['Rino', 'Edgewater']\n",
      "- Assess if pulling from rino is feasible:\n",
      "    - Predicted amount of techs needed at rino:  3\n",
      "    - Current amount of techs needed at rino:  1\n",
      "        - ML model recommends no transfer from rino\n",
      "- Assess if pulling from edgewater is feasible:\n",
      "\n",
      "15:12:48 - Lakewood Clinic needs a technician\n",
      "- Availability:  ['Edgewater', 'Rino']\n",
      "\n",
      "15:16:25 - Wheatridge Clinic needs a technician\n",
      "- Availability:  ['Edgewater', 'Rino']\n",
      "\n",
      "15:31:46 - Lakewood Clinic needs a technician\n",
      "- Availability:  ['Edgewater', 'Rino']\n",
      "\n",
      "17:46:05 - Denver Clinic needs a technician\n",
      "- Availability:  ['Rino', 'Edgewater', 'Wheatridge', 'Lakewood']\n",
      "- Assess if pulling from rino is feasible:\n",
      "    - Predicted amount of techs needed at rino:  2\n",
      "    - Current amount of techs needed at rino:  1\n",
      "        - ML model recommends no transfer from rino\n",
      "- Assess if pulling from edgewater is feasible:\n",
      "\n",
      "19:39:24 - Lakewood Clinic needs a technician\n",
      "- Availability:  ['Edgewater', 'Wheatridge', 'Rino']\n",
      "\n",
      "09:33:33 - Wheatridge Clinic needs a technician\n",
      "- Availability:  ['Edgewater', 'Rino', 'Denver']\n",
      "\n",
      "10:31:01 - Wheatridge Clinic needs a technician\n",
      "- Availability:  ['Edgewater', 'Lakewood']\n",
      "- Assess if pulling from edgewater is feasible:\n",
      "    - Predicted amount of techs needed at edgewater:  2\n",
      "    - Current amount of techs needed at edgewater:  1\n",
      "        - ML model recommends no transfer from edgewater\n",
      "- Assess if pulling from lakewood is feasible:\n",
      "\n",
      "10:36:10 - Rino Clinic needs a technician\n",
      "- Availability:  ['Denver', 'Edgewater', 'Lakewood']\n",
      "- Assess if pulling from denver is feasible:\n",
      "    - Predicted amount of techs needed at denver:  2\n",
      "    - Current amount of techs needed at denver:  4\n",
      "- Model anticipates Denver clinic to become less busy; Able to pull from this location.\n",
      "- Pull technician from nearest clinic: Denver, 1 available\n",
      "- Technician from Denver left at 10:39:07\n",
      "- Technician from Denver arrived at Rino at 10:49:33\n",
      "- Rino: before count = 3 | after count = 4\n",
      "- Denver: before count = 5 | after count = 4\n",
      "\n",
      "10:59:22 - Wheatridge Clinic needs a technician\n",
      "- Availability:  ['Edgewater', 'Lakewood', 'Denver']\n",
      "- Assess if pulling from edgewater is feasible:\n",
      "    - Predicted amount of techs needed at edgewater:  2\n",
      "    - Current amount of techs needed at edgewater:  1\n",
      "        - ML model recommends no transfer from edgewater\n",
      "- Assess if pulling from lakewood is feasible:\n",
      "\n",
      "11:22:30 - Denver Clinic needs a technician\n",
      "- Availability:  ['Rino', 'Edgewater', 'Lakewood']\n",
      "- Assess if pulling from rino is feasible:\n",
      "    - Predicted amount of techs needed at rino:  2\n",
      "    - Current amount of techs needed at rino:  3\n",
      "- Model anticipates Rino clinic to become less busy; Able to pull from this location.\n",
      "- Pull technician from nearest clinic: Rino, 1 available\n",
      "- Technician from Rino left at 11:24:43\n",
      "- Technician from Rino arrived at Denver at 11:34:34\n",
      "- Denver: before count = 4 | after count = 5\n",
      "- Rino: before count = 4 | after count = 3\n",
      "\n",
      "14:19:31 - Lakewood Clinic needs a technician\n",
      "- Availability:  ['Edgewater', 'Denver']\n",
      "- Assess if pulling from edgewater is feasible:\n",
      "    - Predicted amount of techs needed at edgewater:  1\n",
      "    - Current amount of techs needed at edgewater:  1\n",
      "        - ML model recommends no transfer from edgewater\n",
      "- Assess if pulling from denver is feasible:\n",
      "\n",
      "17:36:14 - Wheatridge Clinic needs a technician\n",
      "- Availability:  ['Edgewater', 'Lakewood', 'Rino', 'Denver']\n",
      "\n",
      "19:00:10 - Wheatridge Clinic needs a technician\n",
      "- Availability:  ['Edgewater', 'Lakewood', 'Rino', 'Denver']\n",
      "- Assess if pulling from edgewater is feasible:\n",
      "    - Predicted amount of techs needed at edgewater:  2\n",
      "    - Current amount of techs needed at edgewater:  1\n",
      "        - ML model recommends no transfer from edgewater\n",
      "- Assess if pulling from lakewood is feasible:\n",
      "\n",
      "19:25:27 - Rino Clinic needs a technician\n",
      "- Availability:  ['Denver', 'Edgewater', 'Lakewood']\n",
      "\n",
      "19:39:27 - Edgewater Clinic needs a technician\n",
      "- Availability:  ['Lakewood', 'Denver']\n",
      "- Assess if pulling from lakewood is feasible:\n",
      "    - Predicted amount of techs needed at lakewood:  2\n",
      "    - Current amount of techs needed at lakewood:  3\n",
      "- Model anticipates Lakewood clinic to become less busy; Able to pull from this location.\n",
      "- Pull technician from nearest clinic: Lakewood, 1 available\n",
      "- Technician from Lakewood left at 19:41:38\n",
      "- Technician from Lakewood arrived at Edgewater at 19:52:26\n",
      "- Edgewater: before count = 3 | after count = 4\n",
      "- Lakewood: before count = 4 | after count = 3\n",
      "\n",
      "19:54:47 - Edgewater Clinic needs a technician\n",
      "- Availability:  ['Lakewood', 'Denver']\n",
      "- Assess if pulling from lakewood is feasible:\n",
      "    - Predicted amount of techs needed at lakewood:  2\n",
      "    - Current amount of techs needed at lakewood:  3\n",
      "- Model anticipates Lakewood clinic to become less busy; Able to pull from this location.\n",
      "- Pull technician from nearest clinic: Lakewood, 1 available\n",
      "- Technician from Lakewood left at 19:57:14\n",
      "- Technician from Lakewood arrived at Edgewater at 20:10:32\n",
      "- Edgewater: before count = 3 | after count = 4\n",
      "- Lakewood: before count = 4 | after count = 3\n",
      "\n",
      "08:56:31 - Denver Clinic needs a technician\n",
      "- Availability:  ['Rino', 'Wheatridge']\n",
      "\n",
      "09:03:45 - Denver Clinic needs a technician\n",
      "- Availability:  ['Rino', 'Edgewater', 'Wheatridge']\n",
      "\n",
      "09:13:07 - Denver Clinic needs a technician\n",
      "- Availability:  ['Rino', 'Edgewater']\n",
      "\n",
      "12:18:13 - Denver Clinic needs a technician\n",
      "- Availability:  ['Rino', 'Edgewater', 'Wheatridge', 'Lakewood']\n",
      "\n",
      "14:40:07 - Edgewater Clinic needs a technician\n",
      "- Availability:  ['Wheatridge']\n",
      "\n",
      "17:14:11 - Wheatridge Clinic needs a technician\n",
      "- Availability:  ['Edgewater', 'Lakewood', 'Denver']\n",
      "\n",
      "18:27:27 - Lakewood Clinic needs a technician\n",
      "- Availability:  ['Edgewater', 'Wheatridge', 'Denver', 'Rino']\n",
      "- Assess if pulling from edgewater is feasible:\n",
      "    - Predicted amount of techs needed at edgewater:  2\n",
      "    - Current amount of techs needed at edgewater:  1\n",
      "        - ML model recommends no transfer from edgewater\n",
      "- Assess if pulling from wheatridge is feasible:\n",
      "\n",
      "18:54:34 - Edgewater Clinic needs a technician\n",
      "- Availability:  ['Wheatridge', 'Rino', 'Denver']\n",
      "\n",
      "19:56:29 - Rino Clinic needs a technician\n",
      "- Availability:  ['Denver', 'Edgewater', 'Wheatridge', 'Lakewood']\n",
      "\n",
      "08:46:50 - Denver Clinic needs a technician\n",
      "- Availability:  ['Rino', 'Edgewater', 'Wheatridge', 'Lakewood']\n",
      "- Assess if pulling from rino is feasible:\n",
      "    - Predicted amount of techs needed at rino:  2\n",
      "    - Current amount of techs needed at rino:  2\n",
      "        - ML model recommends no transfer from rino\n",
      "- Assess if pulling from edgewater is feasible:\n",
      "\n",
      "09:16:14 - Denver Clinic needs a technician\n",
      "- Availability:  ['Edgewater', 'Lakewood']\n",
      "- Assess if pulling from edgewater is feasible:\n",
      "    - Predicted amount of techs needed at edgewater:  3\n",
      "    - Current amount of techs needed at edgewater:  1\n",
      "        - ML model recommends no transfer from edgewater\n",
      "- Assess if pulling from lakewood is feasible:\n",
      "\n",
      "09:56:49 - Rino Clinic needs a technician\n",
      "- Availability:  ['Wheatridge', 'Lakewood']\n",
      "- Assess if pulling from wheatridge is feasible:\n",
      "    - Predicted amount of techs needed at wheatridge:  2\n",
      "    - Current amount of techs needed at wheatridge:  1\n",
      "        - ML model recommends no transfer from wheatridge\n",
      "- Assess if pulling from lakewood is feasible:\n",
      "\n",
      "10:10:57 - Edgewater Clinic needs a technician\n",
      "- Availability:  ['Wheatridge', 'Lakewood']\n",
      "\n",
      "10:59:24 - Lakewood Clinic needs a technician\n",
      "- Availability:  ['Edgewater', 'Wheatridge', 'Denver']\n",
      "- Assess if pulling from edgewater is feasible:\n",
      "    - Predicted amount of techs needed at edgewater:  2\n",
      "    - Current amount of techs needed at edgewater:  3\n",
      "- Model anticipates Edgewater clinic to become less busy; Able to pull from this location.\n",
      "- Pull technician from nearest clinic: Edgewater, 1 available\n",
      "- Technician from Edgewater left at 11:01:24\n",
      "- Technician from Edgewater arrived at Lakewood at 11:16:49\n",
      "- Lakewood: before count = 5 | after count = 6\n",
      "- Edgewater: before count = 4 | after count = 3\n",
      "\n",
      "12:01:30 - Wheatridge Clinic needs a technician\n",
      "- Availability:  ['Edgewater', 'Lakewood', 'Rino', 'Denver']\n",
      "- Assess if pulling from edgewater is feasible:\n",
      "    - Predicted amount of techs needed at edgewater:  2\n",
      "    - Current amount of techs needed at edgewater:  3\n",
      "- Model anticipates Edgewater clinic to become less busy; Able to pull from this location.\n",
      "- Pull technician from nearest clinic: Edgewater, 1 available\n",
      "- Technician from Edgewater left at 12:04:16\n",
      "- Technician from Edgewater arrived at Wheatridge at 12:09:34\n",
      "- Wheatridge: before count = 3 | after count = 4\n",
      "- Edgewater: before count = 4 | after count = 3\n",
      "\n",
      "15:36:00 - Rino Clinic needs a technician\n",
      "- Availability:  ['Denver', 'Edgewater', 'Lakewood']\n",
      "\n",
      "18:07:52 - Rino Clinic needs a technician\n",
      "- Availability:  ['Lakewood']\n",
      "\n",
      "08:45:26 - Denver Clinic needs a technician\n",
      "- Availability:  ['Rino', 'Edgewater', 'Wheatridge']\n",
      "\n",
      "08:50:13 - Lakewood Clinic needs a technician\n",
      "- Availability:  ['Edgewater', 'Rino']\n",
      "- Assess if pulling from edgewater is feasible:\n",
      "    - Predicted amount of techs needed at edgewater:  1\n",
      "    - Current amount of techs needed at edgewater:  0\n",
      "        - ML model recommends no transfer from edgewater\n",
      "- Assess if pulling from rino is feasible:\n",
      "\n",
      "08:57:21 - Wheatridge Clinic needs a technician\n",
      "- Availability:  ['Edgewater', 'Rino']\n",
      "- Assess if pulling from edgewater is feasible:\n",
      "    - Predicted amount of techs needed at edgewater:  2\n",
      "    - Current amount of techs needed at edgewater:  0\n",
      "        - ML model recommends no transfer from edgewater\n",
      "- Assess if pulling from rino is feasible:\n",
      "\n",
      "09:16:06 - Wheatridge Clinic needs a technician\n",
      "- Availability:  ['Edgewater', 'Rino']\n",
      "- Assess if pulling from edgewater is feasible:\n",
      "    - Predicted amount of techs needed at edgewater:  2\n",
      "    - Current amount of techs needed at edgewater:  0\n",
      "        - ML model recommends no transfer from edgewater\n",
      "- Assess if pulling from rino is feasible:\n",
      "\n",
      "09:31:31 - Denver Clinic needs a technician\n",
      "- Availability:  ['Rino', 'Edgewater', 'Lakewood']\n",
      "- Assess if pulling from rino is feasible:\n",
      "    - Predicted amount of techs needed at rino:  3\n",
      "    - Current amount of techs needed at rino:  1\n",
      "        - ML model recommends no transfer from rino\n",
      "- Assess if pulling from edgewater is feasible:\n",
      "\n",
      "10:05:08 - Rino Clinic needs a technician\n",
      "- Availability:  ['Lakewood']\n",
      "- Assess if pulling from lakewood is feasible:\n",
      "    - Predicted amount of techs needed at lakewood:  2\n",
      "    - Current amount of techs needed at lakewood:  4\n",
      "- Model anticipates Lakewood clinic to become less busy; Able to pull from this location.\n",
      "- Pull technician from nearest clinic: Lakewood, 1 available\n",
      "- Technician from Lakewood left at 10:07:53\n",
      "- Technician from Lakewood arrived at Rino at 10:25:13\n",
      "- Rino: before count = 3 | after count = 4\n",
      "- Lakewood: before count = 5 | after count = 4\n",
      "\n",
      "10:06:24 - Edgewater Clinic needs a technician\n",
      "- Availability:  ['Lakewood']\n",
      "- Assess if pulling from lakewood is feasible:\n",
      "    - Predicted amount of techs needed at lakewood:  2\n",
      "    - Current amount of techs needed at lakewood:  4\n",
      "- Model anticipates Lakewood clinic to become less busy; Able to pull from this location.\n",
      "- Pull technician from nearest clinic: Lakewood, 1 available\n",
      "- Technician from Lakewood left at 10:08:44\n",
      "- Technician from Lakewood arrived at Edgewater at 10:20:31\n",
      "- Edgewater: before count = 2 | after count = 3\n",
      "- Lakewood: before count = 5 | after count = 4\n",
      "\n",
      "10:30:04 - Rino Clinic needs a technician\n",
      "- Availability:  ['Denver', 'Wheatridge', 'Lakewood']\n",
      "- Assess if pulling from denver is feasible:\n",
      "    - Predicted amount of techs needed at denver:  2\n",
      "    - Current amount of techs needed at denver:  4\n",
      "- Model anticipates Denver clinic to become less busy; Able to pull from this location.\n",
      "- Pull technician from nearest clinic: Denver, 1 available\n",
      "- Technician from Denver left at 10:32:09\n",
      "- Technician from Denver arrived at Rino at 10:41:44\n",
      "- Rino: before count = 3 | after count = 4\n",
      "- Denver: before count = 5 | after count = 4\n",
      "\n",
      "16:33:55 - Denver Clinic needs a technician\n",
      "- Availability:  ['Edgewater', 'Wheatridge', 'Lakewood']\n",
      "- Assess if pulling from edgewater is feasible:\n",
      "    - Predicted amount of techs needed at edgewater:  2\n",
      "    - Current amount of techs needed at edgewater:  2\n",
      "        - ML model recommends no transfer from edgewater\n",
      "- Assess if pulling from wheatridge is feasible:\n",
      "\n",
      "17:55:29 - Edgewater Clinic needs a technician\n",
      "- Availability:  ['Lakewood']\n",
      "\n",
      "09:07:14 - Wheatridge Clinic needs a technician\n",
      "- Availability:  ['Edgewater', 'Lakewood', 'Rino']\n",
      "\n",
      "09:18:01 - Lakewood Clinic needs a technician\n",
      "- Availability:  ['Edgewater', 'Denver', 'Rino']\n",
      "\n",
      "12:04:31 - Denver Clinic needs a technician\n",
      "- Availability:  ['Rino', 'Edgewater', 'Wheatridge']\n",
      "- Assess if pulling from rino is feasible:\n",
      "    - Predicted amount of techs needed at rino:  3\n",
      "    - Current amount of techs needed at rino:  3\n",
      "        - ML model recommends no transfer from rino\n",
      "- Assess if pulling from edgewater is feasible:\n",
      "\n",
      "12:15:33 - Lakewood Clinic needs a technician\n",
      "- Availability:  ['Edgewater', 'Wheatridge', 'Rino']\n",
      "- Assess if pulling from edgewater is feasible:\n",
      "    - Predicted amount of techs needed at edgewater:  2\n",
      "    - Current amount of techs needed at edgewater:  1\n",
      "        - ML model recommends no transfer from edgewater\n",
      "- Assess if pulling from wheatridge is feasible:\n",
      "\n",
      "18:19:41 - Denver Clinic needs a technician\n",
      "- Availability:  ['Rino', 'Edgewater', 'Wheatridge', 'Lakewood']\n",
      "- Assess if pulling from rino is feasible:\n",
      "    - Predicted amount of techs needed at rino:  2\n",
      "    - Current amount of techs needed at rino:  3\n",
      "- Model anticipates Rino clinic to become less busy; Able to pull from this location.\n",
      "- Pull technician from nearest clinic: Rino, 1 available\n",
      "- Technician from Rino left at 18:22:09\n",
      "- Technician from Rino arrived at Denver at 18:32:32\n",
      "- Denver: before count = 4 | after count = 5\n",
      "- Rino: before count = 4 | after count = 3\n",
      "\n",
      "18:43:25 - Edgewater Clinic needs a technician\n",
      "- Availability:  ['Wheatridge', 'Lakewood', 'Rino']\n",
      "- Assess if pulling from wheatridge is feasible:\n",
      "    - Predicted amount of techs needed at wheatridge:  1\n",
      "    - Current amount of techs needed at wheatridge:  1\n",
      "        - ML model recommends no transfer from wheatridge\n",
      "- Assess if pulling from lakewood is feasible:\n",
      "\n",
      "19:18:10 - Rino Clinic needs a technician\n",
      "- Availability:  ['Denver', 'Wheatridge', 'Lakewood']\n",
      "- Assess if pulling from denver is feasible:\n",
      "    - Predicted amount of techs needed at denver:  2\n",
      "    - Current amount of techs needed at denver:  4\n",
      "- Model anticipates Denver clinic to become less busy; Able to pull from this location.\n",
      "- Pull technician from nearest clinic: Denver, 1 available\n",
      "- Technician from Denver left at 19:20:54\n",
      "- Technician from Denver arrived at Rino at 19:33:37\n",
      "- Rino: before count = 3 | after count = 4\n",
      "- Denver: before count = 5 | after count = 4\n",
      "\n",
      "19:49:53 - Rino Clinic needs a technician\n",
      "- Availability:  ['Denver', 'Edgewater', 'Wheatridge', 'Lakewood']\n",
      "\n",
      "09:03:01 - Edgewater Clinic needs a technician\n",
      "- Availability:  ['Wheatridge', 'Lakewood', 'Rino', 'Denver']\n",
      "- Assess if pulling from wheatridge is feasible:\n",
      "    - Predicted amount of techs needed at wheatridge:  2\n",
      "    - Current amount of techs needed at wheatridge:  1\n",
      "        - ML model recommends no transfer from wheatridge\n",
      "- Assess if pulling from lakewood is feasible:\n",
      "\n",
      "11:39:50 - Lakewood Clinic needs a technician\n",
      "- Availability:  ['Edgewater', 'Wheatridge', 'Rino']\n",
      "\n",
      "11:57:35 - Lakewood Clinic needs a technician\n",
      "- Availability:  ['Edgewater', 'Wheatridge', 'Rino']\n",
      "\n",
      "14:39:31 - Wheatridge Clinic needs a technician\n",
      "- Availability:  ['Lakewood', 'Rino', 'Denver']\n",
      "\n",
      "16:40:59 - Rino Clinic needs a technician\n",
      "- Availability:  ['Edgewater', 'Wheatridge']\n",
      "\n",
      "16:42:12 - Lakewood Clinic needs a technician\n",
      "- Availability:  ['Edgewater', 'Wheatridge']\n",
      "\n",
      "17:54:57 - Denver Clinic needs a technician\n",
      "- Availability:  ['Rino', 'Edgewater', 'Wheatridge', 'Lakewood']\n",
      "\n",
      "18:03:17 - Denver Clinic needs a technician\n",
      "- Availability:  ['Rino', 'Edgewater', 'Wheatridge', 'Lakewood']\n",
      "\n",
      "18:44:29 - Lakewood Clinic needs a technician\n",
      "- Availability:  ['Edgewater', 'Wheatridge', 'Rino']\n",
      "- Assess if pulling from edgewater is feasible:\n",
      "    - Predicted amount of techs needed at edgewater:  2\n",
      "    - Current amount of techs needed at edgewater:  1\n",
      "        - ML model recommends no transfer from edgewater\n",
      "- Assess if pulling from wheatridge is feasible:\n",
      "\n",
      "08:51:56 - Edgewater Clinic needs a technician\n",
      "- Availability:  ['Wheatridge', 'Lakewood', 'Denver']\n",
      "\n",
      "09:02:15 - Rino Clinic needs a technician\n",
      "- Availability:  ['Denver', 'Wheatridge', 'Lakewood']\n",
      "\n",
      "10:51:08 - Rino Clinic needs a technician\n",
      "- Availability:  ['Denver', 'Edgewater', 'Wheatridge']\n",
      "\n",
      "15:01:45 - Wheatridge Clinic needs a technician\n",
      "- Availability:  ['Lakewood', 'Denver']\n",
      "- Assess if pulling from lakewood is feasible:\n",
      "    - Predicted amount of techs needed at lakewood:  2\n",
      "    - Current amount of techs needed at lakewood:  3\n",
      "- Model anticipates Lakewood clinic to become less busy; Able to pull from this location.\n",
      "- Pull technician from nearest clinic: Lakewood, 1 available\n",
      "- Technician from Lakewood left at 15:04:39\n",
      "- Technician from Lakewood arrived at Wheatridge at 15:14:54\n",
      "- Wheatridge: before count = 3 | after count = 4\n",
      "- Lakewood: before count = 4 | after count = 3\n",
      "\n",
      "15:07:13 - Rino Clinic needs a technician\n",
      "- Availability:  ['Denver', 'Lakewood']\n",
      "\n",
      "15:33:33 - Rino Clinic needs a technician\n",
      "- Availability:  ['Denver', 'Edgewater', 'Lakewood']\n",
      "- Assess if pulling from denver is feasible:\n",
      "    - Predicted amount of techs needed at denver:  1\n",
      "    - Current amount of techs needed at denver:  4\n",
      "- Model anticipates Denver clinic to become less busy; Able to pull from this location.\n",
      "- Pull technician from nearest clinic: Denver, 1 available\n",
      "- Technician from Denver left at 15:36:23\n",
      "- Technician from Denver arrived at Rino at 15:47:07\n",
      "- Rino: before count = 2 | after count = 3\n",
      "- Denver: before count = 5 | after count = 4\n",
      "\n",
      "16:03:37 - Denver Clinic needs a technician\n",
      "- Availability:  ['Lakewood']\n",
      "\n",
      "19:36:35 - Lakewood Clinic needs a technician\n",
      "- Availability:  ['Edgewater', 'Denver', 'Rino']\n",
      "- Assess if pulling from edgewater is feasible:\n",
      "    - Predicted amount of techs needed at edgewater:  3\n",
      "    - Current amount of techs needed at edgewater:  2\n",
      "        - ML model recommends no transfer from edgewater\n",
      "- Assess if pulling from denver is feasible:\n",
      "\n",
      "08:37:06 - Wheatridge Clinic needs a technician\n",
      "- Availability:  ['Edgewater', 'Lakewood', 'Rino']\n",
      "- Assess if pulling from edgewater is feasible:\n",
      "    - Predicted amount of techs needed at edgewater:  2\n",
      "    - Current amount of techs needed at edgewater:  2\n",
      "        - ML model recommends no transfer from edgewater\n",
      "- Assess if pulling from lakewood is feasible:\n",
      "\n",
      "08:55:52 - Denver Clinic needs a technician\n",
      "- Availability:  ['Rino', 'Edgewater', 'Lakewood']\n",
      "- Assess if pulling from rino is feasible:\n",
      "    - Predicted amount of techs needed at rino:  2\n",
      "    - Current amount of techs needed at rino:  2\n",
      "        - ML model recommends no transfer from rino\n",
      "- Assess if pulling from edgewater is feasible:\n",
      "\n",
      "09:33:58 - Denver Clinic needs a technician\n",
      "- Availability:  ['Rino', 'Edgewater', 'Wheatridge']\n",
      "- Assess if pulling from rino is feasible:\n",
      "    - Predicted amount of techs needed at rino:  3\n",
      "    - Current amount of techs needed at rino:  2\n",
      "        - ML model recommends no transfer from rino\n",
      "- Assess if pulling from edgewater is feasible:\n",
      "\n",
      "09:40:05 - Lakewood Clinic needs a technician\n",
      "- Availability:  ['Wheatridge']\n",
      "\n",
      "09:54:04 - Rino Clinic needs a technician\n",
      "- Availability:  ['Wheatridge']\n",
      "\n",
      "10:31:40 - Rino Clinic needs a technician\n",
      "- Availability:  ['Wheatridge']\n",
      "\n",
      "10:33:02 - Lakewood Clinic needs a technician\n",
      "- Availability:  ['Wheatridge']\n",
      "\n",
      "10:46:22 - Rino Clinic needs a technician\n",
      "- Availability:  ['Edgewater', 'Wheatridge']\n",
      "- Assess if pulling from edgewater is feasible:\n",
      "    - Predicted amount of techs needed at edgewater:  2\n",
      "    - Current amount of techs needed at edgewater:  1\n",
      "        - ML model recommends no transfer from edgewater\n",
      "- Assess if pulling from wheatridge is feasible:\n",
      "\n",
      "10:57:00 - Lakewood Clinic needs a technician\n",
      "- Availability:  ['Edgewater', 'Wheatridge']\n",
      "- Assess if pulling from edgewater is feasible:\n",
      "    - Predicted amount of techs needed at edgewater:  2\n",
      "    - Current amount of techs needed at edgewater:  1\n",
      "        - ML model recommends no transfer from edgewater\n",
      "- Assess if pulling from wheatridge is feasible:\n",
      "\n",
      "12:21:27 - Denver Clinic needs a technician\n",
      "- Availability:  ['Edgewater', 'Wheatridge']\n",
      "\n",
      "14:10:43 - Lakewood Clinic needs a technician\n",
      "- Availability:  ['Edgewater', 'Wheatridge', 'Rino']\n",
      "- Assess if pulling from edgewater is feasible:\n",
      "    - Predicted amount of techs needed at edgewater:  1\n",
      "    - Current amount of techs needed at edgewater:  1\n",
      "        - ML model recommends no transfer from edgewater\n",
      "- Assess if pulling from wheatridge is feasible:\n",
      "\n",
      "15:50:47 - Rino Clinic needs a technician\n",
      "- Availability:  ['Edgewater', 'Wheatridge']\n",
      "\n",
      "17:56:18 - Lakewood Clinic needs a technician\n",
      "- Availability:  ['Edgewater', 'Wheatridge', 'Rino']\n",
      "\n",
      "18:04:38 - Rino Clinic needs a technician\n",
      "- Availability:  ['Edgewater', 'Wheatridge']\n",
      "\n",
      "18:17:54 - Lakewood Clinic needs a technician\n",
      "- Availability:  ['Edgewater', 'Wheatridge']\n",
      "\n",
      "18:24:58 - Denver Clinic needs a technician\n",
      "- Availability:  ['Edgewater', 'Wheatridge']\n",
      "- Assess if pulling from edgewater is feasible:\n",
      "    - Predicted amount of techs needed at edgewater:  2\n",
      "    - Current amount of techs needed at edgewater:  1\n",
      "        - ML model recommends no transfer from edgewater\n",
      "- Assess if pulling from wheatridge is feasible:\n",
      "\n",
      "18:58:58 - Rino Clinic needs a technician\n",
      "- Availability:  ['Edgewater', 'Wheatridge']\n",
      "- Assess if pulling from edgewater is feasible:\n",
      "    - Predicted amount of techs needed at edgewater:  2\n",
      "    - Current amount of techs needed at edgewater:  1\n",
      "        - ML model recommends no transfer from edgewater\n",
      "- Assess if pulling from wheatridge is feasible:\n",
      "\n",
      "19:10:16 - Edgewater Clinic needs a technician\n",
      "- Availability:  ['Wheatridge']\n",
      "\n",
      "19:48:30 - Lakewood Clinic needs a technician\n",
      "- Availability:  ['Wheatridge']\n",
      "\n",
      "19:50:06 - Edgewater Clinic needs a technician\n",
      "- Availability:  ['Wheatridge']\n",
      "\n",
      "08:44:45 - Denver Clinic needs a technician\n",
      "- Availability:  ['Rino', 'Wheatridge']\n",
      "\n",
      "08:51:37 - Lakewood Clinic needs a technician\n",
      "- Availability:  ['Rino']\n",
      "\n",
      "08:56:31 - Wheatridge Clinic needs a technician\n",
      "- Availability:  ['Rino']\n",
      "\n",
      "09:16:38 - Edgewater Clinic needs a technician\n",
      "- Availability:  ['Rino', 'Denver']\n",
      "- Assess if pulling from rino is feasible:\n",
      "    - Predicted amount of techs needed at rino:  2\n",
      "    - Current amount of techs needed at rino:  1\n",
      "        - ML model recommends no transfer from rino\n",
      "- Assess if pulling from denver is feasible:\n",
      "\n",
      "13:58:10 - Edgewater Clinic needs a technician\n",
      "- Availability:  ['Wheatridge', 'Lakewood', 'Denver']\n",
      "\n",
      "14:09:11 - Rino Clinic needs a technician\n",
      "- Availability:  ['Denver', 'Wheatridge', 'Lakewood']\n",
      "\n",
      "19:20:32 - Edgewater Clinic needs a technician\n",
      "- Availability:  ['Wheatridge', 'Lakewood', 'Rino', 'Denver']\n",
      "\n",
      "08:54:12 - Denver Clinic needs a technician\n",
      "- Availability:  ['Rino', 'Edgewater', 'Wheatridge', 'Lakewood']\n",
      "\n",
      "09:09:10 - Wheatridge Clinic needs a technician\n",
      "- Availability:  ['Edgewater', 'Lakewood', 'Rino']\n",
      "- Assess if pulling from edgewater is feasible:\n",
      "    - Predicted amount of techs needed at edgewater:  2\n",
      "    - Current amount of techs needed at edgewater:  2\n",
      "        - ML model recommends no transfer from edgewater\n",
      "- Assess if pulling from lakewood is feasible:\n",
      "\n",
      "09:30:52 - Wheatridge Clinic needs a technician\n",
      "- Availability:  ['Edgewater', 'Lakewood', 'Rino']\n",
      "- Assess if pulling from edgewater is feasible:\n",
      "    - Predicted amount of techs needed at edgewater:  2\n",
      "    - Current amount of techs needed at edgewater:  2\n",
      "        - ML model recommends no transfer from edgewater\n",
      "- Assess if pulling from lakewood is feasible:\n",
      "\n",
      "09:50:18 - Lakewood Clinic needs a technician\n",
      "- Availability:  ['Denver']\n",
      "- Assess if pulling from denver is feasible:\n",
      "    - Predicted amount of techs needed at denver:  2\n",
      "    - Current amount of techs needed at denver:  4\n",
      "- Model anticipates Denver clinic to become less busy; Able to pull from this location.\n",
      "- Pull technician from nearest clinic: Denver, 1 available\n",
      "- Technician from Denver left at 09:52:29\n",
      "- Technician from Denver arrived at Lakewood at 10:09:03\n",
      "- Lakewood: before count = 3 | after count = 4\n",
      "- Denver: before count = 5 | after count = 4\n",
      "\n",
      "10:06:18 - Edgewater Clinic needs a technician\n",
      "- Availability:  ['Denver']\n",
      "- Assess if pulling from denver is feasible:\n",
      "    - Predicted amount of techs needed at denver:  2\n",
      "    - Current amount of techs needed at denver:  2\n",
      "        - ML model recommends no transfer from denver\n",
      "10:08:11 - Edgewater Clinic needs a technician\n",
      "- Availability:  ['Denver']\n",
      "- Assess if pulling from denver is feasible:\n",
      "    - Predicted amount of techs needed at denver:  2\n",
      "    - Current amount of techs needed at denver:  2\n",
      "        - ML model recommends no transfer from denver\n",
      "10:14:40 - Edgewater Clinic needs a technician\n",
      "- Availability:  ['Denver']\n",
      "- Assess if pulling from denver is feasible:\n",
      "    - Predicted amount of techs needed at denver:  2\n",
      "    - Current amount of techs needed at denver:  2\n",
      "        - ML model recommends no transfer from denver\n",
      "10:15:30 - Lakewood Clinic needs a technician\n",
      "- Availability:  ['Denver']\n",
      "- Assess if pulling from denver is feasible:\n",
      "    - Predicted amount of techs needed at denver:  2\n",
      "    - Current amount of techs needed at denver:  2\n",
      "        - ML model recommends no transfer from denver\n",
      "10:16:48 - Lakewood Clinic needs a technician\n",
      "- Availability:  ['Denver']\n",
      "- Assess if pulling from denver is feasible:\n",
      "    - Predicted amount of techs needed at denver:  2\n",
      "    - Current amount of techs needed at denver:  2\n",
      "        - ML model recommends no transfer from denver\n",
      "10:17:53 - Edgewater Clinic needs a technician\n",
      "- Availability:  ['Denver']\n",
      "- Assess if pulling from denver is feasible:\n",
      "    - Predicted amount of techs needed at denver:  2\n",
      "    - Current amount of techs needed at denver:  2\n",
      "        - ML model recommends no transfer from denver\n",
      "10:19:44 - Lakewood Clinic needs a technician\n",
      "- Availability:  ['Denver']\n",
      "- Assess if pulling from denver is feasible:\n",
      "    - Predicted amount of techs needed at denver:  2\n",
      "    - Current amount of techs needed at denver:  2\n",
      "        - ML model recommends no transfer from denver\n",
      "10:20:27 - Rino Clinic needs a technician\n",
      "- Availability:  ['Denver']\n",
      "\n",
      "10:31:23 - Lakewood Clinic needs a technician\n",
      "- Availability:  ['Denver']\n",
      "\n",
      "10:33:32 - Edgewater Clinic needs a technician\n",
      "- Availability:  ['Denver']\n",
      "\n",
      "11:26:55 - Wheatridge Clinic needs a technician\n",
      "- Availability:  ['Rino', 'Denver']\n",
      "\n",
      "12:55:35 - Rino Clinic needs a technician\n",
      "- Availability:  ['Denver', 'Edgewater', 'Lakewood']\n",
      "\n",
      "14:37:14 - Edgewater Clinic needs a technician\n",
      "- Availability:  ['Lakewood', 'Rino', 'Denver']\n",
      "\n",
      "17:39:26 - Lakewood Clinic needs a technician\n",
      "- Availability:  ['Wheatridge', 'Denver', 'Rino']\n",
      "- Assess if pulling from wheatridge is feasible:\n",
      "    - Predicted amount of techs needed at wheatridge:  2\n",
      "    - Current amount of techs needed at wheatridge:  3\n",
      "- Model anticipates Wheatridge clinic to become less busy; Able to pull from this location.\n",
      "- Pull technician from nearest clinic: Wheatridge, 1 available\n",
      "- Technician from Wheatridge left at 17:42:01\n",
      "- Technician from Wheatridge arrived at Lakewood at 17:51:06\n",
      "- Lakewood: before count = 3 | after count = 4\n",
      "- Wheatridge: before count = 4 | after count = 3\n",
      "\n",
      "18:45:20 - Edgewater Clinic needs a technician\n",
      "- Availability:  ['Wheatridge', 'Lakewood', 'Rino', 'Denver']\n",
      "- Assess if pulling from wheatridge is feasible:\n",
      "    - Predicted amount of techs needed at wheatridge:  1\n",
      "    - Current amount of techs needed at wheatridge:  1\n",
      "        - ML model recommends no transfer from wheatridge\n",
      "- Assess if pulling from lakewood is feasible:\n",
      "\n",
      "09:04:05 - Wheatridge Clinic needs a technician\n",
      "- Availability:  ['Edgewater', 'Lakewood', 'Denver']\n",
      "- Assess if pulling from edgewater is feasible:\n",
      "    - Predicted amount of techs needed at edgewater:  2\n",
      "    - Current amount of techs needed at edgewater:  2\n",
      "        - ML model recommends no transfer from edgewater\n",
      "- Assess if pulling from lakewood is feasible:\n",
      "\n",
      "09:25:21 - Wheatridge Clinic needs a technician\n",
      "- Availability:  ['Lakewood', 'Denver']\n",
      "- Assess if pulling from lakewood is feasible:\n",
      "    - Predicted amount of techs needed at lakewood:  2\n",
      "    - Current amount of techs needed at lakewood:  0\n",
      "        - ML model recommends no transfer from lakewood\n",
      "- Assess if pulling from denver is feasible:\n",
      "\n",
      "09:42:54 - Edgewater Clinic needs a technician\n",
      "- Availability:  ['Denver']\n",
      "- Assess if pulling from denver is feasible:\n",
      "    - Predicted amount of techs needed at denver:  2\n",
      "    - Current amount of techs needed at denver:  2\n",
      "        - ML model recommends no transfer from denver\n",
      "09:49:52 - Edgewater Clinic needs a technician\n",
      "- Availability:  []\n",
      "No movement at this time; all clinics are busy.\n",
      "10:09:05 - Lakewood Clinic needs a technician\n",
      "- Availability:  ['Denver', 'Rino']\n",
      "- Assess if pulling from denver is feasible:\n",
      "    - Predicted amount of techs needed at denver:  2\n",
      "    - Current amount of techs needed at denver:  2\n",
      "        - ML model recommends no transfer from denver\n",
      "- Assess if pulling from rino is feasible:\n",
      "\n",
      "10:13:30 - Wheatridge Clinic needs a technician\n",
      "- Availability:  ['Rino', 'Denver']\n",
      "- Assess if pulling from rino is feasible:\n",
      "    - Predicted amount of techs needed at rino:  2\n",
      "    - Current amount of techs needed at rino:  3\n",
      "- Model anticipates Rino clinic to become less busy; Able to pull from this location.\n",
      "- Pull technician from nearest clinic: Rino, 1 available\n",
      "- Technician from Rino left at 10:16:23\n",
      "- Technician from Rino arrived at Wheatridge at 10:32:56\n",
      "- Wheatridge: before count = 2 | after count = 3\n",
      "- Rino: before count = 4 | after count = 3\n",
      "\n",
      "10:32:52 - Wheatridge Clinic needs a technician\n",
      "- Availability:  ['Rino', 'Denver']\n",
      "\n",
      "11:39:41 - Lakewood Clinic needs a technician\n",
      "- Availability:  ['Edgewater', 'Denver', 'Rino']\n",
      "- Assess if pulling from edgewater is feasible:\n",
      "    - Predicted amount of techs needed at edgewater:  2\n",
      "    - Current amount of techs needed at edgewater:  2\n",
      "        - ML model recommends no transfer from edgewater\n",
      "- Assess if pulling from denver is feasible:\n",
      "\n",
      "11:52:31 - Wheatridge Clinic needs a technician\n",
      "- Availability:  ['Edgewater', 'Rino', 'Denver']\n",
      "- Assess if pulling from edgewater is feasible:\n",
      "    - Predicted amount of techs needed at edgewater:  2\n",
      "    - Current amount of techs needed at edgewater:  2\n",
      "        - ML model recommends no transfer from edgewater\n",
      "- Assess if pulling from rino is feasible:\n",
      "\n",
      "11:53:51 - Lakewood Clinic needs a technician\n",
      "- Availability:  ['Edgewater', 'Denver', 'Rino']\n",
      "- Assess if pulling from edgewater is feasible:\n",
      "    - Predicted amount of techs needed at edgewater:  2\n",
      "    - Current amount of techs needed at edgewater:  2\n",
      "        - ML model recommends no transfer from edgewater\n",
      "- Assess if pulling from denver is feasible:\n",
      "\n",
      "12:07:25 - Denver Clinic needs a technician\n",
      "- Availability:  ['Rino', 'Edgewater']\n",
      "\n",
      "12:53:13 - Lakewood Clinic needs a technician\n",
      "- Availability:  ['Edgewater', 'Denver', 'Rino']\n",
      "- Assess if pulling from edgewater is feasible:\n",
      "    - Predicted amount of techs needed at edgewater:  2\n",
      "    - Current amount of techs needed at edgewater:  2\n",
      "        - ML model recommends no transfer from edgewater\n",
      "- Assess if pulling from denver is feasible:\n",
      "\n",
      "14:56:35 - Rino Clinic needs a technician\n",
      "- Availability:  ['Denver', 'Wheatridge']\n",
      "- Assess if pulling from denver is feasible:\n",
      "    - Predicted amount of techs needed at denver:  2\n",
      "    - Current amount of techs needed at denver:  2\n",
      "        - ML model recommends no transfer from denver\n",
      "- Assess if pulling from wheatridge is feasible:\n",
      "\n",
      "14:58:20 - Edgewater Clinic needs a technician\n",
      "- Availability:  ['Wheatridge', 'Denver']\n",
      "- Assess if pulling from wheatridge is feasible:\n",
      "    - Predicted amount of techs needed at wheatridge:  1\n",
      "    - Current amount of techs needed at wheatridge:  2\n",
      "- Model anticipates Wheatridge clinic to become less busy; Able to pull from this location.\n",
      "- Pull technician from nearest clinic: Wheatridge, 1 available\n",
      "- Technician from Wheatridge left at 15:01:08\n",
      "- Technician from Wheatridge arrived at Edgewater at 15:06:39\n",
      "- Edgewater: before count = 2 | after count = 3\n",
      "- Wheatridge: before count = 3 | after count = 2\n",
      "\n",
      "15:25:03 - Lakewood Clinic needs a technician\n",
      "- Availability:  ['Wheatridge', 'Denver']\n",
      "- Assess if pulling from wheatridge is feasible:\n",
      "    - Predicted amount of techs needed at wheatridge:  2\n",
      "    - Current amount of techs needed at wheatridge:  0\n",
      "        - ML model recommends no transfer from wheatridge\n",
      "- Assess if pulling from denver is feasible:\n",
      "\n",
      "17:34:30 - Edgewater Clinic needs a technician\n",
      "- Availability:  ['Rino', 'Denver']\n",
      "\n",
      "18:05:43 - Edgewater Clinic needs a technician\n",
      "- Availability:  ['Lakewood', 'Rino', 'Denver']\n",
      "- Assess if pulling from lakewood is feasible:\n",
      "    - Predicted amount of techs needed at lakewood:  1\n",
      "    - Current amount of techs needed at lakewood:  2\n",
      "- Model anticipates Lakewood clinic to become less busy; Able to pull from this location.\n",
      "- Pull technician from nearest clinic: Lakewood, 1 available\n",
      "- Technician from Lakewood left at 18:08:33\n",
      "- Technician from Lakewood arrived at Edgewater at 18:20:49\n",
      "- Edgewater: before count = 2 | after count = 3\n",
      "- Lakewood: before count = 3 | after count = 2\n",
      "\n",
      "19:42:49 - Rino Clinic needs a technician\n",
      "- Availability:  ['Denver', 'Wheatridge', 'Lakewood']\n",
      "- Assess if pulling from denver is feasible:\n",
      "    - Predicted amount of techs needed at denver:  2\n",
      "    - Current amount of techs needed at denver:  2\n",
      "        - ML model recommends no transfer from denver\n",
      "- Assess if pulling from wheatridge is feasible:\n",
      "\n",
      "08:37:45 - Wheatridge Clinic needs a technician\n",
      "- Availability:  ['Edgewater', 'Lakewood', 'Denver']\n",
      "\n",
      "08:48:23 - Denver Clinic needs a technician\n",
      "- Availability:  ['Edgewater', 'Lakewood']\n",
      "\n",
      "09:09:22 - Denver Clinic needs a technician\n",
      "- Availability:  ['Edgewater', 'Lakewood']\n",
      "\n",
      "09:19:06 - Denver Clinic needs a technician\n",
      "- Availability:  ['Rino', 'Edgewater', 'Lakewood']\n",
      "\n",
      "10:13:16 - Rino Clinic needs a technician\n",
      "- Availability:  ['Wheatridge', 'Lakewood']\n",
      "\n",
      "10:55:29 - Wheatridge Clinic needs a technician\n",
      "- Availability:  ['Rino', 'Denver']\n",
      "\n",
      "11:35:33 - Lakewood Clinic needs a technician\n",
      "- Availability:  ['Denver', 'Rino']\n",
      "- Assess if pulling from denver is feasible:\n",
      "    - Predicted amount of techs needed at denver:  2\n",
      "    - Current amount of techs needed at denver:  3\n",
      "- Model anticipates Denver clinic to become less busy; Able to pull from this location.\n",
      "- Pull technician from nearest clinic: Denver, 1 available\n",
      "- Technician from Denver left at 11:38:23\n",
      "- Technician from Denver arrived at Lakewood at 11:57:55\n",
      "- Lakewood: before count = 3 | after count = 4\n",
      "- Denver: before count = 4 | after count = 3\n",
      "\n",
      "19:39:29 - Edgewater Clinic needs a technician\n",
      "- Availability:  ['Wheatridge', 'Lakewood', 'Rino']\n",
      "\n",
      "11:19:22 - Wheatridge Clinic needs a technician\n",
      "- Availability:  ['Lakewood', 'Rino', 'Denver']\n",
      "\n",
      "11:37:01 - Rino Clinic needs a technician\n",
      "- Availability:  ['Lakewood']\n",
      "\n",
      "12:06:40 - Rino Clinic needs a technician\n",
      "- Availability:  ['Wheatridge', 'Lakewood']\n",
      "- Assess if pulling from wheatridge is feasible:\n",
      "    - Predicted amount of techs needed at wheatridge:  2\n",
      "    - Current amount of techs needed at wheatridge:  3\n",
      "- Model anticipates Wheatridge clinic to become less busy; Able to pull from this location.\n",
      "- Pull technician from nearest clinic: Wheatridge, 1 available\n",
      "- Technician from Wheatridge left at 12:09:25\n",
      "- Technician from Wheatridge arrived at Rino at 12:23:33\n",
      "- Rino: before count = 2 | after count = 3\n",
      "- Wheatridge: before count = 4 | after count = 3\n",
      "\n",
      "12:11:51 - Edgewater Clinic needs a technician\n",
      "- Availability:  ['Wheatridge', 'Lakewood']\n",
      "- Assess if pulling from wheatridge is feasible:\n",
      "    - Predicted amount of techs needed at wheatridge:  2\n",
      "    - Current amount of techs needed at wheatridge:  1\n",
      "        - ML model recommends no transfer from wheatridge\n",
      "- Assess if pulling from lakewood is feasible:\n",
      "\n",
      "13:06:06 - Lakewood Clinic needs a technician\n",
      "- Availability:  ['Edgewater', 'Denver', 'Rino']\n",
      "\n",
      "13:26:06 - Lakewood Clinic needs a technician\n",
      "- Availability:  ['Edgewater', 'Denver']\n",
      "\n",
      "13:57:33 - Lakewood Clinic needs a technician\n",
      "- Availability:  ['Edgewater', 'Wheatridge', 'Rino']\n",
      "\n",
      "14:00:14 - Denver Clinic needs a technician\n",
      "- Availability:  ['Rino', 'Edgewater', 'Wheatridge']\n",
      "- Assess if pulling from rino is feasible:\n",
      "    - Predicted amount of techs needed at rino:  2\n",
      "    - Current amount of techs needed at rino:  2\n",
      "        - ML model recommends no transfer from rino\n",
      "- Assess if pulling from edgewater is feasible:\n",
      "\n",
      "14:32:37 - Lakewood Clinic needs a technician\n",
      "- Availability:  ['Edgewater', 'Wheatridge']\n",
      "\n",
      "17:03:48 - Denver Clinic needs a technician\n",
      "- Availability:  ['Rino', 'Edgewater', 'Wheatridge', 'Lakewood']\n",
      "- Assess if pulling from rino is feasible:\n",
      "    - Predicted amount of techs needed at rino:  2\n",
      "    - Current amount of techs needed at rino:  2\n",
      "        - ML model recommends no transfer from rino\n",
      "- Assess if pulling from edgewater is feasible:\n",
      "\n",
      "08:40:43 - Rino Clinic needs a technician\n",
      "- Availability:  ['Denver', 'Edgewater', 'Wheatridge', 'Lakewood']\n",
      "\n",
      "10:19:06 - Wheatridge Clinic needs a technician\n",
      "- Availability:  ['Lakewood', 'Rino', 'Denver']\n",
      "- Assess if pulling from lakewood is feasible:\n",
      "    - Predicted amount of techs needed at lakewood:  1\n",
      "    - Current amount of techs needed at lakewood:  3\n",
      "- Model anticipates Lakewood clinic to become less busy; Able to pull from this location.\n",
      "- Pull technician from nearest clinic: Lakewood, 1 available\n",
      "- Technician from Lakewood left at 10:21:08\n",
      "- Technician from Lakewood arrived at Wheatridge at 10:35:37\n",
      "- Wheatridge: before count = 3 | after count = 4\n",
      "- Lakewood: before count = 4 | after count = 3\n",
      "\n",
      "10:30:38 - Wheatridge Clinic needs a technician\n",
      "- Availability:  ['Lakewood', 'Rino', 'Denver']\n",
      "- Assess if pulling from lakewood is feasible:\n",
      "    - Predicted amount of techs needed at lakewood:  1\n",
      "    - Current amount of techs needed at lakewood:  3\n",
      "- Model anticipates Lakewood clinic to become less busy; Able to pull from this location.\n",
      "- Pull technician from nearest clinic: Lakewood, 1 available\n",
      "- Technician from Lakewood left at 10:32:42\n",
      "- Technician from Lakewood arrived at Wheatridge at 10:46:39\n",
      "- Wheatridge: before count = 3 | after count = 4\n",
      "- Lakewood: before count = 4 | after count = 3\n",
      "\n",
      "12:44:28 - Edgewater Clinic needs a technician\n",
      "- Availability:  ['Lakewood', 'Rino', 'Denver']\n",
      "\n",
      "13:57:18 - Wheatridge Clinic needs a technician\n",
      "- Availability:  ['Edgewater', 'Lakewood', 'Rino', 'Denver']\n",
      "- Assess if pulling from edgewater is feasible:\n",
      "    - Predicted amount of techs needed at edgewater:  2\n",
      "    - Current amount of techs needed at edgewater:  3\n",
      "- Model anticipates Edgewater clinic to become less busy; Able to pull from this location.\n",
      "- Pull technician from nearest clinic: Edgewater, 1 available\n",
      "- Technician from Edgewater left at 13:59:26\n",
      "- Technician from Edgewater arrived at Wheatridge at 14:08:34\n",
      "- Wheatridge: before count = 3 | after count = 4\n",
      "- Edgewater: before count = 4 | after count = 3\n",
      "\n",
      "14:10:22 - Wheatridge Clinic needs a technician\n",
      "- Availability:  ['Edgewater', 'Lakewood', 'Rino', 'Denver']\n",
      "- Assess if pulling from edgewater is feasible:\n",
      "    - Predicted amount of techs needed at edgewater:  2\n",
      "    - Current amount of techs needed at edgewater:  3\n",
      "- Model anticipates Edgewater clinic to become less busy; Able to pull from this location.\n",
      "- Pull technician from nearest clinic: Edgewater, 1 available\n",
      "- Technician from Edgewater left at 14:13:14\n",
      "- Technician from Edgewater arrived at Wheatridge at 14:24:31\n",
      "- Wheatridge: before count = 3 | after count = 4\n",
      "- Edgewater: before count = 4 | after count = 3\n",
      "\n",
      "15:51:28 - Denver Clinic needs a technician\n",
      "- Availability:  ['Rino', 'Edgewater']\n",
      "\n",
      "18:15:21 - Wheatridge Clinic needs a technician\n",
      "- Availability:  ['Edgewater', 'Lakewood', 'Rino', 'Denver']\n",
      "\n",
      "19:08:38 - Lakewood Clinic needs a technician\n",
      "- Availability:  ['Edgewater', 'Denver', 'Rino']\n",
      "\n",
      "08:30:39 - Denver Clinic needs a technician\n",
      "- Availability:  ['Rino', 'Edgewater', 'Lakewood']\n",
      "- Assess if pulling from rino is feasible:\n",
      "    - Predicted amount of techs needed at rino:  2\n",
      "    - Current amount of techs needed at rino:  0\n",
      "        - ML model recommends no transfer from rino\n",
      "- Assess if pulling from edgewater is feasible:\n",
      "\n",
      "09:19:06 - Wheatridge Clinic needs a technician\n",
      "- Availability:  ['Edgewater', 'Rino']\n",
      "\n",
      "09:25:12 - Lakewood Clinic needs a technician\n",
      "- Availability:  ['Edgewater', 'Rino']\n",
      "- Assess if pulling from edgewater is feasible:\n",
      "    - Predicted amount of techs needed at edgewater:  2\n",
      "    - Current amount of techs needed at edgewater:  1\n",
      "        - ML model recommends no transfer from edgewater\n",
      "- Assess if pulling from rino is feasible:\n",
      "\n",
      "10:05:48 - Rino Clinic needs a technician\n",
      "- Availability:  ['Denver', 'Edgewater']\n",
      "- Assess if pulling from denver is feasible:\n",
      "    - Predicted amount of techs needed at denver:  2\n",
      "    - Current amount of techs needed at denver:  3\n",
      "- Model anticipates Denver clinic to become less busy; Able to pull from this location.\n",
      "- Pull technician from nearest clinic: Denver, 1 available\n",
      "- Technician from Denver left at 10:08:03\n",
      "- Technician from Denver arrived at Rino at 10:15:20\n",
      "- Rino: before count = 2 | after count = 3\n",
      "- Denver: before count = 4 | after count = 3\n",
      "\n",
      "12:03:32 - Wheatridge Clinic needs a technician\n",
      "- Availability:  ['Edgewater', 'Lakewood', 'Denver']\n",
      "\n",
      "12:50:33 - Wheatridge Clinic needs a technician\n",
      "- Availability:  ['Edgewater']\n",
      "- Assess if pulling from edgewater is feasible:\n",
      "    - Predicted amount of techs needed at edgewater:  2\n",
      "    - Current amount of techs needed at edgewater:  1\n",
      "        - ML model recommends no transfer from edgewater\n",
      "12:51:48 - Wheatridge Clinic needs a technician\n",
      "- Availability:  ['Edgewater', 'Denver']\n",
      "- Assess if pulling from edgewater is feasible:\n",
      "    - Predicted amount of techs needed at edgewater:  2\n",
      "    - Current amount of techs needed at edgewater:  1\n",
      "        - ML model recommends no transfer from edgewater\n",
      "- Assess if pulling from denver is feasible:\n",
      "\n",
      "12:53:08 - Lakewood Clinic needs a technician\n",
      "- Availability:  ['Edgewater', 'Denver']\n",
      "- Assess if pulling from edgewater is feasible:\n",
      "    - Predicted amount of techs needed at edgewater:  2\n",
      "    - Current amount of techs needed at edgewater:  1\n",
      "        - ML model recommends no transfer from edgewater\n",
      "- Assess if pulling from denver is feasible:\n",
      "\n",
      "13:13:14 - Edgewater Clinic needs a technician\n",
      "- Availability:  []\n",
      "No movement at this time; all clinics are busy.\n",
      "13:14:36 - Edgewater Clinic needs a technician\n",
      "- Availability:  []\n",
      "No movement at this time; all clinics are busy.\n",
      "13:16:44 - Edgewater Clinic needs a technician\n",
      "- Availability:  []\n",
      "No movement at this time; all clinics are busy.\n",
      "13:21:00 - Rino Clinic needs a technician\n",
      "- Availability:  []\n",
      "No movement at this time; all clinics are busy.\n",
      "13:25:40 - Edgewater Clinic needs a technician\n",
      "- Availability:  ['Lakewood']\n",
      "- Assess if pulling from lakewood is feasible:\n",
      "    - Predicted amount of techs needed at lakewood:  1\n",
      "    - Current amount of techs needed at lakewood:  3\n",
      "- Model anticipates Lakewood clinic to become less busy; Able to pull from this location.\n",
      "- Pull technician from nearest clinic: Lakewood, 1 available\n",
      "- Technician from Lakewood left at 13:28:29\n",
      "- Technician from Lakewood arrived at Edgewater at 13:40:53\n",
      "- Edgewater: before count = 3 | after count = 4\n",
      "- Lakewood: before count = 4 | after count = 3\n",
      "\n",
      "13:33:29 - Rino Clinic needs a technician\n",
      "- Availability:  ['Lakewood']\n",
      "- Assess if pulling from lakewood is feasible:\n",
      "    - Predicted amount of techs needed at lakewood:  1\n",
      "    - Current amount of techs needed at lakewood:  3\n",
      "- Model anticipates Lakewood clinic to become less busy; Able to pull from this location.\n",
      "- Pull technician from nearest clinic: Lakewood, 1 available\n",
      "- Technician from Lakewood left at 13:36:05\n",
      "- Technician from Lakewood arrived at Rino at 13:53:20\n",
      "- Rino: before count = 2 | after count = 3\n",
      "- Lakewood: before count = 4 | after count = 3\n",
      "\n",
      "17:13:13 - Wheatridge Clinic needs a technician\n",
      "- Availability:  ['Edgewater', 'Lakewood', 'Rino', 'Denver']\n",
      "\n",
      "18:02:14 - Wheatridge Clinic needs a technician\n",
      "- Availability:  ['Edgewater', 'Lakewood', 'Rino']\n",
      "\n",
      "18:11:04 - Denver Clinic needs a technician\n",
      "- Availability:  ['Rino', 'Edgewater', 'Lakewood']\n",
      "- Assess if pulling from rino is feasible:\n",
      "    - Predicted amount of techs needed at rino:  2\n",
      "    - Current amount of techs needed at rino:  2\n",
      "        - ML model recommends no transfer from rino\n",
      "- Assess if pulling from edgewater is feasible:\n",
      "\n",
      "19:00:46 - Edgewater Clinic needs a technician\n",
      "- Availability:  []\n",
      "No movement at this time; all clinics are busy.\n",
      "19:05:00 - Rino Clinic needs a technician\n",
      "- Availability:  ['Wheatridge']\n",
      "- Assess if pulling from wheatridge is feasible:\n",
      "    - Predicted amount of techs needed at wheatridge:  2\n",
      "    - Current amount of techs needed at wheatridge:  2\n",
      "        - ML model recommends no transfer from wheatridge\n",
      "19:23:57 - Rino Clinic needs a technician\n",
      "- Availability:  ['Denver', 'Wheatridge']\n",
      "- Assess if pulling from denver is feasible:\n",
      "    - Predicted amount of techs needed at denver:  2\n",
      "    - Current amount of techs needed at denver:  3\n",
      "- Model anticipates Denver clinic to become less busy; Able to pull from this location.\n",
      "- Pull technician from nearest clinic: Denver, 1 available\n",
      "- Technician from Denver left at 19:26:34\n",
      "- Technician from Denver arrived at Rino at 19:39:12\n",
      "- Rino: before count = 2 | after count = 3\n",
      "- Denver: before count = 4 | after count = 3\n",
      "\n",
      "09:13:44 - Denver Clinic needs a technician\n",
      "- Availability:  ['Lakewood']\n",
      "- Assess if pulling from lakewood is feasible:\n",
      "    - Predicted amount of techs needed at lakewood:  3\n",
      "    - Current amount of techs needed at lakewood:  2\n",
      "        - ML model recommends no transfer from lakewood\n",
      "09:17:44 - Denver Clinic needs a technician\n",
      "- Availability:  ['Lakewood']\n",
      "- Assess if pulling from lakewood is feasible:\n",
      "    - Predicted amount of techs needed at lakewood:  3\n",
      "    - Current amount of techs needed at lakewood:  2\n",
      "        - ML model recommends no transfer from lakewood\n",
      "09:25:34 - Denver Clinic needs a technician\n",
      "- Availability:  ['Lakewood']\n",
      "- Assess if pulling from lakewood is feasible:\n",
      "    - Predicted amount of techs needed at lakewood:  3\n",
      "    - Current amount of techs needed at lakewood:  2\n",
      "        - ML model recommends no transfer from lakewood\n",
      "09:25:51 - Denver Clinic needs a technician\n",
      "- Availability:  ['Lakewood']\n",
      "- Assess if pulling from lakewood is feasible:\n",
      "    - Predicted amount of techs needed at lakewood:  3\n",
      "    - Current amount of techs needed at lakewood:  2\n",
      "        - ML model recommends no transfer from lakewood\n",
      "09:26:42 - Denver Clinic needs a technician\n",
      "- Availability:  ['Lakewood']\n",
      "- Assess if pulling from lakewood is feasible:\n",
      "    - Predicted amount of techs needed at lakewood:  3\n",
      "    - Current amount of techs needed at lakewood:  2\n",
      "        - ML model recommends no transfer from lakewood\n",
      "09:30:37 - Denver Clinic needs a technician\n",
      "- Availability:  ['Lakewood']\n",
      "- Assess if pulling from lakewood is feasible:\n",
      "    - Predicted amount of techs needed at lakewood:  3\n",
      "    - Current amount of techs needed at lakewood:  2\n",
      "        - ML model recommends no transfer from lakewood\n",
      "09:32:43 - Denver Clinic needs a technician\n",
      "- Availability:  ['Lakewood']\n",
      "- Assess if pulling from lakewood is feasible:\n",
      "    - Predicted amount of techs needed at lakewood:  3\n",
      "    - Current amount of techs needed at lakewood:  2\n",
      "        - ML model recommends no transfer from lakewood\n",
      "09:50:14 - Edgewater Clinic needs a technician\n",
      "- Availability:  ['Lakewood']\n",
      "- Assess if pulling from lakewood is feasible:\n",
      "    - Predicted amount of techs needed at lakewood:  2\n",
      "    - Current amount of techs needed at lakewood:  2\n",
      "        - ML model recommends no transfer from lakewood\n",
      "11:52:42 - Lakewood Clinic needs a technician\n",
      "- Availability:  ['Wheatridge', 'Denver', 'Rino']\n",
      "- Assess if pulling from wheatridge is feasible:\n",
      "    - Predicted amount of techs needed at wheatridge:  2\n",
      "    - Current amount of techs needed at wheatridge:  3\n",
      "- Model anticipates Wheatridge clinic to become less busy; Able to pull from this location.\n",
      "- Pull technician from nearest clinic: Wheatridge, 1 available\n",
      "- Technician from Wheatridge left at 11:55:35\n",
      "- Technician from Wheatridge arrived at Lakewood at 12:05:26\n",
      "- Lakewood: before count = 4 | after count = 5\n",
      "- Wheatridge: before count = 4 | after count = 3\n",
      "\n",
      "12:00:53 - Lakewood Clinic needs a technician\n",
      "- Availability:  ['Wheatridge', 'Denver', 'Rino']\n",
      "- Assess if pulling from wheatridge is feasible:\n",
      "    - Predicted amount of techs needed at wheatridge:  2\n",
      "    - Current amount of techs needed at wheatridge:  1\n",
      "        - ML model recommends no transfer from wheatridge\n",
      "- Assess if pulling from denver is feasible:\n",
      "\n",
      "14:12:05 - Edgewater Clinic needs a technician\n",
      "- Availability:  ['Wheatridge', 'Lakewood']\n",
      "- Assess if pulling from wheatridge is feasible:\n",
      "    - Predicted amount of techs needed at wheatridge:  1\n",
      "    - Current amount of techs needed at wheatridge:  1\n",
      "        - ML model recommends no transfer from wheatridge\n",
      "- Assess if pulling from lakewood is feasible:\n",
      "\n",
      "14:28:51 - Edgewater Clinic needs a technician\n",
      "- Availability:  ['Wheatridge', 'Lakewood']\n",
      "\n",
      "17:24:19 - Denver Clinic needs a technician\n",
      "- Availability:  ['Wheatridge', 'Lakewood']\n",
      "\n",
      "18:19:19 - Wheatridge Clinic needs a technician\n",
      "- Availability:  ['Edgewater', 'Lakewood', 'Rino', 'Denver']\n",
      "- Assess if pulling from edgewater is feasible:\n",
      "    - Predicted amount of techs needed at edgewater:  2\n",
      "    - Current amount of techs needed at edgewater:  2\n",
      "        - ML model recommends no transfer from edgewater\n",
      "- Assess if pulling from lakewood is feasible:\n",
      "\n",
      "18:47:16 - Wheatridge Clinic needs a technician\n",
      "- Availability:  ['Edgewater', 'Lakewood', 'Rino', 'Denver']\n",
      "- Assess if pulling from edgewater is feasible:\n",
      "    - Predicted amount of techs needed at edgewater:  2\n",
      "    - Current amount of techs needed at edgewater:  2\n",
      "        - ML model recommends no transfer from edgewater\n",
      "- Assess if pulling from lakewood is feasible:\n",
      "\n",
      "19:23:22 - Edgewater Clinic needs a technician\n",
      "- Availability:  ['Lakewood', 'Rino', 'Denver']\n",
      "- Assess if pulling from lakewood is feasible:\n",
      "    - Predicted amount of techs needed at lakewood:  2\n",
      "    - Current amount of techs needed at lakewood:  2\n",
      "        - ML model recommends no transfer from lakewood\n",
      "- Assess if pulling from rino is feasible:\n",
      "\n",
      "19:40:34 - Rino Clinic needs a technician\n",
      "- Availability:  ['Denver', 'Lakewood']\n",
      "- Assess if pulling from denver is feasible:\n",
      "    - Predicted amount of techs needed at denver:  2\n",
      "    - Current amount of techs needed at denver:  3\n",
      "- Model anticipates Denver clinic to become less busy; Able to pull from this location.\n",
      "- Pull technician from nearest clinic: Denver, 1 available\n",
      "- Technician from Denver left at 19:42:57\n",
      "- Technician from Denver arrived at Rino at 19:52:42\n",
      "- Rino: before count = 3 | after count = 4\n",
      "- Denver: before count = 4 | after count = 3\n",
      "\n"
     ]
    }
   ],
   "source": [
    "# Define tracker dict that holds updated values at each patient check-in log\n",
    "movements = []\n",
    "currentNumTechs = []\n",
    "def TecNav(df):\n",
    "    global movements\n",
    "    d = {'denver': {'checkin_time': None, 'num_techs': 0,'needed_techs': 0, 'flag': 0, 'available_techs': 0, 'num_movements': 0},\n",
    "        'edgewater': {'checkin_time': None, 'num_techs': 0,'needed_techs': 0, 'flag': 0, 'available_techs': 0, 'num_movements': 0},\n",
    "        'wheatridge': {'checkin_time': None, 'num_techs': 0,'needed_techs': 0, 'flag': 0, 'available_techs': 0, 'num_movements': 0}, \n",
    "        'rino': {'checkin_time': None, 'num_techs': 0,'needed_techs': 0, 'flag': 0, 'available_techs': 0, 'num_movements': 0},\n",
    "        'lakewood': {'checkin_time': None, 'num_techs': 0,'needed_techs': 0, 'flag': 0, 'available_techs': 0, 'num_movements': 0}}\n",
    "\n",
    "    # Iterate through each record (evaluate situation at each patient check-in)\n",
    "    for indx, row in df.iterrows():\n",
    "        \n",
    "        # Update tracker dict with new corresponding values\n",
    "        location = row['visit_location']\n",
    "        checkin_time = row['checkin_time']\n",
    "        num_techs = row['new_num_techs']\n",
    "        needed_techs = row['needed_num_techs']\n",
    "        d[location]['checkin_time'] = checkin_time\n",
    "        current_num_techs = num_techs + d[location]['num_movements']\n",
    "        currentNumTechs.append(current_num_techs)\n",
    "        d[location]['num_techs'] = current_num_techs\n",
    "        d[location]['needed_techs'] = needed_techs + d[location]['num_movements']\n",
    "        available_techs = d[location]['num_techs'] - d[location]['needed_techs']\n",
    "        d[location]['available_techs'] = available_techs\n",
    "        \n",
    "        # If location was already flagged for hitting patient:tech threshold\n",
    "        if d[location]['flag'] == 1:\n",
    "            \n",
    "            # If location of current patient check-in log exceeds threshold\n",
    "            if d[location]['num_techs'] < d[location]['needed_techs']:\n",
    "                print(f\"{checkin_time} - {location.capitalize()} Clinic needs a technician\")\n",
    "                \n",
    "                # Get technician availability from nearby clinics, sorted by distance\n",
    "                available = []\n",
    "                for clinic in clinics_df.loc[location, 'nearby_clinics']:\n",
    "                    avail_techs = d[clinic[0]]['available_techs']\n",
    "                    if avail_techs > 0:\n",
    "                        available.append(clinic)\n",
    "                print(\"- Availability: \", [i[0].capitalize() for i in available])                  \n",
    "                \n",
    "                # If there is an available technician\n",
    "                while len(available) > 0:\n",
    "\n",
    "                    pull_from = available[0][0]\n",
    "                    num_avail = d[pull_from][\"available_techs\"]\n",
    "\n",
    "                    # If pull_from location has only 1 available tech, conduct extra assessment if taking away that tech is feasible\n",
    "                    if num_avail == 1:\n",
    "                        df = df[['denver', 'edgewater', 'wheatridge', 'rino', 'lakewood', 'weekend', 'hour']].copy()\n",
    "                        needed_num_techs_pred = rf.predict(df[df.index == indx])[0]\n",
    "                        print(f'- Assess if pulling from {pull_from} is feasible:')\n",
    "                        print(f\"    - Predicted amount of techs needed at {pull_from}: \", int(needed_num_techs_pred))\n",
    "                        print(f\"    - Current amount of techs needed at {pull_from}: \", d[pull_from]['needed_techs'])\n",
    "\n",
    "                        # If the 1 available tech should remain at the pull_from location, move on to the next available location to pull from\n",
    "                        if needed_num_techs_pred > d[pull_from]['needed_techs']:\n",
    "                            print(f\"        - ML model recommends no transfer from {pull_from}\")\n",
    "                            available.pop(0)\n",
    "                            if len(available) == 0:\n",
    "                                break\n",
    "                            else:\n",
    "                                pull_from = available[0][0]\n",
    "                                print(f'- Assess if pulling from {pull_from} is feasible:')\n",
    "                                \n",
    "                        # If only 1 available and we can pull from there\n",
    "                        else: \n",
    "                            print(f'- Model anticipates {pull_from.capitalize()} clinic to become less busy; Able to pull from this location.')\n",
    "\n",
    "                            # Look around that time - what was the average rolling count in that range. Compare to our current rollign count. Above 3 dont move, below 3 move\n",
    "                            print(f\"- Pull technician from nearest clinic: {pull_from.capitalize()}, {num_avail} available\")\n",
    "\n",
    "                            departure_time = datetime.strptime(str(checkin_time), '%H:%M:%S') + timedelta(minutes=2, seconds=random.choice([i for i in range(60)]))\n",
    "\n",
    "                            print(f'- Technician from {pull_from.capitalize()} left at {departure_time.time()}')\n",
    "\n",
    "                            # Update tracker dict by subtracting 1 tech from pull_from \n",
    "                            d[pull_from]['num_movements'] = -1\n",
    "                            # Update tracker dict by adding 1 to location\n",
    "                            d[location]['num_movements'] = 1\n",
    "                            \n",
    "                            travel_time = int(clinics_df.loc[pull_from, 'to_'+location]) + random.choice([0, 2, 3, 4, 5, 6])\n",
    "                            arrival_time = departure_time + timedelta(minutes=int(travel_time), seconds=random.choice([i for i in range(60)]))\n",
    "                            print(f\"- Technician from {pull_from.capitalize()} arrived at {location.capitalize()} at {arrival_time.time()}\")\n",
    "                            print(f'- {location.capitalize()}: before count = {num_techs} | after count = {num_techs + d[location][\"num_movements\"]}')\n",
    "                            print(f'- {pull_from.capitalize()}: before count = {d[pull_from][\"num_techs\"]} | after count = {d[pull_from][\"num_techs\"] + d[pull_from][\"num_movements\"]}')\n",
    "                            print()\n",
    "                            movements.append((pull_from, location))\n",
    "                            d[location]['flag'] = 0\n",
    "                            break\n",
    "\n",
    "                    ### IF NUM AVAILABLE > 1\n",
    "                    # Look around that time - what was the average rolling count in that range. Compare to our current rollign count. Above 3 dont move, below 3 move\n",
    "                    # print(f\"- Pull technician from nearest clinic: {pull_from.capitalize()}, {num_avail} available\")\n",
    "                    departure_time = datetime.strptime(str(checkin_time), '%H:%M:%S') + timedelta(minutes=2, seconds=random.choice([i for i in range(60)]))\n",
    "                    # print(f'- Technician from {pull_from} left at {departure_time.time()}')\n",
    "                \n",
    "                    # Update tracker dict by subtracting 1 tech from pull_from \n",
    "                    d[pull_from]['num_movements'] = -1\n",
    "                    # Update tracker dict by adding 1 to location\n",
    "                    d[location]['num_movements'] = 1\n",
    "                    \n",
    "                    travel_time = int(clinics_df.loc[pull_from, 'to_'+location]) + random.choice([0, 2, 3, 4, 5, 6])\n",
    "                    arrival_time = departure_time + timedelta(minutes=int(travel_time), seconds=random.choice([i for i in range(60)]))\n",
    "                    # print(f\"- Technician from {pull_from} arrived at {location} at {arrival_time.time()}\")\n",
    "                    # print(f'- {location.capitalize()}: before count = {num_techs} | after count = {num_techs + d[location][\"num_movements\"]}')\n",
    "                    # print(f'- {pull_from.capitalize()}: before count = {d[pull_from][\"num_techs\"]} | after count = {d[pull_from][\"num_techs\"] + d[pull_from][\"num_movements\"]}') \n",
    "                    print()\n",
    "                    movements.append((pull_from, location))\n",
    "                    d[location]['flag'] = 0\n",
    "                    break\n",
    "\n",
    "                else:\n",
    "                    print('No movement at this time; all clinics are busy.')   ###  THESE INSTANCES ARE IMPORTANT TO TRACK TO DETERMINE ANY HIRING NEEDS\n",
    "\n",
    "        else:\n",
    "            # If location is not yet flagged, flag the first threshold hit\n",
    "            if d[location]['num_techs'] == d[location]['needed_techs']:\n",
    "                d[location]['flag'] = 1\n",
    "  \n",
    "TecNav(new_patients_df)"
   ]
  },
  {
   "cell_type": "code",
   "execution_count": 147,
   "metadata": {},
   "outputs": [],
   "source": [
    "new_patients_df['current_num_techs'] = currentNumTechs"
   ]
  },
  {
   "cell_type": "code",
   "execution_count": 148,
   "metadata": {},
   "outputs": [
    {
     "data": {
      "text/plain": [
       "'2022-05-01'"
      ]
     },
     "execution_count": 148,
     "metadata": {},
     "output_type": "execute_result"
    }
   ],
   "source": [
    "new_patients_df['visit_date'] = new_patients_df['visit_date'].astype(str)\n",
    "new_patients_df.loc[4020227,'visit_date']"
   ]
  },
  {
   "cell_type": "code",
   "execution_count": 149,
   "metadata": {},
   "outputs": [
    {
     "data": {
      "text/html": [
       "<div>\n",
       "<style scoped>\n",
       "    .dataframe tbody tr th:only-of-type {\n",
       "        vertical-align: middle;\n",
       "    }\n",
       "\n",
       "    .dataframe tbody tr th {\n",
       "        vertical-align: top;\n",
       "    }\n",
       "\n",
       "    .dataframe thead th {\n",
       "        text-align: right;\n",
       "    }\n",
       "</style>\n",
       "<table border=\"1\" class=\"dataframe\">\n",
       "  <thead>\n",
       "    <tr style=\"text-align: right;\">\n",
       "      <th></th>\n",
       "      <th>checkin_time</th>\n",
       "      <th>current_num_techs</th>\n",
       "      <th>needed_num_techs</th>\n",
       "      <th>visit_date</th>\n",
       "      <th>visit_location</th>\n",
       "    </tr>\n",
       "    <tr>\n",
       "      <th>pt_id</th>\n",
       "      <th></th>\n",
       "      <th></th>\n",
       "      <th></th>\n",
       "      <th></th>\n",
       "      <th></th>\n",
       "    </tr>\n",
       "  </thead>\n",
       "  <tbody>\n",
       "    <tr>\n",
       "      <th>4020227</th>\n",
       "      <td>08:02:46</td>\n",
       "      <td>3</td>\n",
       "      <td>1</td>\n",
       "      <td>2022-05-01</td>\n",
       "      <td>rino</td>\n",
       "    </tr>\n",
       "    <tr>\n",
       "      <th>4020228</th>\n",
       "      <td>08:03:44</td>\n",
       "      <td>3</td>\n",
       "      <td>1</td>\n",
       "      <td>2022-05-01</td>\n",
       "      <td>rino</td>\n",
       "    </tr>\n",
       "    <tr>\n",
       "      <th>4020229</th>\n",
       "      <td>08:07:53</td>\n",
       "      <td>3</td>\n",
       "      <td>1</td>\n",
       "      <td>2022-05-01</td>\n",
       "      <td>rino</td>\n",
       "    </tr>\n",
       "    <tr>\n",
       "      <th>4020232</th>\n",
       "      <td>08:08:58</td>\n",
       "      <td>3</td>\n",
       "      <td>2</td>\n",
       "      <td>2022-05-01</td>\n",
       "      <td>rino</td>\n",
       "    </tr>\n",
       "    <tr>\n",
       "      <th>4020230</th>\n",
       "      <td>08:15:17</td>\n",
       "      <td>3</td>\n",
       "      <td>2</td>\n",
       "      <td>2022-05-01</td>\n",
       "      <td>rino</td>\n",
       "    </tr>\n",
       "    <tr>\n",
       "      <th>...</th>\n",
       "      <td>...</td>\n",
       "      <td>...</td>\n",
       "      <td>...</td>\n",
       "      <td>...</td>\n",
       "      <td>...</td>\n",
       "    </tr>\n",
       "    <tr>\n",
       "      <th>3023134</th>\n",
       "      <td>19:47:32</td>\n",
       "      <td>4</td>\n",
       "      <td>2</td>\n",
       "      <td>2022-05-31</td>\n",
       "      <td>wheatridge</td>\n",
       "    </tr>\n",
       "    <tr>\n",
       "      <th>2019594</th>\n",
       "      <td>19:48:01</td>\n",
       "      <td>3</td>\n",
       "      <td>3</td>\n",
       "      <td>2022-05-31</td>\n",
       "      <td>edgewater</td>\n",
       "    </tr>\n",
       "    <tr>\n",
       "      <th>5025139</th>\n",
       "      <td>19:50:05</td>\n",
       "      <td>3</td>\n",
       "      <td>1</td>\n",
       "      <td>2022-05-31</td>\n",
       "      <td>lakewood</td>\n",
       "    </tr>\n",
       "    <tr>\n",
       "      <th>4021961</th>\n",
       "      <td>19:53:55</td>\n",
       "      <td>4</td>\n",
       "      <td>4</td>\n",
       "      <td>2022-05-31</td>\n",
       "      <td>rino</td>\n",
       "    </tr>\n",
       "    <tr>\n",
       "      <th>2019597</th>\n",
       "      <td>19:59:55</td>\n",
       "      <td>3</td>\n",
       "      <td>3</td>\n",
       "      <td>2022-05-31</td>\n",
       "      <td>edgewater</td>\n",
       "    </tr>\n",
       "  </tbody>\n",
       "</table>\n",
       "<p>9287 rows × 5 columns</p>\n",
       "</div>"
      ],
      "text/plain": [
       "        checkin_time  current_num_techs  needed_num_techs  visit_date  \\\n",
       "pt_id                                                                   \n",
       "4020227     08:02:46                  3                 1  2022-05-01   \n",
       "4020228     08:03:44                  3                 1  2022-05-01   \n",
       "4020229     08:07:53                  3                 1  2022-05-01   \n",
       "4020232     08:08:58                  3                 2  2022-05-01   \n",
       "4020230     08:15:17                  3                 2  2022-05-01   \n",
       "...              ...                ...               ...         ...   \n",
       "3023134     19:47:32                  4                 2  2022-05-31   \n",
       "2019594     19:48:01                  3                 3  2022-05-31   \n",
       "5025139     19:50:05                  3                 1  2022-05-31   \n",
       "4021961     19:53:55                  4                 4  2022-05-31   \n",
       "2019597     19:59:55                  3                 3  2022-05-31   \n",
       "\n",
       "        visit_location  \n",
       "pt_id                   \n",
       "4020227           rino  \n",
       "4020228           rino  \n",
       "4020229           rino  \n",
       "4020232           rino  \n",
       "4020230           rino  \n",
       "...                ...  \n",
       "3023134     wheatridge  \n",
       "2019594      edgewater  \n",
       "5025139       lakewood  \n",
       "4021961           rino  \n",
       "2019597      edgewater  \n",
       "\n",
       "[9287 rows x 5 columns]"
      ]
     },
     "metadata": {},
     "output_type": "display_data"
    },
    {
     "data": {
      "application/vnd.plotly.v1+json": {
       "config": {
        "plotlyServerURL": "https://plot.ly"
       },
       "data": [
        {
         "marker": {
          "color": "blue"
         },
         "mode": "lines",
         "name": "Current Number of Techs @ Denver clinic",
         "opacity": 0.3,
         "type": "scatter",
         "x": [
          "08:18",
          "08:26",
          "08:45",
          "08:50",
          "09:00",
          "09:08",
          "09:16",
          "09:23",
          "09:25",
          "09:32",
          "09:35",
          "09:36",
          "09:54",
          "09:56",
          "10:13",
          "10:14",
          "10:19",
          "10:25",
          "11:05",
          "11:22",
          "11:32",
          "11:33",
          "11:35",
          "11:37",
          "11:46",
          "12:11",
          "12:17",
          "12:29",
          "12:39",
          "13:05",
          "13:16",
          "13:34",
          "13:53",
          "14:00",
          "14:01",
          "14:03",
          "14:03",
          "14:05",
          "14:13",
          "14:30",
          "14:36",
          "14:51",
          "14:53",
          "14:54",
          "14:59",
          "14:59",
          "15:05",
          "15:06",
          "15:07",
          "15:20",
          "15:27",
          "15:28",
          "15:28",
          "15:34",
          "15:35",
          "15:39",
          "15:40",
          "15:52",
          "15:53",
          "16:07",
          "16:10",
          "16:13",
          "16:13",
          "16:16",
          "16:18",
          "16:22",
          "16:26",
          "16:28",
          "16:31",
          "16:32",
          "16:35",
          "16:42",
          "16:57",
          "17:01",
          "17:17",
          "17:18",
          "17:33",
          "17:39",
          "17:42",
          "17:43",
          "17:59",
          "18:21",
          "18:29",
          "18:37"
         ],
         "y": [
          4,
          4,
          4,
          4,
          3,
          3,
          3,
          3,
          3,
          3,
          3,
          3,
          3,
          3,
          3,
          3,
          3,
          3,
          3,
          3,
          3,
          3,
          3,
          3,
          3,
          3,
          3,
          3,
          3,
          3,
          3,
          3,
          3,
          3,
          3,
          3,
          3,
          3,
          3,
          3,
          3,
          3,
          3,
          3,
          3,
          3,
          3,
          3,
          3,
          3,
          3,
          3,
          3,
          3,
          3,
          3,
          3,
          3,
          3,
          5,
          5,
          5,
          5,
          5,
          5,
          5,
          5,
          5,
          5,
          5,
          5,
          5,
          5,
          5,
          5,
          5,
          5,
          5,
          5,
          5,
          5,
          5,
          5,
          5
         ]
        },
        {
         "marker": {
          "color": "green"
         },
         "mode": "lines",
         "name": "Needed Number of Techs @ Denver clinic",
         "opacity": 0.3,
         "type": "scatter",
         "x": [
          "08:18",
          "08:26",
          "08:45",
          "08:50",
          "09:00",
          "09:08",
          "09:16",
          "09:23",
          "09:25",
          "09:32",
          "09:35",
          "09:36",
          "09:54",
          "09:56",
          "10:13",
          "10:14",
          "10:19",
          "10:25",
          "11:05",
          "11:22",
          "11:32",
          "11:33",
          "11:35",
          "11:37",
          "11:46",
          "12:11",
          "12:17",
          "12:29",
          "12:39",
          "13:05",
          "13:16",
          "13:34",
          "13:53",
          "14:00",
          "14:01",
          "14:03",
          "14:03",
          "14:05",
          "14:13",
          "14:30",
          "14:36",
          "14:51",
          "14:53",
          "14:54",
          "14:59",
          "14:59",
          "15:05",
          "15:06",
          "15:07",
          "15:20",
          "15:27",
          "15:28",
          "15:28",
          "15:34",
          "15:35",
          "15:39",
          "15:40",
          "15:52",
          "15:53",
          "16:07",
          "16:10",
          "16:13",
          "16:13",
          "16:16",
          "16:18",
          "16:22",
          "16:26",
          "16:28",
          "16:31",
          "16:32",
          "16:35",
          "16:42",
          "16:57",
          "17:01",
          "17:17",
          "17:18",
          "17:33",
          "17:39",
          "17:42",
          "17:43",
          "17:59",
          "18:21",
          "18:29",
          "18:37"
         ],
         "y": [
          1,
          1,
          1,
          2,
          1,
          2,
          2,
          2,
          2,
          3,
          3,
          3,
          2,
          2,
          2,
          2,
          2,
          3,
          2,
          1,
          2,
          2,
          2,
          3,
          2,
          1,
          1,
          1,
          2,
          2,
          2,
          2,
          1,
          1,
          2,
          2,
          2,
          3,
          3,
          3,
          3,
          2,
          2,
          3,
          3,
          3,
          3,
          4,
          4,
          4,
          3,
          4,
          4,
          4,
          4,
          4,
          4,
          4,
          5,
          5,
          4,
          4,
          5,
          5,
          5,
          5,
          4,
          4,
          5,
          5,
          5,
          5,
          4,
          4,
          2,
          3,
          3,
          3,
          3,
          3,
          3,
          2,
          2,
          2
         ]
        }
       ],
       "layout": {
        "height": 600,
        "legend": {
         "tracegroupgap": 250
        },
        "showlegend": true,
        "template": {
         "data": {
          "bar": [
           {
            "error_x": {
             "color": "#2a3f5f"
            },
            "error_y": {
             "color": "#2a3f5f"
            },
            "marker": {
             "line": {
              "color": "#E5ECF6",
              "width": 0.5
             },
             "pattern": {
              "fillmode": "overlay",
              "size": 10,
              "solidity": 0.2
             }
            },
            "type": "bar"
           }
          ],
          "barpolar": [
           {
            "marker": {
             "line": {
              "color": "#E5ECF6",
              "width": 0.5
             },
             "pattern": {
              "fillmode": "overlay",
              "size": 10,
              "solidity": 0.2
             }
            },
            "type": "barpolar"
           }
          ],
          "carpet": [
           {
            "aaxis": {
             "endlinecolor": "#2a3f5f",
             "gridcolor": "white",
             "linecolor": "white",
             "minorgridcolor": "white",
             "startlinecolor": "#2a3f5f"
            },
            "baxis": {
             "endlinecolor": "#2a3f5f",
             "gridcolor": "white",
             "linecolor": "white",
             "minorgridcolor": "white",
             "startlinecolor": "#2a3f5f"
            },
            "type": "carpet"
           }
          ],
          "choropleth": [
           {
            "colorbar": {
             "outlinewidth": 0,
             "ticks": ""
            },
            "type": "choropleth"
           }
          ],
          "contour": [
           {
            "colorbar": {
             "outlinewidth": 0,
             "ticks": ""
            },
            "colorscale": [
             [
              0,
              "#0d0887"
             ],
             [
              0.1111111111111111,
              "#46039f"
             ],
             [
              0.2222222222222222,
              "#7201a8"
             ],
             [
              0.3333333333333333,
              "#9c179e"
             ],
             [
              0.4444444444444444,
              "#bd3786"
             ],
             [
              0.5555555555555556,
              "#d8576b"
             ],
             [
              0.6666666666666666,
              "#ed7953"
             ],
             [
              0.7777777777777778,
              "#fb9f3a"
             ],
             [
              0.8888888888888888,
              "#fdca26"
             ],
             [
              1,
              "#f0f921"
             ]
            ],
            "type": "contour"
           }
          ],
          "contourcarpet": [
           {
            "colorbar": {
             "outlinewidth": 0,
             "ticks": ""
            },
            "type": "contourcarpet"
           }
          ],
          "heatmap": [
           {
            "colorbar": {
             "outlinewidth": 0,
             "ticks": ""
            },
            "colorscale": [
             [
              0,
              "#0d0887"
             ],
             [
              0.1111111111111111,
              "#46039f"
             ],
             [
              0.2222222222222222,
              "#7201a8"
             ],
             [
              0.3333333333333333,
              "#9c179e"
             ],
             [
              0.4444444444444444,
              "#bd3786"
             ],
             [
              0.5555555555555556,
              "#d8576b"
             ],
             [
              0.6666666666666666,
              "#ed7953"
             ],
             [
              0.7777777777777778,
              "#fb9f3a"
             ],
             [
              0.8888888888888888,
              "#fdca26"
             ],
             [
              1,
              "#f0f921"
             ]
            ],
            "type": "heatmap"
           }
          ],
          "heatmapgl": [
           {
            "colorbar": {
             "outlinewidth": 0,
             "ticks": ""
            },
            "colorscale": [
             [
              0,
              "#0d0887"
             ],
             [
              0.1111111111111111,
              "#46039f"
             ],
             [
              0.2222222222222222,
              "#7201a8"
             ],
             [
              0.3333333333333333,
              "#9c179e"
             ],
             [
              0.4444444444444444,
              "#bd3786"
             ],
             [
              0.5555555555555556,
              "#d8576b"
             ],
             [
              0.6666666666666666,
              "#ed7953"
             ],
             [
              0.7777777777777778,
              "#fb9f3a"
             ],
             [
              0.8888888888888888,
              "#fdca26"
             ],
             [
              1,
              "#f0f921"
             ]
            ],
            "type": "heatmapgl"
           }
          ],
          "histogram": [
           {
            "marker": {
             "pattern": {
              "fillmode": "overlay",
              "size": 10,
              "solidity": 0.2
             }
            },
            "type": "histogram"
           }
          ],
          "histogram2d": [
           {
            "colorbar": {
             "outlinewidth": 0,
             "ticks": ""
            },
            "colorscale": [
             [
              0,
              "#0d0887"
             ],
             [
              0.1111111111111111,
              "#46039f"
             ],
             [
              0.2222222222222222,
              "#7201a8"
             ],
             [
              0.3333333333333333,
              "#9c179e"
             ],
             [
              0.4444444444444444,
              "#bd3786"
             ],
             [
              0.5555555555555556,
              "#d8576b"
             ],
             [
              0.6666666666666666,
              "#ed7953"
             ],
             [
              0.7777777777777778,
              "#fb9f3a"
             ],
             [
              0.8888888888888888,
              "#fdca26"
             ],
             [
              1,
              "#f0f921"
             ]
            ],
            "type": "histogram2d"
           }
          ],
          "histogram2dcontour": [
           {
            "colorbar": {
             "outlinewidth": 0,
             "ticks": ""
            },
            "colorscale": [
             [
              0,
              "#0d0887"
             ],
             [
              0.1111111111111111,
              "#46039f"
             ],
             [
              0.2222222222222222,
              "#7201a8"
             ],
             [
              0.3333333333333333,
              "#9c179e"
             ],
             [
              0.4444444444444444,
              "#bd3786"
             ],
             [
              0.5555555555555556,
              "#d8576b"
             ],
             [
              0.6666666666666666,
              "#ed7953"
             ],
             [
              0.7777777777777778,
              "#fb9f3a"
             ],
             [
              0.8888888888888888,
              "#fdca26"
             ],
             [
              1,
              "#f0f921"
             ]
            ],
            "type": "histogram2dcontour"
           }
          ],
          "mesh3d": [
           {
            "colorbar": {
             "outlinewidth": 0,
             "ticks": ""
            },
            "type": "mesh3d"
           }
          ],
          "parcoords": [
           {
            "line": {
             "colorbar": {
              "outlinewidth": 0,
              "ticks": ""
             }
            },
            "type": "parcoords"
           }
          ],
          "pie": [
           {
            "automargin": true,
            "type": "pie"
           }
          ],
          "scatter": [
           {
            "marker": {
             "colorbar": {
              "outlinewidth": 0,
              "ticks": ""
             }
            },
            "type": "scatter"
           }
          ],
          "scatter3d": [
           {
            "line": {
             "colorbar": {
              "outlinewidth": 0,
              "ticks": ""
             }
            },
            "marker": {
             "colorbar": {
              "outlinewidth": 0,
              "ticks": ""
             }
            },
            "type": "scatter3d"
           }
          ],
          "scattercarpet": [
           {
            "marker": {
             "colorbar": {
              "outlinewidth": 0,
              "ticks": ""
             }
            },
            "type": "scattercarpet"
           }
          ],
          "scattergeo": [
           {
            "marker": {
             "colorbar": {
              "outlinewidth": 0,
              "ticks": ""
             }
            },
            "type": "scattergeo"
           }
          ],
          "scattergl": [
           {
            "marker": {
             "colorbar": {
              "outlinewidth": 0,
              "ticks": ""
             }
            },
            "type": "scattergl"
           }
          ],
          "scattermapbox": [
           {
            "marker": {
             "colorbar": {
              "outlinewidth": 0,
              "ticks": ""
             }
            },
            "type": "scattermapbox"
           }
          ],
          "scatterpolar": [
           {
            "marker": {
             "colorbar": {
              "outlinewidth": 0,
              "ticks": ""
             }
            },
            "type": "scatterpolar"
           }
          ],
          "scatterpolargl": [
           {
            "marker": {
             "colorbar": {
              "outlinewidth": 0,
              "ticks": ""
             }
            },
            "type": "scatterpolargl"
           }
          ],
          "scatterternary": [
           {
            "marker": {
             "colorbar": {
              "outlinewidth": 0,
              "ticks": ""
             }
            },
            "type": "scatterternary"
           }
          ],
          "surface": [
           {
            "colorbar": {
             "outlinewidth": 0,
             "ticks": ""
            },
            "colorscale": [
             [
              0,
              "#0d0887"
             ],
             [
              0.1111111111111111,
              "#46039f"
             ],
             [
              0.2222222222222222,
              "#7201a8"
             ],
             [
              0.3333333333333333,
              "#9c179e"
             ],
             [
              0.4444444444444444,
              "#bd3786"
             ],
             [
              0.5555555555555556,
              "#d8576b"
             ],
             [
              0.6666666666666666,
              "#ed7953"
             ],
             [
              0.7777777777777778,
              "#fb9f3a"
             ],
             [
              0.8888888888888888,
              "#fdca26"
             ],
             [
              1,
              "#f0f921"
             ]
            ],
            "type": "surface"
           }
          ],
          "table": [
           {
            "cells": {
             "fill": {
              "color": "#EBF0F8"
             },
             "line": {
              "color": "white"
             }
            },
            "header": {
             "fill": {
              "color": "#C8D4E3"
             },
             "line": {
              "color": "white"
             }
            },
            "type": "table"
           }
          ]
         },
         "layout": {
          "annotationdefaults": {
           "arrowcolor": "#2a3f5f",
           "arrowhead": 0,
           "arrowwidth": 1
          },
          "autotypenumbers": "strict",
          "coloraxis": {
           "colorbar": {
            "outlinewidth": 0,
            "ticks": ""
           }
          },
          "colorscale": {
           "diverging": [
            [
             0,
             "#8e0152"
            ],
            [
             0.1,
             "#c51b7d"
            ],
            [
             0.2,
             "#de77ae"
            ],
            [
             0.3,
             "#f1b6da"
            ],
            [
             0.4,
             "#fde0ef"
            ],
            [
             0.5,
             "#f7f7f7"
            ],
            [
             0.6,
             "#e6f5d0"
            ],
            [
             0.7,
             "#b8e186"
            ],
            [
             0.8,
             "#7fbc41"
            ],
            [
             0.9,
             "#4d9221"
            ],
            [
             1,
             "#276419"
            ]
           ],
           "sequential": [
            [
             0,
             "#0d0887"
            ],
            [
             0.1111111111111111,
             "#46039f"
            ],
            [
             0.2222222222222222,
             "#7201a8"
            ],
            [
             0.3333333333333333,
             "#9c179e"
            ],
            [
             0.4444444444444444,
             "#bd3786"
            ],
            [
             0.5555555555555556,
             "#d8576b"
            ],
            [
             0.6666666666666666,
             "#ed7953"
            ],
            [
             0.7777777777777778,
             "#fb9f3a"
            ],
            [
             0.8888888888888888,
             "#fdca26"
            ],
            [
             1,
             "#f0f921"
            ]
           ],
           "sequentialminus": [
            [
             0,
             "#0d0887"
            ],
            [
             0.1111111111111111,
             "#46039f"
            ],
            [
             0.2222222222222222,
             "#7201a8"
            ],
            [
             0.3333333333333333,
             "#9c179e"
            ],
            [
             0.4444444444444444,
             "#bd3786"
            ],
            [
             0.5555555555555556,
             "#d8576b"
            ],
            [
             0.6666666666666666,
             "#ed7953"
            ],
            [
             0.7777777777777778,
             "#fb9f3a"
            ],
            [
             0.8888888888888888,
             "#fdca26"
            ],
            [
             1,
             "#f0f921"
            ]
           ]
          },
          "colorway": [
           "#636efa",
           "#EF553B",
           "#00cc96",
           "#ab63fa",
           "#FFA15A",
           "#19d3f3",
           "#FF6692",
           "#B6E880",
           "#FF97FF",
           "#FECB52"
          ],
          "font": {
           "color": "#2a3f5f"
          },
          "geo": {
           "bgcolor": "white",
           "lakecolor": "white",
           "landcolor": "#E5ECF6",
           "showlakes": true,
           "showland": true,
           "subunitcolor": "white"
          },
          "hoverlabel": {
           "align": "left"
          },
          "hovermode": "closest",
          "mapbox": {
           "style": "light"
          },
          "paper_bgcolor": "white",
          "plot_bgcolor": "#E5ECF6",
          "polar": {
           "angularaxis": {
            "gridcolor": "white",
            "linecolor": "white",
            "ticks": ""
           },
           "bgcolor": "#E5ECF6",
           "radialaxis": {
            "gridcolor": "white",
            "linecolor": "white",
            "ticks": ""
           }
          },
          "scene": {
           "xaxis": {
            "backgroundcolor": "#E5ECF6",
            "gridcolor": "white",
            "gridwidth": 2,
            "linecolor": "white",
            "showbackground": true,
            "ticks": "",
            "zerolinecolor": "white"
           },
           "yaxis": {
            "backgroundcolor": "#E5ECF6",
            "gridcolor": "white",
            "gridwidth": 2,
            "linecolor": "white",
            "showbackground": true,
            "ticks": "",
            "zerolinecolor": "white"
           },
           "zaxis": {
            "backgroundcolor": "#E5ECF6",
            "gridcolor": "white",
            "gridwidth": 2,
            "linecolor": "white",
            "showbackground": true,
            "ticks": "",
            "zerolinecolor": "white"
           }
          },
          "shapedefaults": {
           "line": {
            "color": "#2a3f5f"
           }
          },
          "ternary": {
           "aaxis": {
            "gridcolor": "white",
            "linecolor": "white",
            "ticks": ""
           },
           "baxis": {
            "gridcolor": "white",
            "linecolor": "white",
            "ticks": ""
           },
           "bgcolor": "#E5ECF6",
           "caxis": {
            "gridcolor": "white",
            "linecolor": "white",
            "ticks": ""
           }
          },
          "title": {
           "x": 0.05
          },
          "xaxis": {
           "automargin": true,
           "gridcolor": "white",
           "linecolor": "white",
           "ticks": "",
           "title": {
            "standoff": 15
           },
           "zerolinecolor": "white",
           "zerolinewidth": 2
          },
          "yaxis": {
           "automargin": true,
           "gridcolor": "white",
           "linecolor": "white",
           "ticks": "",
           "title": {
            "standoff": 15
           },
           "zerolinecolor": "white",
           "zerolinewidth": 2
          }
         }
        },
        "width": 1200
       }
      }
     },
     "metadata": {},
     "output_type": "display_data"
    }
   ],
   "source": [
    "fig = go.Figure()\n",
    "df = new_patients_df[['checkin_time', 'current_num_techs', 'needed_num_techs', 'visit_date', 'visit_location']].copy()\n",
    "display(df)\n",
    "df['checkin_time'] = df.checkin_time.astype('str').apply(lambda x: x[:-3])\n",
    "\n",
    "# Create subset data for desired date and the two locations to compare\n",
    "df = df[(df.visit_date == '2022-05-01') & (df.visit_location == 'denver')]\n",
    "\n",
    "# Construct lineplot for tech-count by location & time\n",
    "line1 = go.Scatter(\n",
    "    x=df['checkin_time'], y=df['current_num_techs'], \n",
    "    name=f'Current Number of Techs @ Denver clinic', marker_color='blue', mode='lines'\n",
    ")\n",
    "line2 = go.Scatter(\n",
    "    x=df['checkin_time'], y=df['needed_num_techs'], \n",
    "    name=f'Needed Number of Techs @ Denver clinic', marker_color='green', mode='lines'\n",
    ")\n",
    "\n",
    "# Add subplots to figure object\n",
    "fig.add_trace(line1)\n",
    "fig.add_trace(line2)\n",
    "# Output figure with custom modifications\n",
    "fig.update_traces(opacity=0.3)\n",
    "fig.update_layout(height=600, width=1200, showlegend=True, legend_tracegroupgap=250)\n",
    "fig.show()"
   ]
  },
  {
   "cell_type": "code",
   "execution_count": 150,
   "metadata": {},
   "outputs": [
    {
     "data": {
      "application/vnd.plotly.v1+json": {
       "config": {
        "plotlyServerURL": "https://plot.ly"
       },
       "data": [
        {
         "legendgroup": "1",
         "marker": {
          "color": "red"
         },
         "mode": "markers",
         "name": "Current Number of Techs @ Rino clinic",
         "opacity": 0.3,
         "type": "scatter",
         "x": [],
         "xaxis": "x",
         "y": [],
         "yaxis": "y"
        },
        {
         "legendgroup": "1",
         "marker": {
          "color": "green"
         },
         "mode": "lines",
         "name": "Needed Number of Techs @ Rino clinic",
         "opacity": 0.3,
         "type": "scatter",
         "x": [],
         "xaxis": "x",
         "y": [],
         "yaxis": "y"
        },
        {
         "legendgroup": "2",
         "marker": {
          "color": "red"
         },
         "mode": "markers",
         "name": "Current Number of Techs @ Denver clinic",
         "opacity": 0.3,
         "type": "scatter",
         "x": [],
         "xaxis": "x2",
         "y": [],
         "yaxis": "y2"
        },
        {
         "legendgroup": "2",
         "marker": {
          "color": "green"
         },
         "mode": "lines",
         "name": "Needed Number of Techs @ Denver clinic",
         "opacity": 0.3,
         "type": "scatter",
         "x": [],
         "xaxis": "x2",
         "y": [],
         "yaxis": "y2"
        },
        {
         "legendgroup": "3",
         "marker": {
          "color": "red"
         },
         "mode": "markers",
         "name": "Current Number of Techs @ Edgewater clinic",
         "opacity": 0.3,
         "type": "scatter",
         "x": [],
         "xaxis": "x3",
         "y": [],
         "yaxis": "y3"
        },
        {
         "legendgroup": "3",
         "marker": {
          "color": "green"
         },
         "mode": "lines",
         "name": "Needed Number of Techs @ Edgewater clinic",
         "opacity": 0.3,
         "type": "scatter",
         "x": [],
         "xaxis": "x3",
         "y": [],
         "yaxis": "y3"
        },
        {
         "legendgroup": "4",
         "marker": {
          "color": "red"
         },
         "mode": "markers",
         "name": "Current Number of Techs @ Wheatridge clinic",
         "opacity": 0.3,
         "type": "scatter",
         "x": [],
         "xaxis": "x4",
         "y": [],
         "yaxis": "y4"
        },
        {
         "legendgroup": "4",
         "marker": {
          "color": "green"
         },
         "mode": "lines",
         "name": "Needed Number of Techs @ Wheatridge clinic",
         "opacity": 0.3,
         "type": "scatter",
         "x": [],
         "xaxis": "x4",
         "y": [],
         "yaxis": "y4"
        },
        {
         "legendgroup": "5",
         "marker": {
          "color": "red"
         },
         "mode": "markers",
         "name": "Current Number of Techs @ Lakewood clinic",
         "opacity": 0.3,
         "type": "scatter",
         "x": [],
         "xaxis": "x5",
         "y": [],
         "yaxis": "y5"
        },
        {
         "legendgroup": "5",
         "marker": {
          "color": "green"
         },
         "mode": "lines",
         "name": "Needed Number of Techs @ Lakewood clinic",
         "opacity": 0.3,
         "type": "scatter",
         "x": [],
         "xaxis": "x5",
         "y": [],
         "yaxis": "y5"
        }
       ],
       "layout": {
        "annotations": [
         {
          "font": {
           "size": 16
          },
          "showarrow": false,
          "text": "Denver",
          "x": 0.5,
          "xanchor": "center",
          "xref": "paper",
          "y": 1,
          "yanchor": "bottom",
          "yref": "paper"
         },
         {
          "font": {
           "size": 16
          },
          "showarrow": false,
          "text": "Edgewater",
          "x": 0.5,
          "xanchor": "center",
          "xref": "paper",
          "y": 0.78,
          "yanchor": "bottom",
          "yref": "paper"
         },
         {
          "font": {
           "size": 16
          },
          "showarrow": false,
          "text": "Wheatridge",
          "x": 0.5,
          "xanchor": "center",
          "xref": "paper",
          "y": 0.56,
          "yanchor": "bottom",
          "yref": "paper"
         },
         {
          "font": {
           "size": 16
          },
          "showarrow": false,
          "text": "RINO",
          "x": 0.5,
          "xanchor": "center",
          "xref": "paper",
          "y": 0.33999999999999997,
          "yanchor": "bottom",
          "yref": "paper"
         },
         {
          "font": {
           "size": 16
          },
          "showarrow": false,
          "text": "Lakewood",
          "x": 0.5,
          "xanchor": "center",
          "xref": "paper",
          "y": 0.12,
          "yanchor": "bottom",
          "yref": "paper"
         }
        ],
        "height": 1500,
        "legend": {
         "tracegroupgap": 250
        },
        "showlegend": true,
        "template": {
         "data": {
          "bar": [
           {
            "error_x": {
             "color": "#2a3f5f"
            },
            "error_y": {
             "color": "#2a3f5f"
            },
            "marker": {
             "line": {
              "color": "#E5ECF6",
              "width": 0.5
             },
             "pattern": {
              "fillmode": "overlay",
              "size": 10,
              "solidity": 0.2
             }
            },
            "type": "bar"
           }
          ],
          "barpolar": [
           {
            "marker": {
             "line": {
              "color": "#E5ECF6",
              "width": 0.5
             },
             "pattern": {
              "fillmode": "overlay",
              "size": 10,
              "solidity": 0.2
             }
            },
            "type": "barpolar"
           }
          ],
          "carpet": [
           {
            "aaxis": {
             "endlinecolor": "#2a3f5f",
             "gridcolor": "white",
             "linecolor": "white",
             "minorgridcolor": "white",
             "startlinecolor": "#2a3f5f"
            },
            "baxis": {
             "endlinecolor": "#2a3f5f",
             "gridcolor": "white",
             "linecolor": "white",
             "minorgridcolor": "white",
             "startlinecolor": "#2a3f5f"
            },
            "type": "carpet"
           }
          ],
          "choropleth": [
           {
            "colorbar": {
             "outlinewidth": 0,
             "ticks": ""
            },
            "type": "choropleth"
           }
          ],
          "contour": [
           {
            "colorbar": {
             "outlinewidth": 0,
             "ticks": ""
            },
            "colorscale": [
             [
              0,
              "#0d0887"
             ],
             [
              0.1111111111111111,
              "#46039f"
             ],
             [
              0.2222222222222222,
              "#7201a8"
             ],
             [
              0.3333333333333333,
              "#9c179e"
             ],
             [
              0.4444444444444444,
              "#bd3786"
             ],
             [
              0.5555555555555556,
              "#d8576b"
             ],
             [
              0.6666666666666666,
              "#ed7953"
             ],
             [
              0.7777777777777778,
              "#fb9f3a"
             ],
             [
              0.8888888888888888,
              "#fdca26"
             ],
             [
              1,
              "#f0f921"
             ]
            ],
            "type": "contour"
           }
          ],
          "contourcarpet": [
           {
            "colorbar": {
             "outlinewidth": 0,
             "ticks": ""
            },
            "type": "contourcarpet"
           }
          ],
          "heatmap": [
           {
            "colorbar": {
             "outlinewidth": 0,
             "ticks": ""
            },
            "colorscale": [
             [
              0,
              "#0d0887"
             ],
             [
              0.1111111111111111,
              "#46039f"
             ],
             [
              0.2222222222222222,
              "#7201a8"
             ],
             [
              0.3333333333333333,
              "#9c179e"
             ],
             [
              0.4444444444444444,
              "#bd3786"
             ],
             [
              0.5555555555555556,
              "#d8576b"
             ],
             [
              0.6666666666666666,
              "#ed7953"
             ],
             [
              0.7777777777777778,
              "#fb9f3a"
             ],
             [
              0.8888888888888888,
              "#fdca26"
             ],
             [
              1,
              "#f0f921"
             ]
            ],
            "type": "heatmap"
           }
          ],
          "heatmapgl": [
           {
            "colorbar": {
             "outlinewidth": 0,
             "ticks": ""
            },
            "colorscale": [
             [
              0,
              "#0d0887"
             ],
             [
              0.1111111111111111,
              "#46039f"
             ],
             [
              0.2222222222222222,
              "#7201a8"
             ],
             [
              0.3333333333333333,
              "#9c179e"
             ],
             [
              0.4444444444444444,
              "#bd3786"
             ],
             [
              0.5555555555555556,
              "#d8576b"
             ],
             [
              0.6666666666666666,
              "#ed7953"
             ],
             [
              0.7777777777777778,
              "#fb9f3a"
             ],
             [
              0.8888888888888888,
              "#fdca26"
             ],
             [
              1,
              "#f0f921"
             ]
            ],
            "type": "heatmapgl"
           }
          ],
          "histogram": [
           {
            "marker": {
             "pattern": {
              "fillmode": "overlay",
              "size": 10,
              "solidity": 0.2
             }
            },
            "type": "histogram"
           }
          ],
          "histogram2d": [
           {
            "colorbar": {
             "outlinewidth": 0,
             "ticks": ""
            },
            "colorscale": [
             [
              0,
              "#0d0887"
             ],
             [
              0.1111111111111111,
              "#46039f"
             ],
             [
              0.2222222222222222,
              "#7201a8"
             ],
             [
              0.3333333333333333,
              "#9c179e"
             ],
             [
              0.4444444444444444,
              "#bd3786"
             ],
             [
              0.5555555555555556,
              "#d8576b"
             ],
             [
              0.6666666666666666,
              "#ed7953"
             ],
             [
              0.7777777777777778,
              "#fb9f3a"
             ],
             [
              0.8888888888888888,
              "#fdca26"
             ],
             [
              1,
              "#f0f921"
             ]
            ],
            "type": "histogram2d"
           }
          ],
          "histogram2dcontour": [
           {
            "colorbar": {
             "outlinewidth": 0,
             "ticks": ""
            },
            "colorscale": [
             [
              0,
              "#0d0887"
             ],
             [
              0.1111111111111111,
              "#46039f"
             ],
             [
              0.2222222222222222,
              "#7201a8"
             ],
             [
              0.3333333333333333,
              "#9c179e"
             ],
             [
              0.4444444444444444,
              "#bd3786"
             ],
             [
              0.5555555555555556,
              "#d8576b"
             ],
             [
              0.6666666666666666,
              "#ed7953"
             ],
             [
              0.7777777777777778,
              "#fb9f3a"
             ],
             [
              0.8888888888888888,
              "#fdca26"
             ],
             [
              1,
              "#f0f921"
             ]
            ],
            "type": "histogram2dcontour"
           }
          ],
          "mesh3d": [
           {
            "colorbar": {
             "outlinewidth": 0,
             "ticks": ""
            },
            "type": "mesh3d"
           }
          ],
          "parcoords": [
           {
            "line": {
             "colorbar": {
              "outlinewidth": 0,
              "ticks": ""
             }
            },
            "type": "parcoords"
           }
          ],
          "pie": [
           {
            "automargin": true,
            "type": "pie"
           }
          ],
          "scatter": [
           {
            "marker": {
             "colorbar": {
              "outlinewidth": 0,
              "ticks": ""
             }
            },
            "type": "scatter"
           }
          ],
          "scatter3d": [
           {
            "line": {
             "colorbar": {
              "outlinewidth": 0,
              "ticks": ""
             }
            },
            "marker": {
             "colorbar": {
              "outlinewidth": 0,
              "ticks": ""
             }
            },
            "type": "scatter3d"
           }
          ],
          "scattercarpet": [
           {
            "marker": {
             "colorbar": {
              "outlinewidth": 0,
              "ticks": ""
             }
            },
            "type": "scattercarpet"
           }
          ],
          "scattergeo": [
           {
            "marker": {
             "colorbar": {
              "outlinewidth": 0,
              "ticks": ""
             }
            },
            "type": "scattergeo"
           }
          ],
          "scattergl": [
           {
            "marker": {
             "colorbar": {
              "outlinewidth": 0,
              "ticks": ""
             }
            },
            "type": "scattergl"
           }
          ],
          "scattermapbox": [
           {
            "marker": {
             "colorbar": {
              "outlinewidth": 0,
              "ticks": ""
             }
            },
            "type": "scattermapbox"
           }
          ],
          "scatterpolar": [
           {
            "marker": {
             "colorbar": {
              "outlinewidth": 0,
              "ticks": ""
             }
            },
            "type": "scatterpolar"
           }
          ],
          "scatterpolargl": [
           {
            "marker": {
             "colorbar": {
              "outlinewidth": 0,
              "ticks": ""
             }
            },
            "type": "scatterpolargl"
           }
          ],
          "scatterternary": [
           {
            "marker": {
             "colorbar": {
              "outlinewidth": 0,
              "ticks": ""
             }
            },
            "type": "scatterternary"
           }
          ],
          "surface": [
           {
            "colorbar": {
             "outlinewidth": 0,
             "ticks": ""
            },
            "colorscale": [
             [
              0,
              "#0d0887"
             ],
             [
              0.1111111111111111,
              "#46039f"
             ],
             [
              0.2222222222222222,
              "#7201a8"
             ],
             [
              0.3333333333333333,
              "#9c179e"
             ],
             [
              0.4444444444444444,
              "#bd3786"
             ],
             [
              0.5555555555555556,
              "#d8576b"
             ],
             [
              0.6666666666666666,
              "#ed7953"
             ],
             [
              0.7777777777777778,
              "#fb9f3a"
             ],
             [
              0.8888888888888888,
              "#fdca26"
             ],
             [
              1,
              "#f0f921"
             ]
            ],
            "type": "surface"
           }
          ],
          "table": [
           {
            "cells": {
             "fill": {
              "color": "#EBF0F8"
             },
             "line": {
              "color": "white"
             }
            },
            "header": {
             "fill": {
              "color": "#C8D4E3"
             },
             "line": {
              "color": "white"
             }
            },
            "type": "table"
           }
          ]
         },
         "layout": {
          "annotationdefaults": {
           "arrowcolor": "#2a3f5f",
           "arrowhead": 0,
           "arrowwidth": 1
          },
          "autotypenumbers": "strict",
          "coloraxis": {
           "colorbar": {
            "outlinewidth": 0,
            "ticks": ""
           }
          },
          "colorscale": {
           "diverging": [
            [
             0,
             "#8e0152"
            ],
            [
             0.1,
             "#c51b7d"
            ],
            [
             0.2,
             "#de77ae"
            ],
            [
             0.3,
             "#f1b6da"
            ],
            [
             0.4,
             "#fde0ef"
            ],
            [
             0.5,
             "#f7f7f7"
            ],
            [
             0.6,
             "#e6f5d0"
            ],
            [
             0.7,
             "#b8e186"
            ],
            [
             0.8,
             "#7fbc41"
            ],
            [
             0.9,
             "#4d9221"
            ],
            [
             1,
             "#276419"
            ]
           ],
           "sequential": [
            [
             0,
             "#0d0887"
            ],
            [
             0.1111111111111111,
             "#46039f"
            ],
            [
             0.2222222222222222,
             "#7201a8"
            ],
            [
             0.3333333333333333,
             "#9c179e"
            ],
            [
             0.4444444444444444,
             "#bd3786"
            ],
            [
             0.5555555555555556,
             "#d8576b"
            ],
            [
             0.6666666666666666,
             "#ed7953"
            ],
            [
             0.7777777777777778,
             "#fb9f3a"
            ],
            [
             0.8888888888888888,
             "#fdca26"
            ],
            [
             1,
             "#f0f921"
            ]
           ],
           "sequentialminus": [
            [
             0,
             "#0d0887"
            ],
            [
             0.1111111111111111,
             "#46039f"
            ],
            [
             0.2222222222222222,
             "#7201a8"
            ],
            [
             0.3333333333333333,
             "#9c179e"
            ],
            [
             0.4444444444444444,
             "#bd3786"
            ],
            [
             0.5555555555555556,
             "#d8576b"
            ],
            [
             0.6666666666666666,
             "#ed7953"
            ],
            [
             0.7777777777777778,
             "#fb9f3a"
            ],
            [
             0.8888888888888888,
             "#fdca26"
            ],
            [
             1,
             "#f0f921"
            ]
           ]
          },
          "colorway": [
           "#636efa",
           "#EF553B",
           "#00cc96",
           "#ab63fa",
           "#FFA15A",
           "#19d3f3",
           "#FF6692",
           "#B6E880",
           "#FF97FF",
           "#FECB52"
          ],
          "font": {
           "color": "#2a3f5f"
          },
          "geo": {
           "bgcolor": "white",
           "lakecolor": "white",
           "landcolor": "#E5ECF6",
           "showlakes": true,
           "showland": true,
           "subunitcolor": "white"
          },
          "hoverlabel": {
           "align": "left"
          },
          "hovermode": "closest",
          "mapbox": {
           "style": "light"
          },
          "paper_bgcolor": "white",
          "plot_bgcolor": "#E5ECF6",
          "polar": {
           "angularaxis": {
            "gridcolor": "white",
            "linecolor": "white",
            "ticks": ""
           },
           "bgcolor": "#E5ECF6",
           "radialaxis": {
            "gridcolor": "white",
            "linecolor": "white",
            "ticks": ""
           }
          },
          "scene": {
           "xaxis": {
            "backgroundcolor": "#E5ECF6",
            "gridcolor": "white",
            "gridwidth": 2,
            "linecolor": "white",
            "showbackground": true,
            "ticks": "",
            "zerolinecolor": "white"
           },
           "yaxis": {
            "backgroundcolor": "#E5ECF6",
            "gridcolor": "white",
            "gridwidth": 2,
            "linecolor": "white",
            "showbackground": true,
            "ticks": "",
            "zerolinecolor": "white"
           },
           "zaxis": {
            "backgroundcolor": "#E5ECF6",
            "gridcolor": "white",
            "gridwidth": 2,
            "linecolor": "white",
            "showbackground": true,
            "ticks": "",
            "zerolinecolor": "white"
           }
          },
          "shapedefaults": {
           "line": {
            "color": "#2a3f5f"
           }
          },
          "ternary": {
           "aaxis": {
            "gridcolor": "white",
            "linecolor": "white",
            "ticks": ""
           },
           "baxis": {
            "gridcolor": "white",
            "linecolor": "white",
            "ticks": ""
           },
           "bgcolor": "#E5ECF6",
           "caxis": {
            "gridcolor": "white",
            "linecolor": "white",
            "ticks": ""
           }
          },
          "title": {
           "x": 0.05
          },
          "xaxis": {
           "automargin": true,
           "gridcolor": "white",
           "linecolor": "white",
           "ticks": "",
           "title": {
            "standoff": 15
           },
           "zerolinecolor": "white",
           "zerolinewidth": 2
          },
          "yaxis": {
           "automargin": true,
           "gridcolor": "white",
           "linecolor": "white",
           "ticks": "",
           "title": {
            "standoff": 15
           },
           "zerolinecolor": "white",
           "zerolinewidth": 2
          }
         }
        },
        "width": 1200,
        "xaxis": {
         "anchor": "y",
         "domain": [
          0,
          1
         ]
        },
        "xaxis2": {
         "anchor": "y2",
         "domain": [
          0,
          1
         ]
        },
        "xaxis3": {
         "anchor": "y3",
         "domain": [
          0,
          1
         ]
        },
        "xaxis4": {
         "anchor": "y4",
         "domain": [
          0,
          1
         ]
        },
        "xaxis5": {
         "anchor": "y5",
         "domain": [
          0,
          1
         ]
        },
        "yaxis": {
         "anchor": "x",
         "domain": [
          0.88,
          1
         ]
        },
        "yaxis2": {
         "anchor": "x2",
         "domain": [
          0.66,
          0.78
         ]
        },
        "yaxis3": {
         "anchor": "x3",
         "domain": [
          0.44,
          0.56
         ]
        },
        "yaxis4": {
         "anchor": "x4",
         "domain": [
          0.22,
          0.33999999999999997
         ]
        },
        "yaxis5": {
         "anchor": "x5",
         "domain": [
          0,
          0.12
         ]
        }
       }
      }
     },
     "metadata": {},
     "output_type": "display_data"
    }
   ],
   "source": [
    "locations = new_patients_df.visit_location.unique().tolist()\n",
    "\n",
    "# fig = go.Figure()\n",
    "    \n",
    "fig = make_subplots(\n",
    "rows=5, cols=1, \n",
    "specs=[[{'type':'xy'}], [{'type':'xy'}], [{'type':'xy'}], [{'type':'xy'}], [{'type':'xy'}]], \n",
    "subplot_titles=[\"Denver\", \"Edgewater\", \"Wheatridge\", \"RINO\", \"Lakewood\"]\n",
    ")\n",
    "\n",
    "# Plot for each location\n",
    "for i in range(5):\n",
    "    \n",
    "    location = locations[i]\n",
    "    \n",
    "    # Convert specific times to grouped versions\n",
    "    df = new_patients_df.copy()\n",
    "    df['checkin_time'] = df.checkin_time.astype('str').apply(lambda x: x[:-3])\n",
    "\n",
    "    # Create subset data for desired date and the two locations to compare\n",
    "    df = df[(df.visit_date == '2021-05-01') & (df.visit_location == location)]\n",
    "\n",
    "    # Construct lineplot for tech-count by location & time\n",
    "    line1 = go.Scatter(\n",
    "        x=df['checkin_time'], y=df['current_num_techs'], \n",
    "        name=f'Current Number of Techs @ {location.capitalize()} clinic', marker_color='red', legendgroup=i+1, mode='markers'\n",
    "    )\n",
    "    line2 = go.Scatter(\n",
    "        x=df['checkin_time'], y=df['needed_num_techs'], \n",
    "        name=f'Needed Number of Techs @ {location.capitalize()} clinic', marker_color='green', legendgroup=i+1, mode='lines'\n",
    "    )\n",
    "\n",
    "    # Add subplots to figure object\n",
    "    fig.add_trace(line1, row=i+1, col=1)\n",
    "    fig.add_trace(line2, row=i+1, col=1)\n",
    "\n",
    "# Output figure with custom modifications\n",
    "fig.update_traces(opacity=0.3)\n",
    "fig.update_layout(height=1500, width=1200, showlegend=True, legend_tracegroupgap=250)\n",
    "fig.show()"
   ]
  },
  {
   "cell_type": "code",
   "execution_count": 151,
   "metadata": {},
   "outputs": [
    {
     "data": {
      "application/vnd.jupyter.widget-view+json": {
       "model_id": "0c6baab7c08f478c96ca8edaf282498d",
       "version_major": 2,
       "version_minor": 0
      },
      "text/plain": [
       "interactive(children=(Dropdown(description='date', options=('2022-05-01', '2022-05-02', '2022-05-03', '2022-05…"
      ]
     },
     "metadata": {},
     "output_type": "display_data"
    }
   ],
   "source": [
    "# Create iterable objects that are desired for toggle menus\n",
    "locations = new_patients_df.visit_location.unique().tolist()\n",
    "dates = new_patients_df.visit_date.unique().tolist()\n",
    "# fig = go.FigureWidget()\n",
    "\n",
    "@interact(date=dates)\n",
    "def generate_staff_count_visual(date=dates[0]):\n",
    "    \"\"\"Produces rolling staff-count needed that can be toggled through for specific locations & dates.\"\"\"\n",
    "    \n",
    "    fig = go.FigureWidget()\n",
    "    \n",
    "    fig = make_subplots(\n",
    "    rows=5, cols=1, \n",
    "    specs=[[{'type':'xy'}], [{'type':'xy'}], [{'type':'xy'}], [{'type':'xy'}], [{'type':'xy'}]], \n",
    "    subplot_titles=[\"Denver\", \"Edgewater\", \"Wheatridge\", \"RINO\", \"Lakewood\"]\n",
    "    )\n",
    "    \n",
    "    # Plot for each location\n",
    "    for i in range(5):\n",
    "        \n",
    "        location = locations[i]\n",
    "        \n",
    "        # Convert specific times to grouped versions\n",
    "        df = new_patients_df.copy()\n",
    "        df['checkin_time'] = df.checkin_time.astype('str').apply(lambda x: x[:-3])\n",
    "\n",
    "        # Create subset data for desired date and the two locations to compare\n",
    "        df = df[(df.visit_date == date) & (df.visit_location == location)]\n",
    "\n",
    "        # Construct lineplot for tech-count by location & time\n",
    "        line1 = go.Scatter(\n",
    "            x=df['checkin_time'], y=df['current_num_techs'], \n",
    "            name=f'Current Number of Techs @ {location.capitalize()} clinic', marker_color='red', legendgroup=i+1, mode='markers'\n",
    "        )\n",
    "        line2 = go.Scatter(\n",
    "            x=df['checkin_time'], y=df['needed_num_techs'], \n",
    "            name=f'Needed Number of Techs @ {location.capitalize()} clinic', marker_color='green', legendgroup=i+1, mode='lines'\n",
    "        )\n",
    "\n",
    "        # Add subplots to figure object\n",
    "        fig.add_trace(line1, row=i+1, col=1)\n",
    "        fig.add_trace(line2, row=i+1, col=1)\n",
    "\n",
    "    # Output figure with custom modifications\n",
    "    fig.update_traces(opacity=0.3)\n",
    "    fig.update_layout(height=1500, width=1200, showlegend=True, legend_tracegroupgap=250)\n",
    "    fig.show()"
   ]
  },
  {
   "cell_type": "code",
   "execution_count": 152,
   "metadata": {},
   "outputs": [
    {
     "name": "stdout",
     "output_type": "stream",
     "text": [
      "Number of movements total (May 2022): 321\n",
      "1581\n"
     ]
    },
    {
     "data": {
      "text/html": [
       "<div>\n",
       "<style scoped>\n",
       "    .dataframe tbody tr th:only-of-type {\n",
       "        vertical-align: middle;\n",
       "    }\n",
       "\n",
       "    .dataframe tbody tr th {\n",
       "        vertical-align: top;\n",
       "    }\n",
       "\n",
       "    .dataframe thead th {\n",
       "        text-align: right;\n",
       "    }\n",
       "</style>\n",
       "<table border=\"1\" class=\"dataframe\">\n",
       "  <thead>\n",
       "    <tr style=\"text-align: right;\">\n",
       "      <th></th>\n",
       "      <th>routes</th>\n",
       "      <th>count</th>\n",
       "      <th>dist</th>\n",
       "      <th>cum_route_dist</th>\n",
       "    </tr>\n",
       "  </thead>\n",
       "  <tbody>\n",
       "    <tr>\n",
       "      <th>0</th>\n",
       "      <td>(denver, rino)</td>\n",
       "      <td>37</td>\n",
       "      <td>2.0</td>\n",
       "      <td>74.0</td>\n",
       "    </tr>\n",
       "    <tr>\n",
       "      <th>1</th>\n",
       "      <td>(wheatridge, edgewater)</td>\n",
       "      <td>33</td>\n",
       "      <td>2.0</td>\n",
       "      <td>66.0</td>\n",
       "    </tr>\n",
       "    <tr>\n",
       "      <th>2</th>\n",
       "      <td>(rino, denver)</td>\n",
       "      <td>31</td>\n",
       "      <td>1.9</td>\n",
       "      <td>58.9</td>\n",
       "    </tr>\n",
       "    <tr>\n",
       "      <th>3</th>\n",
       "      <td>(edgewater, wheatridge)</td>\n",
       "      <td>28</td>\n",
       "      <td>2.0</td>\n",
       "      <td>56.0</td>\n",
       "    </tr>\n",
       "    <tr>\n",
       "      <th>4</th>\n",
       "      <td>(wheatridge, lakewood)</td>\n",
       "      <td>25</td>\n",
       "      <td>4.8</td>\n",
       "      <td>120.0</td>\n",
       "    </tr>\n",
       "    <tr>\n",
       "      <th>5</th>\n",
       "      <td>(edgewater, denver)</td>\n",
       "      <td>21</td>\n",
       "      <td>5.0</td>\n",
       "      <td>105.0</td>\n",
       "    </tr>\n",
       "    <tr>\n",
       "      <th>6</th>\n",
       "      <td>(lakewood, wheatridge)</td>\n",
       "      <td>21</td>\n",
       "      <td>12.0</td>\n",
       "      <td>252.0</td>\n",
       "    </tr>\n",
       "    <tr>\n",
       "      <th>7</th>\n",
       "      <td>(edgewater, lakewood)</td>\n",
       "      <td>19</td>\n",
       "      <td>4.4</td>\n",
       "      <td>83.6</td>\n",
       "    </tr>\n",
       "    <tr>\n",
       "      <th>8</th>\n",
       "      <td>(rino, wheatridge)</td>\n",
       "      <td>18</td>\n",
       "      <td>7.5</td>\n",
       "      <td>135.0</td>\n",
       "    </tr>\n",
       "    <tr>\n",
       "      <th>9</th>\n",
       "      <td>(lakewood, edgewater)</td>\n",
       "      <td>18</td>\n",
       "      <td>4.3</td>\n",
       "      <td>77.4</td>\n",
       "    </tr>\n",
       "    <tr>\n",
       "      <th>10</th>\n",
       "      <td>(wheatridge, rino)</td>\n",
       "      <td>13</td>\n",
       "      <td>7.8</td>\n",
       "      <td>101.4</td>\n",
       "    </tr>\n",
       "    <tr>\n",
       "      <th>11</th>\n",
       "      <td>(denver, lakewood)</td>\n",
       "      <td>13</td>\n",
       "      <td>8.0</td>\n",
       "      <td>104.0</td>\n",
       "    </tr>\n",
       "    <tr>\n",
       "      <th>12</th>\n",
       "      <td>(wheatridge, denver)</td>\n",
       "      <td>10</td>\n",
       "      <td>6.3</td>\n",
       "      <td>63.0</td>\n",
       "    </tr>\n",
       "    <tr>\n",
       "      <th>13</th>\n",
       "      <td>(rino, edgewater)</td>\n",
       "      <td>7</td>\n",
       "      <td>7.8</td>\n",
       "      <td>54.6</td>\n",
       "    </tr>\n",
       "    <tr>\n",
       "      <th>14</th>\n",
       "      <td>(rino, lakewood)</td>\n",
       "      <td>7</td>\n",
       "      <td>10.7</td>\n",
       "      <td>74.9</td>\n",
       "    </tr>\n",
       "    <tr>\n",
       "      <th>15</th>\n",
       "      <td>(edgewater, rino)</td>\n",
       "      <td>5</td>\n",
       "      <td>7.7</td>\n",
       "      <td>38.5</td>\n",
       "    </tr>\n",
       "    <tr>\n",
       "      <th>16</th>\n",
       "      <td>(lakewood, rino)</td>\n",
       "      <td>5</td>\n",
       "      <td>11.0</td>\n",
       "      <td>55.0</td>\n",
       "    </tr>\n",
       "    <tr>\n",
       "      <th>17</th>\n",
       "      <td>(denver, edgewater)</td>\n",
       "      <td>4</td>\n",
       "      <td>5.1</td>\n",
       "      <td>20.4</td>\n",
       "    </tr>\n",
       "    <tr>\n",
       "      <th>18</th>\n",
       "      <td>(denver, wheatridge)</td>\n",
       "      <td>3</td>\n",
       "      <td>6.3</td>\n",
       "      <td>18.9</td>\n",
       "    </tr>\n",
       "    <tr>\n",
       "      <th>19</th>\n",
       "      <td>(lakewood, denver)</td>\n",
       "      <td>3</td>\n",
       "      <td>7.5</td>\n",
       "      <td>22.5</td>\n",
       "    </tr>\n",
       "  </tbody>\n",
       "</table>\n",
       "</div>"
      ],
      "text/plain": [
       "                     routes  count  dist  cum_route_dist\n",
       "0            (denver, rino)     37   2.0            74.0\n",
       "1   (wheatridge, edgewater)     33   2.0            66.0\n",
       "2            (rino, denver)     31   1.9            58.9\n",
       "3   (edgewater, wheatridge)     28   2.0            56.0\n",
       "4    (wheatridge, lakewood)     25   4.8           120.0\n",
       "5       (edgewater, denver)     21   5.0           105.0\n",
       "6    (lakewood, wheatridge)     21  12.0           252.0\n",
       "7     (edgewater, lakewood)     19   4.4            83.6\n",
       "8        (rino, wheatridge)     18   7.5           135.0\n",
       "9     (lakewood, edgewater)     18   4.3            77.4\n",
       "10       (wheatridge, rino)     13   7.8           101.4\n",
       "11       (denver, lakewood)     13   8.0           104.0\n",
       "12     (wheatridge, denver)     10   6.3            63.0\n",
       "13        (rino, edgewater)      7   7.8            54.6\n",
       "14         (rino, lakewood)      7  10.7            74.9\n",
       "15        (edgewater, rino)      5   7.7            38.5\n",
       "16         (lakewood, rino)      5  11.0            55.0\n",
       "17      (denver, edgewater)      4   5.1            20.4\n",
       "18     (denver, wheatridge)      3   6.3            18.9\n",
       "19       (lakewood, denver)      3   7.5            22.5"
      ]
     },
     "metadata": {},
     "output_type": "display_data"
    }
   ],
   "source": [
    "clinic_distances = {\n",
    "    ('denver', 'rino'): 2, \n",
    "    ('wheatridge', 'edgewater'): 2,\n",
    "    ('rino', 'denver'): 1.9, \n",
    "    ('edgewater', 'wheatridge'): 2,\n",
    "    ('wheatridge', 'lakewood'): 4.8, \n",
    "    ('rino', 'wheatridge'): 7.5,\n",
    "    ('edgewater', 'denver'): 5,  \n",
    "    ('lakewood', 'wheatridge'): 12,\n",
    "    ('wheatridge', 'denver'): 6.3,  \n",
    "    ('edgewater', 'lakewood'): 4.4,\n",
    "    ('denver', 'lakewood'): 8,  \n",
    "    ('lakewood', 'edgewater'): 4.3,\n",
    "    ('wheatridge', 'rino'): 7.8,  \n",
    "    ('rino', 'lakewood'): 10.7,\n",
    "    ('denver', 'edgewater'): 5.1,  \n",
    "    ('lakewood', 'rino'): 11,\n",
    "    ('rino', 'edgewater'): 7.8,  \n",
    "    ('edgewater', 'rino'): 7.7,\n",
    "    ('lakewood', 'denver'): 7.5,   \n",
    "    ('denver', 'wheatridge'): 6.3\n",
    "}\n",
    "print('Number of movements total (May 2022):', len(movements))\n",
    "distances = pd.DataFrame(pd.Series(movements).value_counts()).reset_index(drop=False).rename(columns={'index': 'routes', 0: 'count'})\n",
    "distances['dist'] = distances.routes.map(clinic_distances)\n",
    "distances['cum_route_dist'] = distances[['count', 'dist']].apply(lambda x: x[0] * x[1], axis=1)\n",
    "total_distance = round(distances.cum_route_dist.sum())\n",
    "print(total_distance)\n",
    "display(distances)"
   ]
  },
  {
   "cell_type": "code",
   "execution_count": 153,
   "metadata": {},
   "outputs": [
    {
     "name": "stdout",
     "output_type": "stream",
     "text": [
      "Gas money reimbursements to technicians for navigation moves (for May 2022):  263.94\n"
     ]
    }
   ],
   "source": [
    "avg_gas_price =  4.04  # avg gas price in Denver\n",
    "avg_mpg = 24.2  # US Dept of Energy\n",
    "\n",
    "print('Gas money reimbursements to technicians for navigation moves (for May 2022): ', round(total_distance / avg_mpg * avg_gas_price, 2))"
   ]
  },
  {
   "cell_type": "markdown",
   "metadata": {},
   "source": [
    "For these 5 clinics in the region, you can schedule 5 technicians less per day and still maintain productivity through TecNav. With an average wage of $21/hr for technicians, this would equate to $91980 saved in compensation over an entire year ($7665/month). Note: These savings only account for the wage compensation and not savings on any additional employee benefits. There were 357 amount of moves that occured through TecNav in a single month--this would lead to an estimated $263.94 of gas compensation per month, equating to about $9100 per year. So accounting for this, the urgent care chain would save about $88812.72 for an entire year. This money could be instead invested in further advanced diagnostic tools & imaging equipment that could help the client offer a more comprehensive set of health services or help minimize medical costs for the patients--both of which align with the overall mission of the client's urgent care chain. "
   ]
  }
 ],
 "metadata": {
  "application/vnd.databricks.v1+notebook": {
   "dashboards": [],
   "language": "python",
   "notebookMetadata": {
    "pythonIndentUnit": 4
   },
   "notebookName": "uc_navigator",
   "notebookOrigID": 2193271910545027,
   "widgets": {}
  },
  "interpreter": {
   "hash": "07b90d2d375ad50716cf6053fc77a0aeb63a40628fe2045776822ae3d867faeb"
  },
  "kernelspec": {
   "display_name": "Python 3.8.13 ('base')",
   "language": "python",
   "name": "python3"
  },
  "language_info": {
   "codemirror_mode": {
    "name": "ipython",
    "version": 3
   },
   "file_extension": ".py",
   "mimetype": "text/x-python",
   "name": "python",
   "nbconvert_exporter": "python",
   "pygments_lexer": "ipython3",
   "version": "3.8.13"
  }
 },
 "nbformat": 4,
 "nbformat_minor": 4
}
